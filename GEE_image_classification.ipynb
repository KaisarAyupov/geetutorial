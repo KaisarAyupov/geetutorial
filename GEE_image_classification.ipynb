{
 "cells": [
  {
   "cell_type": "markdown",
   "metadata": {},
   "source": [
    "______\n",
    "<img style=\"float: right;\" src=\"./images/headerlogo.png\">\n",
    "## Google Earth Engine Tutorial\n",
    "### Image Classification\n",
    "_____"
   ]
  },
  {
   "cell_type": "markdown",
   "metadata": {
    "collapsed": true
   },
   "source": [
    "Image classification means mapping the values captured by remote sensors that are encoded as image digital levels to specific land cover types. <br>\n",
    "Classifying remotely sensed data into a thematic map is a relevant task beacuse the resulting information is the basis for many environmental and socioeconomic applications. In this example, a crop map type is produced by applying a [*supervised*](https://en.wikipedia.org/wiki/Supervised_learning) [*Random Forest*](https://en.wikipedia.org/wiki/Random_forest) algorithm. "
   ]
  },
  {
   "cell_type": "markdown",
   "metadata": {},
   "source": [
    "#### Supervised Classification"
   ]
  },
  {
   "cell_type": "markdown",
   "metadata": {},
   "source": [
    "A supervised classification method consists of training a classifier (algorithm) using (ground) truth data to classify  subsequently unseen data. <br>\n",
    "The process flow in a supervised classification includes basically, the following steps:\n",
    "* Collect the ground data. This data is used to train the classifier and validate its results.\n",
    "* Train the classifier.\n",
    "* Apply the classifier to produce a classified image.\n",
    "* Assess the classification accuracy."
   ]
  },
  {
   "cell_type": "code",
   "execution_count": 6,
   "metadata": {
    "collapsed": false
   },
   "outputs": [
    {
     "data": {
      "text/html": [
       "<img src=\"https://earthengine.googleapis.com/api/thumb?thumbid=27475a6f49961e81335e287011c043a1&token=c6fbc1c117978f0a5df0ee618370255a\"/>"
      ],
      "text/plain": [
       "<IPython.core.display.Image object>"
      ]
     },
     "execution_count": 6,
     "metadata": {},
     "output_type": "execute_result"
    }
   ],
   "source": [
    "import ee\n",
    "from IPython.display import Image\n",
    "ee.Initialize()\n",
    "# Load the image\n",
    "image= ee.Image('users/rosamaguilar/tutorial/subset')\n",
    "Image(url=image.getThumbUrl({'min': 0, 'max': 2048,'bands': 'b5,b3,b2'}))"
   ]
  },
  {
   "cell_type": "code",
   "execution_count": 7,
   "metadata": {
    "collapsed": false
   },
   "outputs": [],
   "source": [
    "# Two fusion tables previously created will be used for training set and a testing set. These tables contain ground truth data\n",
    "# Load tables into feature collection\n",
    "TR = ee.FeatureCollection('ft:11shsjBBaQQq-gTWd4M3QGl32GF47_eT5GVcQaKYO')\n",
    "TS = ee.FeatureCollection('ft:1O8qBNitB6Z3iyrX5-B0mA2I1HnH05Qw8cDmsbaNj')"
   ]
  },
  {
   "cell_type": "code",
   "execution_count": 8,
   "metadata": {
    "collapsed": false
   },
   "outputs": [
    {
     "name": "stdout",
     "output_type": "stream",
     "text": [
      "['b2', 'b3', 'b4', 'b5', 'b6', 'b7', 'b8', 'b1']\n"
     ]
    }
   ],
   "source": [
    "# get feature names to use in classification\n",
    "feats = TR.first().propertyNames()\n",
    "# remove AA_Class that is the label, system:index that is an internal attribute and myid that is not relevant for classification\n",
    "feats = feats.removeAll(['AA_Class','myid','system:index'])  \n",
    "print(feats.getInfo())"
   ]
  },
  {
   "cell_type": "code",
   "execution_count": 9,
   "metadata": {
    "collapsed": false
   },
   "outputs": [
    {
     "name": "stdout",
     "output_type": "stream",
     "text": [
      "Confusion Matrix for testing set\n",
      "[[108, 34, 6, 11, 15],\n",
      " [31, 134, 16, 34, 9],\n",
      " [24, 22, 47, 16, 4],\n",
      " [19, 38, 14, 120, 26],\n",
      " [14, 31, 4, 26, 130]]\n",
      "RF OA:  0.5777063236870311 RF kappa:  0.46405811934410174\n"
     ]
    }
   ],
   "source": [
    "import pprint\n",
    "# define an train  Random Forest clasifier\n",
    "rf = ee.Classifier.randomForest(10).train(TR, \"AA_Class\", feats) \n",
    "# apply the classifier to the training test for accuracy assessment\n",
    "result = TS.classify(rf, \"rfclass\")\n",
    "# Calculate the confusion matrix\n",
    "error = result.errorMatrix('AA_Class', 'rfclass')\n",
    "errMatrix = error.array().slice(0, 1, 6).slice(1, 1, 6)\n",
    "print(\"Confusion Matrix for testing set\")\n",
    "pprint.pprint(errMatrix.getInfo())\n",
    "# Extract Overall accuracy and kappa coefficient\n",
    "rf_oa_ts = result.errorMatrix('AA_Class', 'rfclass').accuracy().getInfo()\n",
    "rf_kappa_ts = result.errorMatrix('AA_Class', 'rfclass').kappa().getInfo()\n",
    "print(\"RF OA: \",rf_oa_ts, \"RF kappa: \",rf_kappa_ts )"
   ]
  },
  {
   "cell_type": "code",
   "execution_count": 10,
   "metadata": {
    "collapsed": false
   },
   "outputs": [
    {
     "data": {
      "text/html": [
       "<img src=\"https://earthengine.googleapis.com/api/thumb?thumbid=eff8bbb0e9a7cfd882c5ba707a2a065a&token=2f0c6817fa58e03c234de0537b18648b\"/>"
      ],
      "text/plain": [
       "<IPython.core.display.Image object>"
      ]
     },
     "execution_count": 10,
     "metadata": {},
     "output_type": "execute_result"
    }
   ],
   "source": [
    "# classify the image and display result\n",
    "classified = image.classify(rf, \"rfclass\")\n",
    "clas_col = ','.join(['000000','bdc3c7','1e8449','d68910','2ecc71','f9e79f'])   \n",
    "Image(url = classified.getThumbUrl({'min': 0, 'max': 5, 'palette':clas_col}))\n"
   ]
  },
  {
   "cell_type": "markdown",
   "metadata": {
    "collapsed": true
   },
   "source": [
    "Classification result could be improved by adding more data such as vegetation indices and textural features. You may try to perform a new classification considering those features."
   ]
  },
  {
   "cell_type": "code",
   "execution_count": null,
   "metadata": {
    "collapsed": true
   },
   "outputs": [],
   "source": []
  }
 ],
 "metadata": {
  "kernelspec": {
   "display_name": "Python 3",
   "language": "python",
   "name": "python3"
  },
  "language_info": {
   "codemirror_mode": {
    "name": "ipython",
    "version": 3
   },
   "file_extension": ".py",
   "mimetype": "text/x-python",
   "name": "python",
   "nbconvert_exporter": "python",
   "pygments_lexer": "ipython3",
   "version": "3.5.1"
  }
 },
 "nbformat": 4,
 "nbformat_minor": 2
}
