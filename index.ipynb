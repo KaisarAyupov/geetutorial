{
 "cells": [
  {
   "cell_type": "markdown",
   "metadata": {},
   "source": [
    "______\n",
    "<img style=\"float: right;\" src=\"./images/headerlogo.png\">\n",
    "## Google Earth Engine (GEE) Tutorial\n",
    "_____"
   ]
  },
  {
   "cell_type": "markdown",
   "metadata": {},
   "source": [
    "This *tutorial* covers basic image processing in Google Earth Engine (GEE). Its purpose is to provide a user guide of GEE when using its python API. As a basic tutorial, it covers common tasks for data loading, image visualisation and processing. An example of image classification is provided and the ending topic is exporting results to eithera cloud platform or a local drive."
   ]
  },
  {
   "cell_type": "markdown",
   "metadata": {},
   "source": [
    "**Content:**\n",
    "\n",
    "[1. Installation](GEE_installation.ipynb) <br>\n",
    "[2. Data loading](GEE_data_load.ipynb)<br>\n",
    "[3. Basic visualisation](GEE_basic_visualisation.ipynb)<br>\n",
    "[4. Histograms](GEE_histograms.ipynb)<br>\n",
    "[5. Linear filters](GEE_linear_filters.ipynb)<br>\n",
    "[6. Non linear filters](GEE_nonlinear_filters.ipynb)<br>\n",
    "[7. Feature extraction](GEE_feature_extraction.ipynb)<br>\n",
    "[8. Classification](GEE_image_classification.ipynb)<br>\n",
    "[9. Image Algebra](GEE_image_algebra.ipynb)<br>\n",
    "[10. Subset and export data](GEE_subset_export.ipynb)<br>\n",
    "\n"
   ]
  },
  {
   "cell_type": "markdown",
   "metadata": {},
   "source": [
    "This tutorial is granted as is, free of charge for research and education purposes only. All functions were tested in Python 3.5. <br>\n",
    " Author:      Aguilar, R., Zurita-Milla, R., Izquierdo-Verdiguier E.<br>\n",
    " Created:     31/05/2017<br>\n",
    " Copyright:   (c) aguilar 2017<br>\n",
    " \n",
    "For further questions or if you plan to use it for non-scientific purposes, don't hesitate to contact me: r.m.aguilardearchila@utwente.nl"
   ]
  },
  {
   "cell_type": "code",
   "execution_count": null,
   "metadata": {
    "collapsed": true
   },
   "outputs": [],
   "source": []
  }
 ],
 "metadata": {
  "kernelspec": {
   "display_name": "Python 3",
   "language": "python",
   "name": "python3"
  },
  "language_info": {
   "codemirror_mode": {
    "name": "ipython",
    "version": 3
   },
   "file_extension": ".py",
   "mimetype": "text/x-python",
   "name": "python",
   "nbconvert_exporter": "python",
   "pygments_lexer": "ipython3",
   "version": "3.5.1"
  }
 },
 "nbformat": 4,
 "nbformat_minor": 2
}
