{
 "cells": [
  {
   "cell_type": "markdown",
   "metadata": {},
   "source": [
    "______\n",
    "<img style=\"float: right;\" src=\"./images/headerlogo.png\">\n",
    "## Google Earth Engine Tutorial\n",
    "### Data loading\n",
    "_____"
   ]
  },
  {
   "cell_type": "markdown",
   "metadata": {},
   "source": [
    "GEE provides a playground or javascript interface where users can manage their assets, create scripts and visualize results. This interface is available in https://code.earthengine.google.com/. Although we will use the python API of GEE, in this part of the tutorial we will use the javascript interface to load data. Later on, we will learn how to do it programatically. \n"
   ]
  },
  {
   "cell_type": "markdown",
   "metadata": {},
   "source": [
    "#### Overview of GEE web interface"
   ]
  },
  {
   "cell_type": "markdown",
   "metadata": {},
   "source": [
    "We can distinguish 4 main areas as the image below shows. \n",
    "1. Left panel. Here we have three tabs: <i>scripts</i>, <i>asset</i> and <i>docs</i>. \n",
    "2. Middle panel. A script editor.\n",
    "3. Right panel. It consist of three tabs: <i>Inspector</i>, <i>console</i> and <i>tasks</i>. \n",
    "4. Map area. We can add visualize data it in this section or edit features.<br> \n",
    "![alt text](./images/GEE_overview.png \"Create a folder in GEE\")"
   ]
  },
  {
   "cell_type": "markdown",
   "metadata": {},
   "source": [
    "#### Loading an image"
   ]
  },
  {
   "cell_type": "markdown",
   "metadata": {},
   "source": [
    "GEE has a large amount of Earth data free available for researchers. However, sometimes we need to process our own data.To add our images in GEE. We will create a new folder **tutorial**.\n",
    "![alt text](./images/create_folder_gee2.png \"Create a folder in GEE\")"
   ]
  },
  {
   "cell_type": "code",
   "execution_count": null,
   "metadata": {
    "collapsed": true
   },
   "outputs": [],
   "source": [
    "We will load the image *subset.tif* that is a subset of a Worldview-2 image and it was acquired in 2014.\n",
    "Load the image in your GEE asset as can be seen in the image below. For now, keep the default options.\n",
    "![alt text](./images/insert_image.png \"Insert image in the tutorial folder\")\n"
   ]
  },
  {
   "cell_type": "markdown",
   "metadata": {},
   "source": [
    "Now that we can see the image loaded in the asset manager and look at its preview by clicking over it. <br>\n",
    "![alt text](./images/view_image_asset.png \"Insert image in the tutorial folder\")"
   ]
  },
  {
   "cell_type": "markdown",
   "metadata": {
    "collapsed": true
   },
   "source": [
    "Besides of the preview, the window displays name, id,  date, size, date of last modification and properties, if any, of the image. Per each band, we can observe the correspoding index, name, data type and dimensions in pixels.   A more comprehensive metadata information can be obtained by using *getInfo()* as we can see in the following example:"
   ]
  },
  {
   "cell_type": "code",
   "execution_count": 1,
   "metadata": {
    "collapsed": false
   },
   "outputs": [
    {
     "name": "stdout",
     "output_type": "stream",
     "text": [
      "{'bands': [{'crs': 'EPSG:32630',\n",
      "         'crs_transform': [2.0009777545928955, 0.0, 260323.03819620793, 0.0,\n",
      "                          -2.0009777545928955, 1346325.1740949643],\n",
      "         'data_type': {'max': 65535,\n",
      "                      'min': 0,\n",
      "                      'precision': 'int',\n",
      "                      'type': 'PixelType'},\n",
      "         'dimensions': [686, 563],\n",
      "         'id': 'b1'},\n",
      "         {'crs': 'EPSG:32630',\n",
      "         'crs_transform': [2.0009777545928955, 0.0, 260323.03819620793, 0.0,\n",
      "                          -2.0009777545928955, 1346325.1740949643],\n",
      "         'data_type': {'max': 65535,\n",
      "                      'min': 0,\n",
      "                      'precision': 'int',\n",
      "                      'type': 'PixelType'},\n",
      "         'dimensions': [686, 563],\n",
      "         'id': 'b2'},\n",
      "         {'crs': 'EPSG:32630',\n",
      "         'crs_transform': [2.0009777545928955, 0.0, 260323.03819620793, 0.0,\n",
      "                          -2.0009777545928955, 1346325.1740949643],\n",
      "         'data_type': {'max': 65535,\n",
      "                      'min': 0,\n",
      "                      'precision': 'int',\n",
      "                      'type': 'PixelType'},\n",
      "         'dimensions': [686, 563],\n",
      "         'id': 'b3'},\n",
      "         {'crs': 'EPSG:32630',\n",
      "         'crs_transform': [2.0009777545928955, 0.0, 260323.03819620793, 0.0,\n",
      "                          -2.0009777545928955, 1346325.1740949643],\n",
      "         'data_type': {'max': 65535,\n",
      "                      'min': 0,\n",
      "                      'precision': 'int',\n",
      "                      'type': 'PixelType'},\n",
      "         'dimensions': [686, 563],\n",
      "         'id': 'b4'},\n",
      "         {'crs': 'EPSG:32630',\n",
      "         'crs_transform': [2.0009777545928955, 0.0, 260323.03819620793, 0.0,\n",
      "                          -2.0009777545928955, 1346325.1740949643],\n",
      "         'data_type': {'max': 65535,\n",
      "                      'min': 0,\n",
      "                      'precision': 'int',\n",
      "                      'type': 'PixelType'},\n",
      "         'dimensions': [686, 563],\n",
      "         'id': 'b5'},\n",
      "         {'crs': 'EPSG:32630',\n",
      "         'crs_transform': [2.0009777545928955, 0.0, 260323.03819620793, 0.0,\n",
      "                          -2.0009777545928955, 1346325.1740949643],\n",
      "         'data_type': {'max': 65535,\n",
      "                      'min': 0,\n",
      "                      'precision': 'int',\n",
      "                      'type': 'PixelType'},\n",
      "         'dimensions': [686, 563],\n",
      "         'id': 'b6'},\n",
      "         {'crs': 'EPSG:32630',\n",
      "         'crs_transform': [2.0009777545928955, 0.0, 260323.03819620793, 0.0,\n",
      "                          -2.0009777545928955, 1346325.1740949643],\n",
      "         'data_type': {'max': 65535,\n",
      "                      'min': 0,\n",
      "                      'precision': 'int',\n",
      "                      'type': 'PixelType'},\n",
      "         'dimensions': [686, 563],\n",
      "         'id': 'b7'},\n",
      "         {'crs': 'EPSG:32630',\n",
      "         'crs_transform': [2.0009777545928955, 0.0, 260323.03819620793, 0.0,\n",
      "                          -2.0009777545928955, 1346325.1740949643],\n",
      "         'data_type': {'max': 65535,\n",
      "                      'min': 0,\n",
      "                      'precision': 'int',\n",
      "                      'type': 'PixelType'},\n",
      "         'dimensions': [686, 563],\n",
      "         'id': 'b8'}],\n",
      "'id': 'users/rosamaguilar/tutorial/subset',\n",
      "'properties': {'system:asset_size': 5839050,\n",
      "              'system:footprint': {'coordinates': [[-5.2025191570512765,\n",
      "                                                 12.159825582803961],\n",
      "                                                 [-5.202516851635505,\n",
      "                                                 12.159825459718073],\n",
      "                                                 [-5.189927460512273,\n",
      "                                                 12.15992551735162],\n",
      "                                                 [-5.189919034443333,\n",
      "                                                 12.159932901288647],\n",
      "                                                 [-5.189909729639849,\n",
      "                                                 12.159939196772044],\n",
      "                                                 [-5.189909178271649,\n",
      "                                                 12.159942159884043],\n",
      "                                                 [-5.189992426450091,\n",
      "                                                 12.170105809735732],\n",
      "                                                 [-5.189999980265262,\n",
      "                                                 12.17011404853716],\n",
      "                                                 [-5.190006422302447,\n",
      "                                                 12.170123145052345],\n",
      "                                                 [-5.190008690214821,\n",
      "                                                 12.17012354831131],\n",
      "                                                 [-5.190010995831953,\n",
      "                                                 12.170123671499278],\n",
      "                                                 [-5.202600866228118,\n",
      "                                                 12.170023527763393],\n",
      "                                                 [-5.202609292178024,\n",
      "                                                 12.170016143418682],\n",
      "                                                 [-5.202618596995535,\n",
      "                                                 12.170009847540083],\n",
      "                                                 [-5.20261914824336,\n",
      "                                                 12.170006884346753],\n",
      "                                                 [-5.2025354210176005,\n",
      "                                                 12.159843320651753],\n",
      "                                                 [-5.202527867137842,\n",
      "                                                 12.159835082220859],\n",
      "                                                 [-5.202521425008991,\n",
      "                                                 12.159825985989212],\n",
      "                                                 [-5.2025191570512765,\n",
      "                                                 12.159825582803961]],\n",
      "                                  'type': 'LinearRing'}},\n",
      "'type': 'Image',\n",
      "'version': 1494355520584000}\n"
     ]
    }
   ],
   "source": [
    "# import pretty print package\n",
    "import pprint\n",
    "# import earth engine (ee) python package\n",
    "import ee \n",
    "# Initialize the Earth Engine object, using the authentication credentials.\n",
    "ee.Initialize() \n",
    "# load the image \n",
    "image = ee.Image(\"users/rosamaguilar/tutorial/subset\")\n",
    "# print metadata\n",
    "pprint.pprint(image.getInfo(), indent = 0.2, compact = True )\n",
    "# please note that we should use getInfo to retrieve the value of a variable or object. "
   ]
  },
  {
   "cell_type": "code",
   "execution_count": 2,
   "metadata": {
    "collapsed": false
   },
   "outputs": [
    {
     "name": "stdout",
     "output_type": "stream",
     "text": [
      "['b1', 'b2', 'b3', 'b4', 'b5', 'b6', 'b7', 'b8']\n"
     ]
    }
   ],
   "source": [
    "#List name of bands\n",
    "print(image.bandNames().getInfo())"
   ]
  },
  {
   "cell_type": "code",
   "execution_count": 3,
   "metadata": {
    "collapsed": false
   },
   "outputs": [
    {
     "name": "stdout",
     "output_type": "stream",
     "text": [
      "{'crs': 'EPSG:32630',\n",
      " 'transform': [2.0009777545928955,\n",
      "               0.0,\n",
      "               260323.03819620793,\n",
      "               0.0,\n",
      "               -2.0009777545928955,\n",
      "               1346325.1740949643],\n",
      " 'type': 'Projection'}\n",
      "Image scale:  2.0009777545928955\n"
     ]
    }
   ],
   "source": [
    "# print CRS information of the image \n",
    "pprint.pprint(image.projection().getInfo())\n",
    "# Retrieve scale of the image from its projecton\n",
    "imScale = image.projection().nominalScale()\n",
    "print('Image scale: ', imScale.getInfo())\n",
    "# for more information about scale in GEE, see the document: https://developers.google.com/earth-engine/scale"
   ]
  },
  {
   "cell_type": "markdown",
   "metadata": {},
   "source": [
    "We will use this image later on for visualisation and other operations. "
   ]
  },
  {
   "cell_type": "markdown",
   "metadata": {},
   "source": [
    "#### Loading vector data "
   ]
  },
  {
   "cell_type": "markdown",
   "metadata": {},
   "source": [
    "A *feature* is defined in GEE as a  [GeoJSON feature object](https://tools.ietf.org/html/rfc7946#section-3.2). This means that a feature is spatially bounded with *geometry* (can be null), *properties* and *id*. A *feature collection* in GEE is used to group a collection of related features. A *feature collection* may contain features, properties and other collections. \n",
    "\n",
    "There are several ways to create a feature collection. In this example we will load a data table [fusion table (ft)](fusiontables.google.com) into a feature collection.  A ft can be created from CSV, KML files, spreadsheets (.xls, .xlsx, .ods and google), and other text-delimited files. After creating a fusion table we can use its id to create a GEE feature collection as can be see below. Shapefiles can also be uploaded to GEE <br>"
   ]
  },
  {
   "cell_type": "code",
   "execution_count": 4,
   "metadata": {
    "collapsed": true
   },
   "outputs": [],
   "source": [
    "# Load feature collection from the fusion table \n",
    "fc = ee.FeatureCollection ('ft:1K41m-umQ1K8Ys-9bVTqoEYzwKD6xEzIVTPELdVkK')"
   ]
  },
  {
   "cell_type": "code",
   "execution_count": 5,
   "metadata": {
    "collapsed": false
   },
   "outputs": [
    {
     "name": "stdout",
     "output_type": "stream",
     "text": [
      "{'columns': {'class': 'Number',\n",
      "             'description': 'String',\n",
      "             'id': 'Number',\n",
      "             'name': 'String'},\n",
      " 'features': [{'geometry': {'coordinates': [[[-5.199613999999999,\n",
      "                                              12.165225000000001],\n",
      "                                             [-5.1990310000000015, 12.165136],\n",
      "                                             [-5.198975, 12.165533],\n",
      "                                             [-5.199543, 12.165571],\n",
      "                                             [-5.199613999999999,\n",
      "                                              12.165225000000001]]],\n",
      "                            'geodesic': True,\n",
      "                            'type': 'Polygon'},\n",
      "               'id': '2',\n",
      "               'properties': {'class': 5.0,\n",
      "                              'description': '',\n",
      "                              'id': 1.0,\n",
      "                              'name': ''},\n",
      "               'type': 'Feature'},\n",
      "              {'geometry': {'coordinates': [[[-5.201773, 12.16407],\n",
      "                                             [-5.200976999999998,\n",
      "                                              12.164202999999999],\n",
      "                                             [-5.201564, 12.164885],\n",
      "                                             [-5.201773, 12.16407]]],\n",
      "                            'geodesic': True,\n",
      "                            'type': 'Polygon'},\n",
      "               'id': '3',\n",
      "               'properties': {'class': 2.0,\n",
      "                              'description': '',\n",
      "                              'id': 2.0,\n",
      "                              'name': ''},\n",
      "               'type': 'Feature'},\n",
      "              {'geometry': {'coordinates': [[[-5.1967729999999985,\n",
      "                                              12.167687000000004],\n",
      "                                             [-5.196262, 12.167743999999997],\n",
      "                                             [-5.196262, 12.168028],\n",
      "                                             [-5.196488999999999, 12.168256],\n",
      "                                             [-5.1967729999999985,\n",
      "                                              12.168198999999996],\n",
      "                                             [-5.1967729999999985,\n",
      "                                              12.167687000000004]]],\n",
      "                            'geodesic': True,\n",
      "                            'type': 'Polygon'},\n",
      "               'id': '4',\n",
      "               'properties': {'class': 4.0,\n",
      "                              'description': '',\n",
      "                              'id': 4.0,\n",
      "                              'name': ''},\n",
      "               'type': 'Feature'},\n",
      "              {'geometry': {'coordinates': [[[-5.191319, 12.16193],\n",
      "                                             [-5.191149, 12.161627],\n",
      "                                             [-5.191149000000002, 12.161608],\n",
      "                                             [-5.190921, 12.161874],\n",
      "                                             [-5.191072999999999,\n",
      "                                              12.162120000000002],\n",
      "                                             [-5.191186999999999,\n",
      "                                              12.162366000000002],\n",
      "                                             [-5.191319, 12.16193]]],\n",
      "                            'geodesic': True,\n",
      "                            'type': 'Polygon'},\n",
      "               'id': '5',\n",
      "               'properties': {'class': 1.0,\n",
      "                              'description': '',\n",
      "                              'id': 5.0,\n",
      "                              'name': ''},\n",
      "               'type': 'Feature'},\n",
      "              {'geometry': {'coordinates': [[[-5.197701, 12.169183],\n",
      "                                             [-5.197038000000002,\n",
      "                                              12.169297000000006],\n",
      "                                             [-5.197171, 12.169600000000003],\n",
      "                                             [-5.197777, 12.169562],\n",
      "                                             [-5.197701, 12.169183]]],\n",
      "                            'geodesic': True,\n",
      "                            'type': 'Polygon'},\n",
      "               'id': '6',\n",
      "               'properties': {'class': 5.0,\n",
      "                              'description': '',\n",
      "                              'id': 5.0,\n",
      "                              'name': ''},\n",
      "               'type': 'Feature'},\n",
      "              {'geometry': {'coordinates': [[[-5.191678999999998,\n",
      "                                              12.166437000000004],\n",
      "                                             [-5.191414, 12.166456],\n",
      "                                             [-5.191452, 12.166665],\n",
      "                                             [-5.191755, 12.166627],\n",
      "                                             [-5.191678999999998,\n",
      "                                              12.166437000000004]]],\n",
      "                            'geodesic': True,\n",
      "                            'type': 'Polygon'},\n",
      "               'id': '7',\n",
      "               'properties': {'class': 1.0,\n",
      "                              'description': '',\n",
      "                              'id': 6.0,\n",
      "                              'name': ''},\n",
      "               'type': 'Feature'},\n",
      "              {'geometry': {'coordinates': [[[-5.197019000000002, 12.165907],\n",
      "                                             [-5.196754, 12.165888000000002],\n",
      "                                             [-5.196696999999999,\n",
      "                                              12.166059000000002],\n",
      "                                             [-5.196640999999999,\n",
      "                                              12.166059000000002],\n",
      "                                             [-5.196564999999998,\n",
      "                                              12.166228999999998],\n",
      "                                             [-5.197038000000002, 12.166153],\n",
      "                                             [-5.197019000000002, 12.165907]]],\n",
      "                            'geodesic': True,\n",
      "                            'type': 'Polygon'},\n",
      "               'id': '8',\n",
      "               'properties': {'class': 3.0,\n",
      "                              'description': '',\n",
      "                              'id': 7.0,\n",
      "                              'name': ''},\n",
      "               'type': 'Feature'},\n",
      "              {'geometry': {'coordinates': [[[-5.194178999999998,\n",
      "                                              12.160018000000003],\n",
      "                                             [-5.194273, 12.160169000000003],\n",
      "                                             [-5.194348999999999, 12.160377],\n",
      "                                             [-5.194614, 12.160226],\n",
      "                                             [-5.194178999999998,\n",
      "                                              12.160018000000003]]],\n",
      "                            'geodesic': True,\n",
      "                            'type': 'Polygon'},\n",
      "               'id': '9',\n",
      "               'properties': {'class': 4.0,\n",
      "                              'description': '',\n",
      "                              'id': 8.0,\n",
      "                              'name': ''},\n",
      "               'type': 'Feature'},\n",
      "              {'geometry': {'coordinates': [[[-5.192569, 12.161523000000004],\n",
      "                                             [-5.192304000000002, 12.161485],\n",
      "                                             [-5.192304, 12.161694000000006],\n",
      "                                             [-5.1926070000000015,\n",
      "                                              12.161750000000003],\n",
      "                                             [-5.192569, 12.161523000000004]]],\n",
      "                            'geodesic': True,\n",
      "                            'type': 'Polygon'},\n",
      "               'id': '10',\n",
      "               'properties': {'class': 2.0,\n",
      "                              'description': '',\n",
      "                              'id': 9.0,\n",
      "                              'name': ''},\n",
      "               'type': 'Feature'},\n",
      "              {'geometry': {'coordinates': [[[-5.198533999999999,\n",
      "                                              12.162147999999993],\n",
      "                                             [-5.198724000000001,\n",
      "                                              12.161730999999996],\n",
      "                                             [-5.198174, 12.161656],\n",
      "                                             [-5.198023, 12.162053000000004],\n",
      "                                             [-5.198533999999999,\n",
      "                                              12.162147999999993]]],\n",
      "                            'geodesic': True,\n",
      "                            'type': 'Polygon'},\n",
      "               'id': '11',\n",
      "               'properties': {'class': 3.0,\n",
      "                              'description': '',\n",
      "                              'id': 10.0,\n",
      "                              'name': ''},\n",
      "               'type': 'Feature'},\n",
      "              {'geometry': {'coordinates': [[[-5.193653000000002, 12.16407],\n",
      "                                             [-5.193397, 12.164189],\n",
      "                                             [-5.1933880000000014, 12.164255],\n",
      "                                             [-5.193691, 12.164193],\n",
      "                                             [-5.193653000000002, 12.16407]]],\n",
      "                            'geodesic': True,\n",
      "                            'type': 'Polygon'},\n",
      "               'id': '12',\n",
      "               'properties': {'class': 3.0,\n",
      "                              'description': '',\n",
      "                              'id': 11.0,\n",
      "                              'name': ''},\n",
      "               'type': 'Feature'},\n",
      "              {'geometry': {'coordinates': [[[-5.199652000000002, 12.167493],\n",
      "                                             [-5.199652000000002,\n",
      "                                              12.167383999999997],\n",
      "                                             [-5.199608999999998, 12.167313],\n",
      "                                             [-5.1995, 12.167298999999998],\n",
      "                                             [-5.199400999999998,\n",
      "                                              12.167331999999998],\n",
      "                                             [-5.199396000000001,\n",
      "                                              12.167346999999994],\n",
      "                                             [-5.199396000000001, 12.167441],\n",
      "                                             [-5.199391, 12.167498],\n",
      "                                             [-5.199348999999999, 12.167526],\n",
      "                                             [-5.199254000000002, 12.167616],\n",
      "                                             [-5.1995520000000015,\n",
      "                                              12.167640000000004],\n",
      "                                             [-5.199652000000002, 12.167493]]],\n",
      "                            'geodesic': True,\n",
      "                            'type': 'Polygon'},\n",
      "               'id': '13',\n",
      "               'properties': {'class': 1.0,\n",
      "                              'description': '',\n",
      "                              'id': 12.0,\n",
      "                              'name': ''},\n",
      "               'type': 'Feature'}],\n",
      " 'geo_column': 'geometry',\n",
      " 'id': 'ft:1K41m-umQ1K8Ys-9bVTqoEYzwKD6xEzIVTPELdVkK',\n",
      " 'properties': {'DocID': '1K41m-umQ1K8Ys-9bVTqoEYzwKD6xEzIVTPELdVkK',\n",
      "                'name': 'parcel'},\n",
      " 'type': 'FeatureCollection'}\n"
     ]
    }
   ],
   "source": [
    "# getting information about the Feature collection\n",
    "pprint.pprint(fc.getInfo())"
   ]
  },
  {
   "cell_type": "code",
   "execution_count": 6,
   "metadata": {
    "collapsed": false
   },
   "outputs": [
    {
     "name": "stdout",
     "output_type": "stream",
     "text": [
      "['name', 'description', 'id', 'class', 'system:index']\n"
     ]
    }
   ],
   "source": [
    "# listing the attributes in the feature collection\n",
    "print(fc.first().propertyNames().getInfo())"
   ]
  },
  {
   "cell_type": "code",
   "execution_count": 7,
   "metadata": {
    "collapsed": false
   },
   "outputs": [
    {
     "name": "stdout",
     "output_type": "stream",
     "text": [
      "{'geometry': {'coordinates': [[[-5.199613999999999, 12.165225000000001],\n",
      "                               [-5.1990310000000015, 12.165136],\n",
      "                               [-5.198975, 12.165533],\n",
      "                               [-5.199543, 12.165571],\n",
      "                               [-5.199613999999999, 12.165225000000001]]],\n",
      "              'geodesic': True,\n",
      "              'type': 'Polygon'},\n",
      " 'id': '2',\n",
      " 'properties': {'class': 5.0, 'description': '', 'id': 1.0, 'name': ''},\n",
      " 'type': 'Feature'}\n"
     ]
    }
   ],
   "source": [
    "# getting information about one feature (the first)\n",
    "pprint.pprint(fc.first().getInfo())"
   ]
  },
  {
   "cell_type": "markdown",
   "metadata": {},
   "source": [
    "This feature collection will be used in following sections. More details about size and file types in fusion tables can be found [here] (https://support.google.com/fusiontables/answer/171181)"
   ]
  }
 ],
 "metadata": {
  "kernelspec": {
   "display_name": "Python 3",
   "language": "python",
   "name": "python3"
  },
  "language_info": {
   "codemirror_mode": {
    "name": "ipython",
    "version": 3
   },
   "file_extension": ".py",
   "mimetype": "text/x-python",
   "name": "python",
   "nbconvert_exporter": "python",
   "pygments_lexer": "ipython3",
   "version": "3.5.1"
  }
 },
 "nbformat": 4,
 "nbformat_minor": 2
}
