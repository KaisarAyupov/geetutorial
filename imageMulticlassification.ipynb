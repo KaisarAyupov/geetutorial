{
 "cells": [
  {
   "cell_type": "code",
   "execution_count": 17,
   "metadata": {
    "collapsed": true
   },
   "outputs": [],
   "source": [
    "import os\n",
    "import ee\n",
    "\n",
    "ee.Initialize()\n",
    "\n",
    "#====================parameters\n",
    "root = 'E:/itc-stars/code/'\n",
    "imagepath = 'baseClassifiedImagesPath.txt'\n",
    "\n",
    "\n",
    "# ======================================load the classified   images\n",
    "os.chdir(root)\n",
    "ID_Image = open(root + imagepath, 'r')\n",
    "lstimages = ID_Image.readlines()\n",
    "lstimages = list(map(str.strip,lstimages))\n",
    "\n",
    "# ==============================geometry and region to clip and export results\n",
    "image = ee.Image(lstimages[0])\n",
    "geom = image.geometry()\n",
    "region = image.geometry().bounds().getInfo()['coordinates'][0]\n",
    "#print(geom.getInfo())\n",
    "\n",
    "\n",
    "# =====================================initialize 5 images to stack the classification\n",
    "IC1 = ee.Image()\n",
    "IC2 = ee.Image()\n",
    "IC3 = ee.Image()\n",
    "IC4 = ee.Image()\n",
    "IC5 = ee.Image()\n"
   ]
  },
  {
   "cell_type": "code",
   "execution_count": 22,
   "metadata": {
    "collapsed": false
   },
   "outputs": [],
   "source": [
    "#concatenar las imagenes como bandas\n",
    "for fname in lstimages:\n",
    "    image2 = ee.Image(fname)\n",
    "   \n",
    "    if fname.find('class1') > 0:\n",
    "        IC1 = IC1.addBands(image2)\n",
    "    elif fname.find('class2') > 0:\n",
    "        IC2 = IC2.addBands(image2)\n",
    "    elif fname.find('class3') >  0:\n",
    "        IC3 = IC3.addBands(image2)\n",
    "    elif fname.find('class4') > 0:\n",
    "        IC4 = IC4.addBands(image2)\n",
    "    elif fname.find('class5') > 0:\n",
    "        IC5 = IC5.addBands(image2)"
   ]
  },
  {
   "cell_type": "code",
   "execution_count": 23,
   "metadata": {
    "collapsed": false
   },
   "outputs": [
    {
     "name": "stdout",
     "output_type": "stream",
     "text": [
      "{'bands': [{'id': 'constant', 'data_type': {'max': 0, 'precision': 'int', 'min': 0, 'type': 'PixelType'}, 'crs_transform': [1.0, 0.0, 0.0, 0.0, 1.0, 0.0], 'crs': 'EPSG:4326'}, {'id': 'constant_1', 'data_type': {'precision': 'double', 'type': 'PixelType'}, 'crs_transform': [4.49157642059761e-06, 0.0, -5.2363965721196255, 0.0, -4.49157642059761e-06, 12.217415749104195], 'dimensions': [20801, 20458], 'crs': 'EPSG:4326'}, {'id': 'constant_2', 'data_type': {'precision': 'double', 'type': 'PixelType'}, 'crs_transform': [4.49157642059761e-06, 0.0, -5.2363965721196255, 0.0, -4.49157642059761e-06, 12.217415749104195], 'dimensions': [20801, 20458], 'crs': 'EPSG:4326'}, {'id': 'constant_3', 'data_type': {'precision': 'double', 'type': 'PixelType'}, 'crs_transform': [4.49157642059761e-06, 0.0, -5.2363965721196255, 0.0, -4.49157642059761e-06, 12.217415749104195], 'dimensions': [20801, 20458], 'crs': 'EPSG:4326'}, {'id': 'constant_4', 'data_type': {'precision': 'double', 'type': 'PixelType'}, 'crs_transform': [4.49157642059761e-06, 0.0, -5.2363965721196255, 0.0, -4.49157642059761e-06, 12.217415749104195], 'dimensions': [20801, 20458], 'crs': 'EPSG:4326'}, {'id': 'constant_5', 'data_type': {'precision': 'double', 'type': 'PixelType'}, 'crs_transform': [4.49157642059761e-06, 0.0, -5.2363965721196255, 0.0, -4.49157642059761e-06, 12.217415749104195], 'dimensions': [20801, 20458], 'crs': 'EPSG:4326'}, {'id': 'constant_6', 'data_type': {'precision': 'double', 'type': 'PixelType'}, 'crs_transform': [4.49157642059761e-06, 0.0, -5.2363965721196255, 0.0, -4.49157642059761e-06, 12.217415749104195], 'dimensions': [20801, 20458], 'crs': 'EPSG:4326'}, {'id': 'constant_7', 'data_type': {'precision': 'double', 'type': 'PixelType'}, 'crs_transform': [4.49157642059761e-06, 0.0, -5.2363965721196255, 0.0, -4.49157642059761e-06, 12.217415749104195], 'dimensions': [20801, 20458], 'crs': 'EPSG:4326'}, {'id': 'constant_8', 'data_type': {'precision': 'double', 'type': 'PixelType'}, 'crs_transform': [4.49157642059761e-06, 0.0, -5.2363965721196255, 0.0, -4.49157642059761e-06, 12.217415749104195], 'dimensions': [20801, 20458], 'crs': 'EPSG:4326'}], 'type': 'Image'}\n"
     ]
    }
   ],
   "source": [
    "print(IC4.getInfo())"
   ]
  },
  {
   "cell_type": "code",
   "execution_count": 24,
   "metadata": {
    "collapsed": true
   },
   "outputs": [],
   "source": [
    "#=================================== Accumulate the weights\n",
    "# initialize images\n",
    "IC1sum = ee.Image(0)\n",
    "IC2sum = ee.Image(0)\n",
    "IC3sum = ee.Image(0)\n",
    "IC4sum = ee.Image(0)\n",
    "IC5sum = ee.Image(0)\n",
    "\n",
    "# Accumulate the weiths -- hacer un reducer que sume\n",
    "\n",
    "IC1sum = IC1.reduce(ee.Reducer.sum())\n",
    "IC2sum = IC2.reduce(ee.Reducer.sum())\n",
    "IC3sum = IC3.reduce(ee.Reducer.sum())\n",
    "IC4sum = IC4.reduce(ee.Reducer.sum())\n",
    "IC5sum = IC5.reduce(ee.Reducer.sum())\n"
   ]
  },
  {
   "cell_type": "code",
   "execution_count": 25,
   "metadata": {
    "collapsed": false
   },
   "outputs": [
    {
     "name": "stdout",
     "output_type": "stream",
     "text": [
      "{'bands': [{'id': 'sum', 'data_type': {'precision': 'double', 'type': 'PixelType'}, 'crs_transform': [1.0, 0.0, 0.0, 0.0, 1.0, 0.0], 'crs': 'EPSG:4326'}], 'type': 'Image'}\n"
     ]
    }
   ],
   "source": [
    "print(IC1sum.getInfo())"
   ]
  },
  {
   "cell_type": "code",
   "execution_count": 26,
   "metadata": {
    "collapsed": false
   },
   "outputs": [
    {
     "name": "stdout",
     "output_type": "stream",
     "text": [
      "*************************************************\n",
      " {'bands': [{'id': 'sum', 'data_type': {'precision': 'double', 'type': 'PixelType'}, 'crs_transform': [1.0, 0.0, 0.0, 0.0, 1.0, 0.0], 'crs': 'EPSG:4326'}, {'id': 'sum_1', 'data_type': {'precision': 'double', 'type': 'PixelType'}, 'crs_transform': [1.0, 0.0, 0.0, 0.0, 1.0, 0.0], 'crs': 'EPSG:4326'}, {'id': 'sum_2', 'data_type': {'precision': 'double', 'type': 'PixelType'}, 'crs_transform': [1.0, 0.0, 0.0, 0.0, 1.0, 0.0], 'crs': 'EPSG:4326'}, {'id': 'sum_3', 'data_type': {'precision': 'double', 'type': 'PixelType'}, 'crs_transform': [1.0, 0.0, 0.0, 0.0, 1.0, 0.0], 'crs': 'EPSG:4326'}, {'id': 'sum_4', 'data_type': {'precision': 'double', 'type': 'PixelType'}, 'crs_transform': [1.0, 0.0, 0.0, 0.0, 1.0, 0.0], 'crs': 'EPSG:4326'}], 'type': 'Image'}\n"
     ]
    }
   ],
   "source": [
    "IC = IC1sum.addBands(IC2sum).addBands(IC3sum).addBands(IC4sum).addBands(IC5sum)\n",
    "print(\"*************************************************\\n\",IC.getInfo())"
   ]
  },
  {
   "cell_type": "code",
   "execution_count": 27,
   "metadata": {
    "collapsed": true
   },
   "outputs": [],
   "source": [
    "# ================================Extract the maximum  # majority voting\n",
    "\n",
    "cond11 = IC.expression('b(\"sum\") >= b(\"sum_1\") && b(\"sum\") >= b(\"sum_2\")')\n",
    "cond12 = IC.expression('b(\"sum\") >= b(\"sum_3\") && b(\"sum\") >= b(\"sum_4\")')\n",
    "cond1 = cond11.And(cond12)\n",
    "cond21 = IC.expression('b(\"sum_1\") > b(\"sum\") && b(\"sum_1\") >= b(\"sum_2\")')\n",
    "cond22 = IC.expression('b(\"sum_1\") >= b(\"sum_3\") && b(\"sum_1\") >= b(\"sum_4\")')\n",
    "cond2 = cond21.And(cond22)\n",
    "cond31 = IC.expression('b(\"sum_2\") > b(\"sum\") && b(\"sum_2\") > b(\"sum_1\")')\n",
    "cond32 = IC.expression('b(\"sum_2\") >= b(\"sum_3\") && b(\"sum_2\") >= b(\"sum_4\")')\n",
    "cond3 = cond31.And(cond32)\n",
    "\n",
    "cond41 = IC.expression('b(\"sum_3\") > b(\"sum\") && b(\"sum_3\") > b(\"sum_1\")')\n",
    "cond42 = IC.expression('b(\"sum_3\") > b(\"sum_2\") && b(\"sum_3\") >= b(\"sum_4\")')\n",
    "cond4 = cond41.And(cond42)   # And in uppercase\n",
    "\n",
    "cond51 = IC.expression('b(\"sum_4\") > b(\"sum\") && b(\"sum_4\") > b(\"sum_1\")')\n",
    "cond52 = IC.expression('b(\"sum_4\") > b(\"sum_3\") && b(\"sum_4\") > b(\"sum_2\")')\n",
    "cond5 = cond51.And(cond52)"
   ]
  },
  {
   "cell_type": "code",
   "execution_count": 43,
   "metadata": {
    "collapsed": false
   },
   "outputs": [
    {
     "name": "stdout",
     "output_type": "stream",
     "text": [
      "*************************************************\n",
      " {'bands': [{'id': 'constant', 'crs_transform': [1.0, 0.0, 0.0, 0.0, 1.0, 0.0], 'origin': [-6, 11], 'data_type': {'max': 5, 'precision': 'int', 'min': 0, 'type': 'PixelType'}, 'dimensions': [2, 2], 'crs': 'EPSG:4326'}], 'properties': {'system:footprint': {'coordinates': [[[-5.236394875491211, 12.125524882429849], [-5.2363943178275125, 12.12552480600459], [-5.189681947295634, 12.12552482139066], [-5.142969554934702, 12.125524809925233], [-5.142967407474762, 12.125526675183306], [-5.142965100943807, 12.12552819565501], [-5.142964941872711, 12.125528980980178], [-5.142964941872711, 12.21741346750349], [-5.142966771190352, 12.217415608568812], [-5.142968361901392, 12.217417841080646], [-5.142969157256931, 12.21741800028432], [-5.189681947295634, 12.217418043281285], [-5.2363943178275125, 12.217418017065055], [-5.236396468816098, 12.217416149409656], [-5.236398779137263, 12.217414626711694], [-5.23639893846976, 12.217413840741836], [-5.23639893846976, 12.125529325866783], [-5.2363970264798185, 12.125527275741774], [-5.236395433154918, 12.12552495885511], [-5.236394875491211, 12.125524882429849]]], 'geodesic': True, 'type': 'Polygon'}}, 'type': 'Image'}\n"
     ]
    }
   ],
   "source": [
    "geom = image.geometry()\n",
    "output = ee.Image(0)\n",
    "output = output.clip(geom)\n",
    "\n",
    "#1 - Maize\t400\t225  #2 - Millet\t400\t225  #3 - Peanut\t400\t225  #4 - Sorghum\t400\t225 #5- Cotton\t520\t299\n",
    "\n",
    "output = output.where(cond1, 1) \n",
    "output = output.where(cond2, 2) \n",
    "output = output.where(cond3, 3) \n",
    "output = output.where(cond4, 4) \n",
    "output = output.where(cond5, 5) \n",
    "output = output.clip(geom)\n",
    "print(\"*************************************************\\n\",output.getInfo())"
   ]
  },
  {
   "cell_type": "code",
   "execution_count": 47,
   "metadata": {
    "collapsed": false
   },
   "outputs": [
    {
     "ename": "EEException",
     "evalue": "Invalid color value.",
     "output_type": "error",
     "traceback": [
      "\u001b[0;31m---------------------------------------------------------------------------\u001b[0m",
      "\u001b[0;31mEEException\u001b[0m                               Traceback (most recent call last)",
      "\u001b[0;32m<ipython-input-47-5d15d780b803>\u001b[0m in \u001b[0;36m<module>\u001b[0;34m()\u001b[0m\n\u001b[1;32m      1\u001b[0m \u001b[1;32mfrom\u001b[0m \u001b[0mIPython\u001b[0m\u001b[1;33m.\u001b[0m\u001b[0mdisplay\u001b[0m \u001b[1;32mimport\u001b[0m \u001b[0mImage\u001b[0m  \u001b[1;31m# To display image thumbnails.\u001b[0m\u001b[1;33m\u001b[0m\u001b[0m\n\u001b[1;32m      2\u001b[0m \u001b[0mmpalette\u001b[0m \u001b[1;33m=\u001b[0m \u001b[1;33m[\u001b[0m\u001b[1;34m'000000'\u001b[0m\u001b[1;33m,\u001b[0m\u001b[1;34m'bdc3c7'\u001b[0m\u001b[1;33m,\u001b[0m\u001b[1;34m'1e8449'\u001b[0m\u001b[1;33m,\u001b[0m\u001b[1;34m'd68910'\u001b[0m\u001b[1;33m,\u001b[0m\u001b[1;34m'2ecc71'\u001b[0m\u001b[1;33m,\u001b[0m\u001b[1;34m'f9e79f'\u001b[0m\u001b[1;33m]\u001b[0m\u001b[1;33m\u001b[0m\u001b[0m\n\u001b[0;32m----> 3\u001b[0;31m \u001b[0murl\u001b[0m \u001b[1;33m=\u001b[0m \u001b[0moutput\u001b[0m\u001b[1;33m.\u001b[0m\u001b[0mgetThumbUrl\u001b[0m\u001b[1;33m(\u001b[0m\u001b[1;33m{\u001b[0m\u001b[1;34m'min'\u001b[0m\u001b[1;33m:\u001b[0m\u001b[1;36m1\u001b[0m\u001b[1;33m,\u001b[0m \u001b[1;34m'max'\u001b[0m\u001b[1;33m:\u001b[0m\u001b[1;36m5\u001b[0m\u001b[1;33m,\u001b[0m \u001b[1;34m'palette'\u001b[0m\u001b[1;33m:\u001b[0m\u001b[0mmpalette\u001b[0m\u001b[1;33m}\u001b[0m\u001b[1;33m)\u001b[0m\u001b[1;33m\u001b[0m\u001b[0m\n\u001b[0m\u001b[1;32m      4\u001b[0m \u001b[0mprint\u001b[0m\u001b[1;33m(\u001b[0m\u001b[0murl\u001b[0m\u001b[1;33m)\u001b[0m\u001b[1;33m\u001b[0m\u001b[0m\n\u001b[1;32m      5\u001b[0m \u001b[0mImage\u001b[0m\u001b[1;33m(\u001b[0m\u001b[0murl\u001b[0m\u001b[1;33m=\u001b[0m\u001b[0murl\u001b[0m\u001b[1;33m)\u001b[0m\u001b[1;33m\u001b[0m\u001b[0m\n",
      "\u001b[0;32mC:\\Python35\\lib\\site-packages\\ee\\deprecation.py\u001b[0m in \u001b[0;36mWrapper\u001b[0;34m(*args, **kwargs)\u001b[0m\n\u001b[1;32m     30\u001b[0m           \u001b[0mfilename\u001b[0m\u001b[1;33m=\u001b[0m\u001b[0mfunc\u001b[0m\u001b[1;33m.\u001b[0m\u001b[0m__code__\u001b[0m\u001b[1;33m.\u001b[0m\u001b[0mco_filename\u001b[0m\u001b[1;33m,\u001b[0m\u001b[1;33m\u001b[0m\u001b[0m\n\u001b[1;32m     31\u001b[0m           lineno=func.__code__.co_firstlineno + 1)\n\u001b[0;32m---> 32\u001b[0;31m       \u001b[1;32mreturn\u001b[0m \u001b[0mfunc\u001b[0m\u001b[1;33m(\u001b[0m\u001b[1;33m*\u001b[0m\u001b[0margs\u001b[0m\u001b[1;33m,\u001b[0m \u001b[1;33m**\u001b[0m\u001b[0mkwargs\u001b[0m\u001b[1;33m)\u001b[0m\u001b[1;33m\u001b[0m\u001b[0m\n\u001b[0m\u001b[1;32m     33\u001b[0m     \u001b[0mWrapper\u001b[0m\u001b[1;33m.\u001b[0m\u001b[0m__doc__\u001b[0m \u001b[1;33m+=\u001b[0m \u001b[1;34m'\\nDEPRECATED: '\u001b[0m \u001b[1;33m+\u001b[0m \u001b[0mmessage\u001b[0m\u001b[1;33m\u001b[0m\u001b[0m\n\u001b[1;32m     34\u001b[0m     \u001b[1;32mreturn\u001b[0m \u001b[0mWrapper\u001b[0m\u001b[1;33m\u001b[0m\u001b[0m\n",
      "\u001b[0;32mC:\\Python35\\lib\\site-packages\\ee\\image.py\u001b[0m in \u001b[0;36mgetThumbURL\u001b[0;34m(self, params)\u001b[0m\n\u001b[1;32m    195\u001b[0m         raise ee_exception.EEException(\n\u001b[1;32m    196\u001b[0m             'The region parameter must be an array or a GeoJSON object.')\n\u001b[0;32m--> 197\u001b[0;31m     \u001b[1;32mreturn\u001b[0m \u001b[0mdata\u001b[0m\u001b[1;33m.\u001b[0m\u001b[0mmakeThumbUrl\u001b[0m\u001b[1;33m(\u001b[0m\u001b[0mdata\u001b[0m\u001b[1;33m.\u001b[0m\u001b[0mgetThumbId\u001b[0m\u001b[1;33m(\u001b[0m\u001b[0mrequest\u001b[0m\u001b[1;33m)\u001b[0m\u001b[1;33m)\u001b[0m\u001b[1;33m\u001b[0m\u001b[0m\n\u001b[0m\u001b[1;32m    198\u001b[0m \u001b[1;33m\u001b[0m\u001b[0m\n\u001b[1;32m    199\u001b[0m   \u001b[1;31m# Deprecated spellings to match the JS library.\u001b[0m\u001b[1;33m\u001b[0m\u001b[1;33m\u001b[0m\u001b[0m\n",
      "\u001b[0;32mC:\\Python35\\lib\\site-packages\\ee\\data.py\u001b[0m in \u001b[0;36mgetThumbId\u001b[0;34m(params)\u001b[0m\n\u001b[1;32m    282\u001b[0m   \u001b[1;32mif\u001b[0m \u001b[1;34m'size'\u001b[0m \u001b[1;32min\u001b[0m \u001b[0mrequest\u001b[0m \u001b[1;32mand\u001b[0m \u001b[0misinstance\u001b[0m\u001b[1;33m(\u001b[0m\u001b[0mrequest\u001b[0m\u001b[1;33m[\u001b[0m\u001b[1;34m'size'\u001b[0m\u001b[1;33m]\u001b[0m\u001b[1;33m,\u001b[0m \u001b[1;33m(\u001b[0m\u001b[0mlist\u001b[0m\u001b[1;33m,\u001b[0m \u001b[0mtuple\u001b[0m\u001b[1;33m)\u001b[0m\u001b[1;33m)\u001b[0m\u001b[1;33m:\u001b[0m\u001b[1;33m\u001b[0m\u001b[0m\n\u001b[1;32m    283\u001b[0m     \u001b[0mrequest\u001b[0m\u001b[1;33m[\u001b[0m\u001b[1;34m'size'\u001b[0m\u001b[1;33m]\u001b[0m \u001b[1;33m=\u001b[0m \u001b[1;34m'x'\u001b[0m\u001b[1;33m.\u001b[0m\u001b[0mjoin\u001b[0m\u001b[1;33m(\u001b[0m\u001b[0mmap\u001b[0m\u001b[1;33m(\u001b[0m\u001b[0mstr\u001b[0m\u001b[1;33m,\u001b[0m \u001b[0mrequest\u001b[0m\u001b[1;33m[\u001b[0m\u001b[1;34m'size'\u001b[0m\u001b[1;33m]\u001b[0m\u001b[1;33m)\u001b[0m\u001b[1;33m)\u001b[0m\u001b[1;33m\u001b[0m\u001b[0m\n\u001b[0;32m--> 284\u001b[0;31m   \u001b[1;32mreturn\u001b[0m \u001b[0msend_\u001b[0m\u001b[1;33m(\u001b[0m\u001b[1;34m'/thumb'\u001b[0m\u001b[1;33m,\u001b[0m \u001b[0mrequest\u001b[0m\u001b[1;33m)\u001b[0m\u001b[1;33m\u001b[0m\u001b[0m\n\u001b[0m\u001b[1;32m    285\u001b[0m \u001b[1;33m\u001b[0m\u001b[0m\n\u001b[1;32m    286\u001b[0m \u001b[1;33m\u001b[0m\u001b[0m\n",
      "\u001b[0;32mC:\\Python35\\lib\\site-packages\\ee\\data.py\u001b[0m in \u001b[0;36msend_\u001b[0;34m(path, params, opt_method, opt_raw)\u001b[0m\n\u001b[1;32m    726\u001b[0m       \u001b[1;32mraise\u001b[0m \u001b[0mee_exception\u001b[0m\u001b[1;33m.\u001b[0m\u001b[0mEEException\u001b[0m\u001b[1;33m(\u001b[0m\u001b[1;34m'Invalid JSON: %s'\u001b[0m \u001b[1;33m%\u001b[0m \u001b[0mcontent\u001b[0m\u001b[1;33m)\u001b[0m\u001b[1;33m\u001b[0m\u001b[0m\n\u001b[1;32m    727\u001b[0m     \u001b[1;32mif\u001b[0m \u001b[1;34m'error'\u001b[0m \u001b[1;32min\u001b[0m \u001b[0mjson_content\u001b[0m\u001b[1;33m:\u001b[0m\u001b[1;33m\u001b[0m\u001b[0m\n\u001b[0;32m--> 728\u001b[0;31m       \u001b[1;32mraise\u001b[0m \u001b[0mee_exception\u001b[0m\u001b[1;33m.\u001b[0m\u001b[0mEEException\u001b[0m\u001b[1;33m(\u001b[0m\u001b[0mjson_content\u001b[0m\u001b[1;33m[\u001b[0m\u001b[1;34m'error'\u001b[0m\u001b[1;33m]\u001b[0m\u001b[1;33m[\u001b[0m\u001b[1;34m'message'\u001b[0m\u001b[1;33m]\u001b[0m\u001b[1;33m)\u001b[0m\u001b[1;33m\u001b[0m\u001b[0m\n\u001b[0m\u001b[1;32m    729\u001b[0m     \u001b[1;32mif\u001b[0m \u001b[1;34m'data'\u001b[0m \u001b[1;32mnot\u001b[0m \u001b[1;32min\u001b[0m \u001b[0mcontent\u001b[0m\u001b[1;33m:\u001b[0m\u001b[1;33m\u001b[0m\u001b[0m\n\u001b[1;32m    730\u001b[0m       \u001b[1;32mraise\u001b[0m \u001b[0mee_exception\u001b[0m\u001b[1;33m.\u001b[0m\u001b[0mEEException\u001b[0m\u001b[1;33m(\u001b[0m\u001b[1;34m'Malformed response: '\u001b[0m \u001b[1;33m+\u001b[0m \u001b[0mstr\u001b[0m\u001b[1;33m(\u001b[0m\u001b[0mcontent\u001b[0m\u001b[1;33m)\u001b[0m\u001b[1;33m)\u001b[0m\u001b[1;33m\u001b[0m\u001b[0m\n",
      "\u001b[0;31mEEException\u001b[0m: Invalid color value."
     ]
    }
   ],
   "source": [
    "from IPython.display import Image  # To display image thumbnails.\n",
    "mpalette = ['000000','bdc3c7','1e8449','d68910','2ecc71','f9e79f']\n",
    "url = output.getThumbUrl({'min':1, 'max':5})\n",
    "print(url)\n",
    "Image(url=url)"
   ]
  },
  {
   "cell_type": "code",
   "execution_count": null,
   "metadata": {
    "collapsed": true
   },
   "outputs": [],
   "source": [
    "# load our image \n",
    "image = ee.Image(\"users/rosamaguilar/tutorial/subset\")\n",
    "# display the image, The maximun pixel value is 2048 because it has 11-bit per pixel.\n",
    "Image(url=image.getThumbUrl({'min':0, 'max':2048}))"
   ]
  }
 ],
 "metadata": {
  "kernelspec": {
   "display_name": "Python 3",
   "language": "python",
   "name": "python3"
  },
  "language_info": {
   "codemirror_mode": {
    "name": "ipython",
    "version": 3
   },
   "file_extension": ".py",
   "mimetype": "text/x-python",
   "name": "python",
   "nbconvert_exporter": "python",
   "pygments_lexer": "ipython3",
   "version": "3.5.1"
  }
 },
 "nbformat": 4,
 "nbformat_minor": 2
}
