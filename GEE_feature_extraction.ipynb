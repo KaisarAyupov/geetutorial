{
 "cells": [
  {
   "cell_type": "markdown",
   "metadata": {},
   "source": [
    "______\n",
    "<img style=\"float: right;\" src=\"./images/headerlogo.png\">\n",
    "## Google Earth Engine (GEE) Tutorial\n",
    "\n",
    "###  Feature Extraction\n",
    "_____"
   ]
  },
  {
   "cell_type": "markdown",
   "metadata": {
    "collapsed": true
   },
   "source": [
    "Extracting spectral or spatial information is not a uncommon task during processing of remotely sensed images because these information may improve classification results capturing additional information than spectral bands. <br>\n",
    "In the following lines of code, we will extract vegetation indices and textural features. "
   ]
  },
  {
   "cell_type": "markdown",
   "metadata": {},
   "source": [
    "#### Vegetation indices"
   ]
  },
  {
   "cell_type": "markdown",
   "metadata": {},
   "source": [
    "GEE has implemented a *normalizedDifference* function to compute the normalized difference between two bands. This function is used to compute the normalized vegetation index - [NDVI] (https://en.wikipedia.org/wiki/Normalized_Difference_Vegetation_Index). Given *b1* and  *b2*, \n",
    "\n",
    "*normalizedDifference(b1,b2)* calculates *(b1 − b2 / (b1 + b2)*. "
   ]
  },
  {
   "cell_type": "code",
   "execution_count": 10,
   "metadata": {
    "collapsed": false
   },
   "outputs": [
    {
     "data": {
      "text/html": [
       "<img src=\"https://earthengine.googleapis.com/api/thumb?thumbid=6905c3f8c5885f6d89f26d5e37c54f3b&token=ef6fee7e17f59e124e98baa136d4b13e\"/>"
      ],
      "text/plain": [
       "<IPython.core.display.Image object>"
      ]
     },
     "metadata": {},
     "output_type": "display_data"
    },
    {
     "data": {
      "image/png": "[encoded data removed]",
      "text/plain": [
       "<matplotlib.figure.Figure at 0x18e3edb3668>"
      ]
     },
     "metadata": {},
     "output_type": "display_data"
    }
   ],
   "source": [
    "import ee\n",
    "import numpy as np\n",
    "from IPython.display import Image\n",
    "from IPython.display import display\n",
    "import pprint\n",
    "\n",
    "import matplotlib.pyplot as plt\n",
    "from matplotlib.colors import LinearSegmentedColormap\n",
    "from matplotlib import cm, colorbar\n",
    "from matplotlib import colors as mcolors\n",
    "\n",
    "ee.Initialize()\n",
    "image = ee.Image('users/rosamaguilar/tutorial/subset')\n",
    "# compute the normalized vegetation index using Infrared and red bands\n",
    "# NDVI = (NIR - red) / (NIR + red)\n",
    "\n",
    "ndvi = image.normalizedDifference(['b7', 'b5']).rename(['NDVI'])\n",
    "# ndvi.getInfo() will give a generic min and max of a normalized index datatype but not the real min and max for this image\n",
    "# A reducer will give those values\n",
    "mymax = ndvi.reduceRegion(\n",
    "  reducer = ee.Reducer.minMax(),\n",
    "  geometry = ndvi.geometry(),\n",
    "  scale = 2,\n",
    "  maxPixels = 10000000).getInfo()\n",
    "#print(mymax)\n",
    "\n",
    "# define a palette for visualization, greenest color imply higher values\n",
    "palette =','.join(['d7191c','fdae61','ffffbf','a6d96a','1a9641'])\n",
    "\n",
    "img1 = Image(url=ndvi.getThumbUrl({'min':mymax['NDVI_min'], 'max': mymax['NDVI_max'], 'palette':palette}))\n",
    "display(img1)\n",
    "\n",
    "# create the color bar\n",
    "\n",
    "# format the pallete \n",
    "palette = palette.split(',')\n",
    "color_list = list(map(lambda x: '#'+x.strip(), palette))\n",
    "# create a linear segmented colormap with the specified name from a given sequence of colors \n",
    "cmap_obj = LinearSegmentedColormap.from_list('palette', color_list)\n",
    "# apply a linear normalization to the palette using min and max\n",
    "cnorm = mcolors.Normalize(vmin=mymax['NDVI_min'], vmax=mymax['NDVI_max']) \n",
    "# draw a bar\n",
    "fig = plt.figure(figsize=(5, 0.5))\n",
    "ax = plt.subplot(111)\n",
    "cbar = colorbar.ColorbarBase(ax, norm=cnorm, orientation='horizontal', cmap=cmap_obj)\n",
    "plt.show();"
   ]
  },
  {
   "cell_type": "markdown",
   "metadata": {
    "collapsed": true
   },
   "source": [
    "Other vegetation indices may involve additional computation rather than a normalized difference.<br>\n",
    "For those cases, GEE includes the *expression* function. The following example calculate the *Soild Adjusted Vegetation Index - SAVI*"
   ]
  },
  {
   "cell_type": "code",
   "execution_count": 11,
   "metadata": {
    "collapsed": false
   },
   "outputs": [
    {
     "name": "stdout",
     "output_type": "stream",
     "text": [
      "{'bands': [{'crs': 'EPSG:32630',\n",
      "            'crs_transform': [2.0009777545928955,\n",
      "                              0.0,\n",
      "                              260323.03819620793,\n",
      "                              0.0,\n",
      "                              -2.0009777545928955,\n",
      "                              1346325.1740949643],\n",
      "            'data_type': {'max': 196605.0,\n",
      "                          'min': -196605.0,\n",
      "                          'precision': 'double',\n",
      "                          'type': 'PixelType'},\n",
      "            'dimensions': [686, 563],\n",
      "            'id': 'SAVI'}],\n",
      " 'type': 'Image'}\n",
      "{'SAVI_max': 1.4998188186979104, 'SAVI_min': -0.49665749115218244}\n"
     ]
    },
    {
     "data": {
      "text/html": [
       "<img src=\"https://earthengine.googleapis.com/api/thumb?thumbid=941b3448f54adbafbc23d3ad04090748&token=e412f098a4b217b9dd316b36c64ba399\"/>"
      ],
      "text/plain": [
       "<IPython.core.display.Image object>"
      ]
     },
     "metadata": {},
     "output_type": "display_data"
    },
    {
     "data": {
      "image/png": "[encoded data removed]",
      "text/plain": [
       "<matplotlib.figure.Figure at 0x18e3ff9afd0>"
      ]
     },
     "metadata": {},
     "output_type": "display_data"
    }
   ],
   "source": [
    "# SAVI veg_index <- (1+L)*(y[,nir] - y[,red])/(y[,nir] + y[,red] + L)\n",
    "# L=0.5\n",
    "image = ee.Image('users/rosamaguilar/tutorial/subset')\n",
    "savi = image.expression (\n",
    "  '( 1.5)* (NIR -R)/(NIR + R + 0.5)', {\n",
    "   'NIR': image.select('b7'),\n",
    "   'R': image.select('b5'), \n",
    "  }).rename(['SAVI'])\n",
    "\n",
    "pprint.pprint(savi.getInfo())\n",
    "palette =','.join(['d7191c','fdae61','ffffbf','a6d96a','1a9641'])\n",
    "# A reducer to get minimum and maximum  values\n",
    "mymax = savi.reduceRegion(reducer = ee.Reducer.minMax(),geometry = savi.geometry(),scale = 2, maxPixels = 10000000).getInfo()\n",
    "print(mymax)\n",
    "img1 = Image(url=savi.getThumbUrl({'min':mymax['SAVI_min'], 'max': mymax['SAVI_max'], 'palette':palette}))\n",
    "display(img1)\n",
    "\n",
    "# create the color bar\n",
    "palette = palette.split(',')\n",
    "color_list = list(map(lambda x: '#'+x.strip(), palette))\n",
    "cmap_obj = LinearSegmentedColormap.from_list('palette', color_list)\n",
    "cnorm = mcolors.Normalize(vmin=mymax['SAVI_min'], vmax=mymax['SAVI_max']) \n",
    "fig = plt.figure(figsize=(5, 0.5))\n",
    "ax = plt.subplot(111)\n",
    "cbar = colorbar.ColorbarBase(ax, norm=cnorm, orientation='horizontal', cmap=cmap_obj)\n",
    "plt.show();\n"
   ]
  },
  {
   "cell_type": "markdown",
   "metadata": {},
   "source": [
    "You may try to compute the *TCARI - Transformed Chlorophyll Absorption in Reflectance Index* <br>\n",
    "Its formula is: TCARI = 3*((red_edge-red)-0.2*(red_edge-green)*(red_edge/red))</i>\n"
   ]
  },
  {
   "cell_type": "markdown",
   "metadata": {},
   "source": [
    "#### Textural Features \n"
   ]
  },
  {
   "cell_type": "markdown",
   "metadata": {},
   "source": [
    "Textural features provide information about the spatial distribution of the spectral information in an image band. One of the most common methods to compute textural features uses the [*Gray Level Co-occurrence Matrix (GLCM)*](http://haralick.org/journals/TexturalFeatures.pdf).  Textural features may be not intuitive to the human eye but several studies have showed their contribution in image classification. <br> \n",
    "\n",
    "In GEE the function *glcm* compute 18 textural features per band image. <br>\n",
    "The following parameters can be specified: \n",
    "\n",
    "+ *size*:  the inter-pixel distance to used in the calculation. Defaul value is 1.\n",
    "+ *kernel*: defines the offsets to use in the calculation. The default value is a 3x3 square kernel with four directions offsets:   (-1, -1), (0, -1), (1, -1) and (-1, 0). Figure below illustrate the default kernel.\n",
    "+ *average*: </b> indicates if the bands resulting of the four direction calculations will be averaged. Default values is True.\n",
    "![alt text](./images/kernel_textures_2.png)\n",
    "\n",
    " \n",
    "\n"
   ]
  },
  {
   "cell_type": "code",
   "execution_count": 12,
   "metadata": {
    "collapsed": false,
    "scrolled": false
   },
   "outputs": [
    {
     "name": "stdout",
     "output_type": "stream",
     "text": [
      "['b1_asm', 'b1_contrast', 'b1_corr', 'b1_var', 'b1_idm', 'b1_savg', 'b1_svar', 'b1_sent', 'b1_ent', 'b1_dvar', 'b1_dent', 'b1_imcorr1', 'b1_imcorr2', 'b1_maxcorr', 'b1_diss', 'b1_inertia', 'b1_shade', 'b1_prom', 'b2_asm', 'b2_contrast', 'b2_corr', 'b2_var', 'b2_idm', 'b2_savg', 'b2_svar', 'b2_sent', 'b2_ent', 'b2_dvar', 'b2_dent', 'b2_imcorr1', 'b2_imcorr2', 'b2_maxcorr', 'b2_diss', 'b2_inertia', 'b2_shade', 'b2_prom', 'b3_asm', 'b3_contrast', 'b3_corr', 'b3_var', 'b3_idm', 'b3_savg', 'b3_svar', 'b3_sent', 'b3_ent', 'b3_dvar', 'b3_dent', 'b3_imcorr1', 'b3_imcorr2', 'b3_maxcorr', 'b3_diss', 'b3_inertia', 'b3_shade', 'b3_prom', 'b4_asm', 'b4_contrast', 'b4_corr', 'b4_var', 'b4_idm', 'b4_savg', 'b4_svar', 'b4_sent', 'b4_ent', 'b4_dvar', 'b4_dent', 'b4_imcorr1', 'b4_imcorr2', 'b4_maxcorr', 'b4_diss', 'b4_inertia', 'b4_shade', 'b4_prom', 'b5_asm', 'b5_contrast', 'b5_corr', 'b5_var', 'b5_idm', 'b5_savg', 'b5_svar', 'b5_sent', 'b5_ent', 'b5_dvar', 'b5_dent', 'b5_imcorr1', 'b5_imcorr2', 'b5_maxcorr', 'b5_diss', 'b5_inertia', 'b5_shade', 'b5_prom', 'b6_asm', 'b6_contrast', 'b6_corr', 'b6_var', 'b6_idm', 'b6_savg', 'b6_svar', 'b6_sent', 'b6_ent', 'b6_dvar', 'b6_dent', 'b6_imcorr1', 'b6_imcorr2', 'b6_maxcorr', 'b6_diss', 'b6_inertia', 'b6_shade', 'b6_prom', 'b7_asm', 'b7_contrast', 'b7_corr', 'b7_var', 'b7_idm', 'b7_savg', 'b7_svar', 'b7_sent', 'b7_ent', 'b7_dvar', 'b7_dent', 'b7_imcorr1', 'b7_imcorr2', 'b7_maxcorr', 'b7_diss', 'b7_inertia', 'b7_shade', 'b7_prom', 'b8_asm', 'b8_contrast', 'b8_corr', 'b8_var', 'b8_idm', 'b8_savg', 'b8_svar', 'b8_sent', 'b8_ent', 'b8_dvar', 'b8_dent', 'b8_imcorr1', 'b8_imcorr2', 'b8_maxcorr', 'b8_diss', 'b8_inertia', 'b8_shade', 'b8_prom']\n"
     ]
    }
   ],
   "source": [
    "glcm = image.glcmTexture()\n",
    "# print the band names\n",
    "print(glcm.bandNames().getInfo())"
   ]
  },
  {
   "cell_type": "markdown",
   "metadata": {},
   "source": [
    "<b>Visualize textural features </b>\n",
    "\n",
    "Minimun and maximum values of each band must be explored to set the visualization parameters.<br>\n",
    "To find those values we will apply a <i>reducer</i> over the whole image. <br>\n"
   ]
  },
  {
   "cell_type": "code",
   "execution_count": 13,
   "metadata": {
    "collapsed": false
   },
   "outputs": [
    {
     "name": "stdout",
     "output_type": "stream",
     "text": [
      "{'b5_corr_min': -0.8908995196420346, 'b5_corr_max': 0.4371934208813961}\n"
     ]
    }
   ],
   "source": [
    "# Compute min and max of b5 correlation \n",
    "print(glcm.select('b5_corr').reduceRegion(ee.Reducer.minMax()).getInfo())"
   ]
  },
  {
   "cell_type": "code",
   "execution_count": 14,
   "metadata": {
    "collapsed": false
   },
   "outputs": [
    {
     "data": {
      "text/html": [
       "<img src=\"https://earthengine.googleapis.com/api/thumb?thumbid=605f8f0063ea2fcc7edcb7d38d01f0df&token=aa7d45522733d6213d0a65b12bf37ae9\"/>"
      ],
      "text/plain": [
       "<IPython.core.display.Image object>"
      ]
     },
     "execution_count": 14,
     "metadata": {},
     "output_type": "execute_result"
    }
   ],
   "source": [
    "# lets define a new palette:\n",
    "#palette =','.join(['d7191c','5120b2'])\n",
    "palette =','.join(['d7191c','ffffbf'])\n",
    "Image(url=glcm.select('b5_corr').getThumbUrl({'min':-0.9, 'max': 0.43, 'palette':palette}))"
   ]
  },
  {
   "cell_type": "code",
   "execution_count": 15,
   "metadata": {
    "collapsed": false
   },
   "outputs": [
    {
     "name": "stdout",
     "output_type": "stream",
     "text": [
      "{'b7_ent_max': 2.2821740957339185, 'b7_ent_min': 1.0397207708399179}\n"
     ]
    },
    {
     "data": {
      "text/html": [
       "<img src=\"https://earthengine.googleapis.com/api/thumb?thumbid=30c35d1db7f5ded8d0a79d2051475671&token=38ce90aac660a07ed99fa4aa78789781\"/>"
      ],
      "text/plain": [
       "<IPython.core.display.Image object>"
      ]
     },
     "execution_count": 15,
     "metadata": {},
     "output_type": "execute_result"
    }
   ],
   "source": [
    "# Visualize Entropy of the Infrared band (b7):\n",
    "min_max = glcm.select('b7_ent').reduceRegion(ee.Reducer.minMax()).getInfo()\n",
    "print(glcm.select('b7_ent').reduceRegion(ee.Reducer.minMax()).getInfo())\n",
    "min = min_max['b7_ent_min']\n",
    "max = min_max['b7_ent_max']\n",
    "Image(url=glcm.select('b7_ent').getThumbUrl({'min': min, 'max': max, 'palette':palette}))"
   ]
  },
  {
   "cell_type": "code",
   "execution_count": 16,
   "metadata": {
    "collapsed": false
   },
   "outputs": [
    {
     "name": "stdout",
     "output_type": "stream",
     "text": [
      "{'b3_idm_max': 0.3987935532418258, 'b3_idm_min': 6.894451501972257e-07}\n"
     ]
    },
    {
     "data": {
      "text/html": [
       "<img src=\"https://earthengine.googleapis.com/api/thumb?thumbid=1cbfce2acfa56a6b7da37f2b91a1ff7b&token=3420722d286ed4c87a7be4b2246ae330\"/>"
      ],
      "text/plain": [
       "<IPython.core.display.Image object>"
      ]
     },
     "execution_count": 16,
     "metadata": {},
     "output_type": "execute_result"
    }
   ],
   "source": [
    "# Visualize Homogeneity (Inverse Different Moment) of the green band (b3):\n",
    "palette =','.join(['d7191c','ffffbf'])\n",
    "min_max = glcm.select('b3_idm').reduceRegion(ee.Reducer.minMax()).getInfo()\n",
    "print(glcm.select('b3_idm').reduceRegion(ee.Reducer.minMax()).getInfo())\n",
    "min = min_max['b3_idm_min']\n",
    "max = min_max['b3_idm_max']\n",
    "Image(url=glcm.select('b3_idm').getThumbUrl({'min': min, 'max':  max, 'palette':palette}))"
   ]
  },
  {
   "cell_type": "code",
   "execution_count": null,
   "metadata": {
    "collapsed": true
   },
   "outputs": [],
   "source": []
  }
 ],
 "metadata": {
  "kernelspec": {
   "display_name": "Python 3",
   "language": "python",
   "name": "python3"
  },
  "language_info": {
   "codemirror_mode": {
    "name": "ipython",
    "version": 3
   },
   "file_extension": ".py",
   "mimetype": "text/x-python",
   "name": "python",
   "nbconvert_exporter": "python",
   "pygments_lexer": "ipython3",
   "version": "3.5.1"
  }
 },
 "nbformat": 4,
 "nbformat_minor": 2
}
