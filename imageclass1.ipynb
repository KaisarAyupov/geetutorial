{
 "cells": [
  {
   "cell_type": "code",
   "execution_count": 2,
   "metadata": {
    "collapsed": false
   },
   "outputs": [],
   "source": [
    "import os\n",
    "import ee\n",
    "import time\n",
    "import re\n",
    "from six.moves.urllib.request import urlretrieve\n",
    "import numpy as np\n",
    "import datetime\n",
    "from tabulate import tabulate\n",
    "from sortedcontainers import SortedDict\n",
    "import csv\n",
    "import itertools\n",
    "import math\n",
    "from IPython.display import Image"
   ]
  },
  {
   "cell_type": "code",
   "execution_count": 3,
   "metadata": {
    "collapsed": true
   },
   "outputs": [],
   "source": [
    "ee.Initialize()"
   ]
  },
  {
   "cell_type": "code",
   "execution_count": 4,
   "metadata": {
    "collapsed": false
   },
   "outputs": [
    {
     "data": {
      "text/html": [
       "<img src=\"https://earthengine.googleapis.com/api/thumb?thumbid=dc1e49122501a1223c0e36307aa39e08&token=288cbc7a93c41f9c5a5298d7c3d08101\"/>"
      ],
      "text/plain": [
       "<IPython.core.display.Image object>"
      ]
     },
     "execution_count": 4,
     "metadata": {},
     "output_type": "execute_result"
    }
   ],
   "source": [
    "image = ee.Image('srtm90_v4')\n",
    "Image(url=image.getThumbUrl({'min':0, 'max':3000}))"
   ]
  },
  {
   "cell_type": "code",
   "execution_count": 6,
   "metadata": {
    "collapsed": true
   },
   "outputs": [],
   "source": [
    "# load the expanded  images\n",
    "image = ee.Image(\"users/rosamaguilar/hcsfeats/sintext054112895010_01_ML_Sukumba_2014Y10M18D_WorldView-2_ORStandard2A_fused\")\n",
    "image2 = ee.Image(\"users/rosamaguilar/hcsfeats/sintext054112895020_01_ML_Sukumba_2014Y11M01D_WorldView-2_ORStandard2A_fused\")\n",
    "image3 = ee.Image(\"users/rosamaguilar/hcsfeats/sintext054112895030_01_ML_Sukumba_2014Y11M14D_WorldView-2_ORStandard2A_fused\")\n",
    "image4 = ee.Image(\"users/rosamaguilar/hcsfeats/sintext054112895040_01_ML_Sukumba_2014Y06M26D_WorldView-2_ORStandard2A_fused\")\n",
    "image5 = ee.Image(\"users/rosamaguilar/hcsfeats/sintext054112895070_01_ML_Sukumba_2014Y07M29D_WorldView-2_ORStandard2A_fused\")\n",
    "image6 = ee.Image(\"users/rosamaguilar/hcsfeats/sintext054330672010_01_ML_Sukumba_2014Y05M30D_WorldView-2_ORStandard2A_fused\")\n",
    "image7 = ee.Image(\"users/rosamaguilar/hcsfeats/sintext054330675010_01_ML_Sukumba_2014Y05M22D_WorldView-2_ORStandard2A_fused\")"
   ]
  },
  {
   "cell_type": "code",
   "execution_count": 13,
   "metadata": {
    "collapsed": false
   },
   "outputs": [
    {
     "data": {
      "text/html": [
       "<img src=\"https://earthengine.googleapis.com/api/thumb?thumbid=87c7cc16814f67fb4d3ea10dda721344&token=dc57f8dd3d6588e15bee6460bfe8f096\"/>"
      ],
      "text/plain": [
       "<IPython.core.display.Image object>"
      ]
     },
     "execution_count": 13,
     "metadata": {},
     "output_type": "execute_result"
    }
   ],
   "source": [
    "Image(url=image.getThumbUrl({'min':0, 'max':3000}))"
   ]
  },
  {
   "cell_type": "code",
   "execution_count": 7,
   "metadata": {
    "collapsed": false
   },
   "outputs": [
    {
     "data": {
      "text/html": [
       "<img src=\"https://earthengine.googleapis.com/api/thumb?thumbid=89664bcdbf89c2d9f2b569fbaa90a63d&token=3a8dc165735dc1fd22814c798eee392b\"/>"
      ],
      "text/plain": [
       "<IPython.core.display.Image object>"
      ]
     },
     "execution_count": 7,
     "metadata": {},
     "output_type": "execute_result"
    }
   ],
   "source": [
    "Image(url=image2.getThumbUrl({min: 0, max: 2048, 'bands': 'b7,b4,b2', 'gamma': '1.1, 1.1, 1.1'}))"
   ]
  },
  {
   "cell_type": "code",
   "execution_count": 1,
   "metadata": {
    "collapsed": false
   },
   "outputs": [
    {
     "ename": "NameError",
     "evalue": "name 'Image' is not defined",
     "traceback": [
      "\u001b[0;31m---------------------------------------------------------------------------\u001b[0m",
      "\u001b[0;31mNameError\u001b[0m                                 Traceback (most recent call last)",
      "\u001b[0;32m<ipython-input-1-1741340d2da3>\u001b[0m in \u001b[0;36m<module>\u001b[0;34m()\u001b[0m\n\u001b[0;32m----> 1\u001b[0;31m \u001b[0mImage\u001b[0m\u001b[1;33m(\u001b[0m\u001b[0murl\u001b[0m\u001b[1;33m=\u001b[0m\u001b[0mimage3\u001b[0m\u001b[1;33m.\u001b[0m\u001b[0mgetThumbUrl\u001b[0m\u001b[1;33m(\u001b[0m\u001b[1;33m{\u001b[0m\u001b[0mmin\u001b[0m\u001b[1;33m:\u001b[0m \u001b[1;36m0\u001b[0m\u001b[1;33m,\u001b[0m \u001b[0mmax\u001b[0m\u001b[1;33m:\u001b[0m \u001b[1;36m1024\u001b[0m\u001b[1;33m,\u001b[0m \u001b[1;34m'bands'\u001b[0m\u001b[1;33m:\u001b[0m \u001b[1;34m'b5,b3,b2'\u001b[0m\u001b[1;33m,\u001b[0m \u001b[1;34m'gamma'\u001b[0m\u001b[1;33m:\u001b[0m \u001b[1;34m'1, 1.1, 1.1'\u001b[0m\u001b[1;33m}\u001b[0m\u001b[1;33m)\u001b[0m\u001b[1;33m)\u001b[0m\u001b[1;33m\u001b[0m\u001b[0m\n\u001b[0m",
      "\u001b[0;31mNameError\u001b[0m: name 'Image' is not defined"
     ],
     "output_type": "error"
    }
   ],
   "source": [
    "Image(url=image3.getThumbUrl({min: 0, max: 1024, 'bands': 'b5,b3,b2', 'gamma': '1, 1.1, 1.1'}))"
   ]
  },
  {
   "cell_type": "code",
   "execution_count": 74,
   "metadata": {
    "collapsed": false
   },
   "outputs": [
    {
     "name": "stdout",
     "output_type": "stream",
     "text": [
      "['fmask', 'b2', 'b3', 'b4', 'b5', 'b6', 'b7', 'NDI_b3_b2', 'NDI_b4_b2', 'NDI_b5_b2', 'NDI_b6_b2', 'NDI_b7_b2', 'NDI_b4_b3', 'NDI_b5_b3', 'NDI_b6_b3', 'NDI_b7_b3', 'NDI_b5_b4', 'NDI_b6_b4', 'NDI_b7_b4', 'NDI_b6_b5', 'NDI_b7_b5', 'NDI_b7_b6', 'DVI_b3_b2', 'DVI_b4_b2', 'DVI_b5_b2', 'DVI_b6_b2', 'DVI_b7_b2', 'DVI_b4_b3', 'DVI_b5_b3', 'DVI_b6_b3', 'DVI_b7_b3', 'DVI_b5_b4', 'DVI_b6_b4', 'DVI_b7_b4', 'DVI_b6_b5', 'DVI_b7_b5', 'DVI_b7_b6', 'RVI_b3_b2', 'RVI_b4_b2', 'RVI_b5_b2', 'RVI_b6_b2', 'RVI_b7_b2', 'RVI_b4_b3', 'RVI_b5_b3', 'RVI_b6_b3', 'RVI_b7_b3', 'RVI_b5_b4', 'RVI_b6_b4', 'RVI_b7_b4', 'RVI_b6_b5', 'RVI_b7_b5', 'RVI_b7_b6', 'EVI', 'TCARI', 'SAVI', 'MSAVI2', 'VARI', 'GLI', 'b2_1', 'b3_1', 'b4_1', 'b5_1', 'b6_1', 'b7_1', 'NDI_b3_b2_1', 'NDI_b4_b2_1', 'NDI_b5_b2_1', 'NDI_b6_b2_1', 'NDI_b7_b2_1', 'NDI_b4_b3_1', 'NDI_b5_b3_1', 'NDI_b6_b3_1', 'NDI_b7_b3_1', 'NDI_b5_b4_1', 'NDI_b6_b4_1', 'NDI_b7_b4_1', 'NDI_b6_b5_1', 'NDI_b7_b5_1', 'NDI_b7_b6_1', 'DVI_b3_b2_1', 'DVI_b4_b2_1', 'DVI_b5_b2_1', 'DVI_b6_b2_1', 'DVI_b7_b2_1', 'DVI_b4_b3_1', 'DVI_b5_b3_1', 'DVI_b6_b3_1', 'DVI_b7_b3_1', 'DVI_b5_b4_1', 'DVI_b6_b4_1', 'DVI_b7_b4_1', 'DVI_b6_b5_1', 'DVI_b7_b5_1', 'DVI_b7_b6_1', 'RVI_b3_b2_1', 'RVI_b4_b2_1', 'RVI_b5_b2_1', 'RVI_b6_b2_1', 'RVI_b7_b2_1', 'RVI_b4_b3_1', 'RVI_b5_b3_1', 'RVI_b6_b3_1', 'RVI_b7_b3_1', 'RVI_b5_b4_1', 'RVI_b6_b4_1', 'RVI_b7_b4_1', 'RVI_b6_b5_1', 'RVI_b7_b5_1', 'RVI_b7_b6_1', 'EVI_1', 'TCARI_1', 'SAVI_1', 'MSAVI2_1', 'VARI_1', 'GLI_1', 'b2_2', 'b3_2', 'b4_2', 'b5_2', 'b6_2', 'b7_2', 'NDI_b3_b2_2', 'NDI_b4_b2_2', 'NDI_b5_b2_2', 'NDI_b6_b2_2', 'NDI_b7_b2_2', 'NDI_b4_b3_2', 'NDI_b5_b3_2', 'NDI_b6_b3_2', 'NDI_b7_b3_2', 'NDI_b5_b4_2', 'NDI_b6_b4_2', 'NDI_b7_b4_2', 'NDI_b6_b5_2', 'NDI_b7_b5_2', 'NDI_b7_b6_2', 'DVI_b3_b2_2', 'DVI_b4_b2_2', 'DVI_b5_b2_2', 'DVI_b6_b2_2', 'DVI_b7_b2_2', 'DVI_b4_b3_2', 'DVI_b5_b3_2', 'DVI_b6_b3_2', 'DVI_b7_b3_2', 'DVI_b5_b4_2', 'DVI_b6_b4_2', 'DVI_b7_b4_2', 'DVI_b6_b5_2', 'DVI_b7_b5_2', 'DVI_b7_b6_2', 'RVI_b3_b2_2', 'RVI_b4_b2_2', 'RVI_b5_b2_2', 'RVI_b6_b2_2', 'RVI_b7_b2_2', 'RVI_b4_b3_2', 'RVI_b5_b3_2', 'RVI_b6_b3_2', 'RVI_b7_b3_2', 'RVI_b5_b4_2', 'RVI_b6_b4_2', 'RVI_b7_b4_2', 'RVI_b6_b5_2', 'RVI_b7_b5_2', 'RVI_b7_b6_2', 'EVI_2', 'TCARI_2', 'SAVI_2', 'MSAVI2_2', 'VARI_2', 'GLI_2', 'b2_3', 'b3_3', 'b4_3', 'b5_3', 'b6_3', 'b7_3', 'NDI_b3_b2_3', 'NDI_b4_b2_3', 'NDI_b5_b2_3', 'NDI_b6_b2_3', 'NDI_b7_b2_3', 'NDI_b4_b3_3', 'NDI_b5_b3_3', 'NDI_b6_b3_3', 'NDI_b7_b3_3', 'NDI_b5_b4_3', 'NDI_b6_b4_3', 'NDI_b7_b4_3', 'NDI_b6_b5_3', 'NDI_b7_b5_3', 'NDI_b7_b6_3', 'DVI_b3_b2_3', 'DVI_b4_b2_3', 'DVI_b5_b2_3', 'DVI_b6_b2_3', 'DVI_b7_b2_3', 'DVI_b4_b3_3', 'DVI_b5_b3_3', 'DVI_b6_b3_3', 'DVI_b7_b3_3', 'DVI_b5_b4_3', 'DVI_b6_b4_3', 'DVI_b7_b4_3', 'DVI_b6_b5_3', 'DVI_b7_b5_3', 'DVI_b7_b6_3', 'RVI_b3_b2_3', 'RVI_b4_b2_3', 'RVI_b5_b2_3', 'RVI_b6_b2_3', 'RVI_b7_b2_3', 'RVI_b4_b3_3', 'RVI_b5_b3_3', 'RVI_b6_b3_3', 'RVI_b7_b3_3', 'RVI_b5_b4_3', 'RVI_b6_b4_3', 'RVI_b7_b4_3', 'RVI_b6_b5_3', 'RVI_b7_b5_3', 'RVI_b7_b6_3', 'EVI_3', 'TCARI_3', 'SAVI_3', 'MSAVI2_3', 'VARI_3', 'GLI_3', 'b2_4', 'b3_4', 'b4_4', 'b5_4', 'b6_4', 'b7_4', 'NDI_b3_b2_4', 'NDI_b4_b2_4', 'NDI_b5_b2_4', 'NDI_b6_b2_4', 'NDI_b7_b2_4', 'NDI_b4_b3_4', 'NDI_b5_b3_4', 'NDI_b6_b3_4', 'NDI_b7_b3_4', 'NDI_b5_b4_4', 'NDI_b6_b4_4', 'NDI_b7_b4_4', 'NDI_b6_b5_4', 'NDI_b7_b5_4', 'NDI_b7_b6_4', 'DVI_b3_b2_4', 'DVI_b4_b2_4', 'DVI_b5_b2_4', 'DVI_b6_b2_4', 'DVI_b7_b2_4', 'DVI_b4_b3_4', 'DVI_b5_b3_4', 'DVI_b6_b3_4', 'DVI_b7_b3_4', 'DVI_b5_b4_4', 'DVI_b6_b4_4', 'DVI_b7_b4_4', 'DVI_b6_b5_4', 'DVI_b7_b5_4', 'DVI_b7_b6_4', 'RVI_b3_b2_4', 'RVI_b4_b2_4', 'RVI_b5_b2_4', 'RVI_b6_b2_4', 'RVI_b7_b2_4', 'RVI_b4_b3_4', 'RVI_b5_b3_4', 'RVI_b6_b3_4', 'RVI_b7_b3_4', 'RVI_b5_b4_4', 'RVI_b6_b4_4', 'RVI_b7_b4_4', 'RVI_b6_b5_4', 'RVI_b7_b5_4', 'RVI_b7_b6_4', 'EVI_4', 'TCARI_4', 'SAVI_4', 'MSAVI2_4', 'VARI_4', 'GLI_4', 'b2_5', 'b3_5', 'b4_5', 'b5_5', 'b6_5', 'b7_5', 'NDI_b3_b2_5', 'NDI_b4_b2_5', 'NDI_b5_b2_5', 'NDI_b6_b2_5', 'NDI_b7_b2_5', 'NDI_b4_b3_5', 'NDI_b5_b3_5', 'NDI_b6_b3_5', 'NDI_b7_b3_5', 'NDI_b5_b4_5', 'NDI_b6_b4_5', 'NDI_b7_b4_5', 'NDI_b6_b5_5', 'NDI_b7_b5_5', 'NDI_b7_b6_5', 'DVI_b3_b2_5', 'DVI_b4_b2_5', 'DVI_b5_b2_5', 'DVI_b6_b2_5', 'DVI_b7_b2_5', 'DVI_b4_b3_5', 'DVI_b5_b3_5', 'DVI_b6_b3_5', 'DVI_b7_b3_5', 'DVI_b5_b4_5', 'DVI_b6_b4_5', 'DVI_b7_b4_5', 'DVI_b6_b5_5', 'DVI_b7_b5_5', 'DVI_b7_b6_5', 'RVI_b3_b2_5', 'RVI_b4_b2_5', 'RVI_b5_b2_5', 'RVI_b6_b2_5', 'RVI_b7_b2_5', 'RVI_b4_b3_5', 'RVI_b5_b3_5', 'RVI_b6_b3_5', 'RVI_b7_b3_5', 'RVI_b5_b4_5', 'RVI_b6_b4_5', 'RVI_b7_b4_5', 'RVI_b6_b5_5', 'RVI_b7_b5_5', 'RVI_b7_b6_5', 'EVI_5', 'TCARI_5', 'SAVI_5', 'MSAVI2_5', 'VARI_5', 'GLI_5']\n"
     ]
    }
   ],
   "source": [
    "IC_toScaled = image.addBands(image2).addBands(image3).addBands(image4).addBands(image5).addBands(image6).addBands(image7)\n",
    "Image(url=IC_toScaled.getThumbUrl({min: 0, max: 1024, 'bands': 'b5,b3,b2', 'gamma': '1.1, 1.1, 1.1'}))\n",
    "print(IC_toScaled.bandNames().getInfo())"
   ]
  },
  {
   "cell_type": "code",
   "execution_count": 66,
   "metadata": {
    "collapsed": false
   },
   "outputs": [],
   "source": [
    "perc = 0\n",
    "# function to scale values between 0 and 1\n",
    "## function to transform the image to 255 bits (uint8):\n",
    "#def transformTouint8Reducers(image, perc):\n",
    "\n",
    "# This scale consider all values at the same time ?\n",
    "# how to apply a reducer per band\n",
    "NameBands = IC_toScaled.bandNames()"
   ]
  },
  {
   "cell_type": "code",
   "execution_count": 65,
   "metadata": {
    "collapsed": false
   },
   "outputs": [
    {
     "name": "stdout",
     "output_type": "stream",
     "text": [
      "{'bands': [{'crs': 'EPSG:32614', 'id': 'min', 'data_type': {'min': 0, 'precision': 'int', 'max': 255, 'type': 'PixelType'}, 'crs_transform': [30.0, 0.0, 571785.0, 0.0, -30.0, 3140715.0]}, {'crs': 'EPSG:32614', 'id': 'max', 'data_type': {'min': 0, 'precision': 'int', 'max': 255, 'type': 'PixelType'}, 'crs_transform': [30.0, 0.0, 571785.0, 0.0, -30.0, 3140715.0]}], 'type': 'Image', 'properties': {'system:footprint': {'coordinates': [[[-97.7964, 27.300800000000002], [-96.99639999999998, 27.300800000000002], [-96.99639999999998, 28.100800000000003], [-97.7964, 28.100800000000003], [-97.7964, 27.300800000000002]]], 'geodesic': True, 'type': 'Polygon'}}}\n"
     ]
    }
   ],
   "source": [
    "extrema = IC_toScaled.reduce(ee.Reducer.minMax())\n",
    "print(extrema.getInfo())\n",
    "m0 = ee.Number(extrema.get('min'))\n",
    "m0.getInfo()"
   ]
  },
  {
   "cell_type": "code",
   "execution_count": 68,
   "metadata": {
    "collapsed": false
   },
   "outputs": [],
   "source": [
    "geom = image2.geometry()\n",
    "minValues = IC_toScaled.reduceRegion(\n",
    "          reducer=ee.Reducer.max(),\n",
    "          bestEffort=True,\n",
    "          maxPixels=100000000).toImage(NameBands)      # to pairwise with the names of bands and use later \n",
    "\n",
    "maxValues = IC_toScaled.reduceRegion(\n",
    "          reducer=ee.Reducer.percentile([100]),\n",
    "          bestEffort=True,\n",
    "          maxPixels=100000000).toImage(NameBands)\n",
    "\n",
    "IC = (IC_toScaled.subtract(minValues).divide(maxValues.subtract(minValues))).toUint8()   #scale to 0-1\n",
    "IC = IC.clip(geom)"
   ]
  },
  {
   "cell_type": "code",
   "execution_count": 69,
   "metadata": {
    "collapsed": false
   },
   "outputs": [
    {
     "ename": "SyntaxError",
     "evalue": "unexpected EOF while parsing (<ipython-input-69-d8e8d6cf05f5>, line 3)",
     "traceback": [
      "\u001b[0;36m  File \u001b[0;32m\"<ipython-input-69-d8e8d6cf05f5>\"\u001b[0;36m, line \u001b[0;32m3\u001b[0m\n\u001b[0;31m    \u001b[0m\n\u001b[0m    ^\u001b[0m\n\u001b[0;31mSyntaxError\u001b[0m\u001b[0;31m:\u001b[0m unexpected EOF while parsing\n"
     ],
     "output_type": "error"
    }
   ],
   "source": [
    ""
   ]
  },
  {
   "cell_type": "code",
   "execution_count": 72,
   "metadata": {
    "collapsed": false
   },
   "outputs": [
    {
     "data": {
      "text/html": [
       "<img src=\"https://earthengine.googleapis.com/api/thumb?thumbid=d29c7dacb3acd71cd8836d0882943308&token=1bd7500081de0793fa10200119f8c008\"/>"
      ],
      "text/plain": [
       "<IPython.core.display.Image object>"
      ]
     },
     "execution_count": 72,
     "metadata": {},
     "output_type": "execute_result"
    }
   ],
   "source": [
    "Image(url=IC_toScaled.getThumbUrl({min: 0, max: 1, 'bands': 'b5,b3,b2', 'gamma': '1, 1.1, 1.1'}))"
   ]
  },
  {
   "cell_type": "code",
   "execution_count": null,
   "metadata": {
    "collapsed": true
   },
   "outputs": [],
   "source": [
    "classifiers = ({'CART':True, 'RF':True, 'SVML': True, 'SVMP': True, 'GMO': True})\n",
    "weigth_classifiers = ({'CART':[0.94125],'GMO':[0.61625],'RF':[0.958125]"
   ]
  }
 ],
 "metadata": {
  "kernelspec": {
   "display_name": "Python 3",
   "language": "python",
   "name": "python3"
  },
  "language_info": {
   "codemirror_mode": {
    "name": "ipython",
    "version": 3.0
   },
   "file_extension": ".py",
   "mimetype": "text/x-python",
   "name": "python",
   "nbconvert_exporter": "python",
   "pygments_lexer": "ipython3",
   "version": "3.5.1"
  }
 },
 "nbformat": 4,
 "nbformat_minor": 0
}