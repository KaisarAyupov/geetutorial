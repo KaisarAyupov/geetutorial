{
 "cells": [
  {
   "cell_type": "markdown",
   "metadata": {
    "collapsed": true
   },
   "source": [
    "______\n",
    "<img style=\"float: right;\" src=\"./images/headerlogo.png\">\n",
    "## Google Earth Engine Tutorial\n",
    "### Histograms\n",
    "_____"
   ]
  },
  {
   "cell_type": "markdown",
   "metadata": {},
   "source": [
    "In previous examples, multiband images were displayed in RGB combination providing the *min* and *max*  parameters to strecth digital levels to 0 - 256 values.  A Styled Layer Descriptor (SLD) can also be used in GEE for image display. <br> \n",
    "With the RasterSymbolizer element we can specify the pixel strecth we want to apply. <br>\n",
    "There is only three possibilities:\n",
    "<ul>\n",
    "<li>Normalize: stretch the image contrast by mapping the minimum and maximum image values to the minimun and maximum brightness.\n",
    "<li>Histogram: stretch the image contrast by distributing an equal number of pixels at each brghtness value\n",
    "<li>GammaValue: adjust the brightness of the image. A value of 1 means no change \n",
    "</ul><br>\n",
    "More complicated visualizations can be created. For additional info, check the link: http://docs.geoserver.org/latest/en/user/styling/sld/reference/rastersymbolizer.html"
   ]
  },
  {
   "cell_type": "code",
   "execution_count": 1,
   "metadata": {
    "collapsed": false
   },
   "outputs": [
    {
     "data": {
      "text/html": [
       "<img src=\"https://earthengine.googleapis.com/api/thumb?thumbid=0cd951a04a68411bca99167f5e51313a&token=b2840a4fc3c3bdad9e71bf87f4b1dfb0\"/>"
      ],
      "text/plain": [
       "<IPython.core.display.Image object>"
      ]
     },
     "execution_count": 1,
     "metadata": {},
     "output_type": "execute_result"
    }
   ],
   "source": [
    "import ee\n",
    "from IPython.display import Image\n",
    "ee.Initialize()\n",
    "\n",
    "image = ee.Image(\"users/rosamaguilar/tutorial/subset\")\n",
    "\n",
    "# Define a RasterSymbolizer element with '_enhance_' for a placeholder.\n",
    "template_sld = '<RasterSymbolizer>' + \\\n",
    "    '<ContrastEnhancement><_enhance_/></ContrastEnhancement>' + '<ChannelSelection>' +\\\n",
    "      '<RedChannel>' + '<SourceChannelName>b5</SourceChannelName>' + '</RedChannel>' + \\\n",
    "    '<GreenChannel>' + '<SourceChannelName>b3</SourceChannelName>' + '</GreenChannel>' + \\\n",
    "    '<BlueChannel>' + '<SourceChannelName>b2</SourceChannelName>' + '</BlueChannel>' +\\\n",
    "    '</ChannelSelection>' + '</RasterSymbolizer>'\n",
    "\n",
    "# Get SLDs with different enhancements.\n",
    "equalize_sld = template_sld.replace('_enhance_', 'Histogram');  # Equalized\n",
    "normalize_sld = template_sld.replace('_enhance_', 'Normalize');\n",
    "\n",
    "# Display the image with a histogram equalization stretch.\n",
    "# band names of the outputs images are related to the type of sld used\n",
    "Image(url = image.sldStyle(equalize_sld).getThumbUrl({}))"
   ]
  },
  {
   "cell_type": "code",
   "execution_count": 2,
   "metadata": {
    "collapsed": false
   },
   "outputs": [
    {
     "data": {
      "text/html": [
       "<img src=\"https://earthengine.googleapis.com/api/thumb?thumbid=5c367efb1f49d19a93840d4bf44b4fc9&token=5628a6cc874157fb7d897c92b355c92c\"/>"
      ],
      "text/plain": [
       "<IPython.core.display.Image object>"
      ]
     },
     "execution_count": 2,
     "metadata": {},
     "output_type": "execute_result"
    }
   ],
   "source": [
    "# Display the image using  Normalize stretch\n",
    "image = image.sldStyle(normalize_sld)\n",
    "Image(url = image.getThumbUrl({}))"
   ]
  },
  {
   "cell_type": "markdown",
   "metadata": {},
   "source": [
    "Above examples shows a predefined style, but it could be of interest to modify the histogram applying a customized stretch. First we should explore the original histogram. To do this, we will apply a *reducer* called *frequencyHistogram* over a region that for this case will be the whole image. "
   ]
  },
  {
   "cell_type": "markdown",
   "metadata": {},
   "source": [
    "A **reducer** makes common calculation such as minimum, maximum, median, first, count, etc. It can be applied to a neighbourhood, region, etc. \n",
    "\n",
    "The function *reduceRegion* will be applied over the whole image to obtain the values for the histogram. \n",
    "\n",
    "The following parameters can be specified for the function <i>reduceRegion</i>:\n",
    "\n",
    "+ *reducer*: the *reducer* to apply.\n",
    "+ *geometry*: region over which the reducer will be applied. By default is the footprint (extent) of the image's first band. <br> \n",
    "+ *scale*: scale in meters of the projection. \n",
    "+ *crs*: the projection to work in.\n",
    "+ *crsTransform*: a list of values to apply a transformation of the CRS. Default value: null.\n",
    "+ *bestEffort*: a flag to indicate that the calculation can be done at larger scale to succeed if too many pixels are involved. Default value: False.\n",
    "+ *maxPixels*: the maximum number of pixels to process. Default value:10000000.\n",
    "+ *tileScale*: A scaling factor to aggregate tile size. Default value:1. Using higher values would reduce the memory needed to finish the computation. "
   ]
  },
  {
   "cell_type": "code",
   "execution_count": 3,
   "metadata": {
    "collapsed": false
   },
   "outputs": [
    {
     "data": {
      "text/html": [
       "<img src=\"https://earthengine.googleapis.com/api/thumb?thumbid=27475a6f49961e81335e287011c043a1&token=061cab463b162d083fa3cfb8d17a2355\"/>"
      ],
      "text/plain": [
       "<IPython.core.display.Image object>"
      ]
     },
     "execution_count": 3,
     "metadata": {},
     "output_type": "execute_result"
    }
   ],
   "source": [
    "# visualize the image without any stretch\n",
    "# load the image\n",
    "image = ee.Image(\"users/rosamaguilar/tutorial/subset\"); \n",
    "# Visualize the image\n",
    "Image(url=image.getThumbUrl({'min': 0, 'max': 2048,'bands': 'b5,b3,b2'}))"
   ]
  },
  {
   "cell_type": "code",
   "execution_count": 4,
   "metadata": {
    "collapsed": false
   },
   "outputs": [
    {
     "name": "stdout",
     "output_type": "stream",
     "text": [
      "Minimum and maximum value for : b5 is 0.00 9114.00\n",
      "Minimum and maximum value for : b2 is 0.00 10486.00\n",
      "Minimum and maximum value for : b4 is 0.00 8015.00\n",
      "Minimum and maximum value for : b8 is 0.00 10267.00\n",
      "Minimum and maximum value for : b3 is 0.00 8531.00\n",
      "Minimum and maximum value for : b1 is 0.00 7679.00\n",
      "Minimum and maximum value for : b7 is 317.00 8766.00\n",
      "Minimum and maximum value for : b6 is 10.00 9437.00\n"
     ]
    }
   ],
   "source": [
    "import numpy as np\n",
    "import matplotlib.pyplot as plt\n",
    "# compute the histogram \n",
    "# set the geometry of the image to use as region in the function reduceRegion\n",
    "geom = image.geometry()\n",
    "# set the original scale of the image\n",
    "scale = image.projection().nominalScale()\n",
    "# compute the histogram\n",
    "bfreq = image.reduceRegion(\n",
    "  reducer = ee.Reducer.frequencyHistogram(),    #.unweighted(),\n",
    "  geometry = geom,\n",
    "  scale = scale,\n",
    "  maxPixels = 10000000 ).getInfo()\n",
    "#print(bfreq)\n",
    "\n",
    "# The output of reduceRegion is a dictionary with the format:\n",
    "# {'bandname': {'key':value}}\n",
    "    \n",
    "# We will build series  for x values and y values in order to build the histogram    \n",
    "\n",
    "# define two dictionaries for frequencies and values respectively\n",
    "freqs= dict()\n",
    "vals = dict()\n",
    "\n",
    "# populate dictionaries\n",
    "for l in bfreq.keys():\n",
    "    \n",
    "    d = bfreq[l]\n",
    "    #print(d)\n",
    "    freq = []\n",
    "    val = []\n",
    "    for k,v in d.items():\n",
    "        #print(k,v)\n",
    "        if not(k == 'null'):\n",
    "            val.append(int(k))\n",
    "            freq.append(int(v))\n",
    "    freqs[l] = freq \n",
    "    vals[l] = val\n",
    "    print('Minimum and maximum value for : %s is %.2f %.2f' % (l, np.min(val), np.max(val) ))\n",
    "    #print(freqs[l]),np.min(val)"
   ]
  },
  {
   "cell_type": "code",
   "execution_count": 5,
   "metadata": {
    "collapsed": false
   },
   "outputs": [
    {
     "data": {
      "image/png": "[encoded data removed]",
      "text/plain": [
       "<matplotlib.figure.Figure at 0x1cbc73652b0>"
      ]
     },
     "metadata": {},
     "output_type": "display_data"
    },
    {
     "data": {
      "image/png": "[encoded data removed]",
      "text/plain": [
       "<matplotlib.figure.Figure at 0x1cbc7365320>"
      ]
     },
     "metadata": {},
     "output_type": "display_data"
    },
    {
     "data": {
      "image/png": "[encoded data removed]",
      "text/plain": [
       "<matplotlib.figure.Figure at 0x1cbc0b991d0>"
      ]
     },
     "metadata": {},
     "output_type": "display_data"
    }
   ],
   "source": [
    "# With the series  freqs and vals, a function will plot histograms for bands b5, b3 and b2\n",
    "# # function to plot bands red \n",
    "\n",
    "def plot_hist(vals, freqs, min = 0, max = 6500, title='Histogram', color = 'red'):\n",
    "    \n",
    "    # ind = np.arange(len(vals))  # \n",
    "    #plt.bar(vals,freq, color='#d62728',edgecolor='#d62728')  \n",
    "    #plt.ylabel('Count')\n",
    "    #plt.title('Histogram Band 5')\n",
    "    f, ax1 = plt.subplots(1,1)\n",
    "    #ax1.bar( vals['b5'],freqs['b5'],color='red',edgecolor='red') #d62728\n",
    "    ax1.bar( vals ,freqs,color=color,edgecolor=color) #d62728\n",
    "    ax1.set_title(title, fontsize=9)\n",
    "    ax1.set_xlabel('Values', fontsize=8)\n",
    "    ax1.set_ylabel('Count', fontsize=8)\n",
    "    ax1.tick_params( labelsize =8)\n",
    "    ax1.set_xlim(min,max)\n",
    "    plt.show()\n",
    "    \n",
    "# Call the function    \n",
    "plot_hist( vals['b5'],freqs['b5'], 0, 9114,\"Histogram Red band\")\n",
    "plot_hist(vals['b3'],freqs['b3'], 0,8531, \"Histogram Red band\", color =  \"green\")\n",
    "plot_hist( vals['b2'], freqs['b2'], 0, 10486,\"Histogram Blue band \",  \"blue\")\n"
   ]
  },
  {
   "cell_type": "code",
   "execution_count": 6,
   "metadata": {
    "collapsed": false
   },
   "outputs": [
    {
     "data": {
      "image/png": "[encoded data removed]",
      "text/plain": [
       "<matplotlib.figure.Figure at 0x1cbc41fefd0>"
      ]
     },
     "metadata": {},
     "output_type": "display_data"
    }
   ],
   "source": [
    "# a plot of infrared band\n",
    "plot_hist( vals['b7'], freqs['b7'], 0, 8766, \"Histogram InfraRed band\",\"cyan\")"
   ]
  },
  {
   "cell_type": "markdown",
   "metadata": {
    "collapsed": true
   },
   "source": [
    "It is common to apply a linear stretch, deleting  certain percent of pixels considered noise or outlier. The following example deletes 5% of the values by applying *percentile* reducers to get the percentile 2,5 and 97,5% respectively. These values are  set as *minimum* and *maximum* to scale image values to 0 and 255 "
   ]
  },
  {
   "cell_type": "code",
   "execution_count": 8,
   "metadata": {
    "collapsed": false
   },
   "outputs": [
    {
     "name": "stdout",
     "output_type": "stream",
     "text": [
      "done!\n"
     ]
    }
   ],
   "source": [
    "# first define a function to transform the image values \n",
    "#=================================\n",
    "# function to transform the image to 255 bits (uint8):\n",
    "def transformTouint8Reducers(image, perc):\n",
    "    NameBands = image.bandNames()\n",
    "    minValues = image.reduceRegion(\n",
    "          reducer=ee.Reducer.percentile([perc]),\n",
    "          bestEffort=True,\n",
    "          maxPixels=100000000,\n",
    "          ).toImage(NameBands)\n",
    "\n",
    "    maxValues = image.reduceRegion(\n",
    "          reducer=ee.Reducer.percentile([100-perc]),\n",
    "          bestEffort=True,\n",
    "          maxPixels=100000000,\n",
    "          ).toImage(NameBands)\n",
    "\n",
    "    return image.subtract(minValues).divide(maxValues.subtract(minValues)).multiply(255).byte()    # this scale values to 0-255\n",
    "\n",
    "# Compute the image with pixel values between 0-255\n",
    "img256 = transformTouint8Reducers(image,2.5)\n",
    "print(\"done!\")"
   ]
  },
  {
   "cell_type": "code",
   "execution_count": null,
   "metadata": {
    "collapsed": false
   },
   "outputs": [],
   "source": [
    "# Compute new histograms\n",
    "geom = img256.geometry()\n",
    "scale = img256.projection().nominalScale()\n",
    "# compute the histogram\n",
    "bfreq = img256.reduceRegion(reducer = ee.Reducer.frequencyHistogram(),geometry = geom, scale = scale,\n",
    "                             maxPixels = 10000000 ).getInfo()\n",
    "\n",
    "nfreqs= dict()\n",
    "nvals = dict()\n",
    "\n",
    "for l in bfreq.keys():\n",
    "    d = bfreq[l]\n",
    "    freq = []\n",
    "    val = []\n",
    "    for k,v in d.items():\n",
    "        if not(k == 'null'):\n",
    "            val.append(int(k))\n",
    "            freq.append(int(v))\n",
    "    nfreqs[l] = freq \n",
    "    nvals[l] = val\n",
    "    #print('Minimum and maximum value for : %s is %.2f %.2f' % (l, np.min(val), np.max(val) ))\n",
    "  \n",
    "# Call the function    \n",
    "plot_hist(nvals['b5'], nfreqs['b5'], 0, 255,\"New histogram Red band\")\n",
    "plot_hist(nvals['b3'], nfreqs['b3'], 0, 255, \"New Histogram Red band\", color =  \"green\")\n",
    "plot_hist(nvals['b2'], nfreqs['b2'], 0, 255,\"New Histogram Blue band \",  \"blue\")\n"
   ]
  },
  {
   "cell_type": "code",
   "execution_count": null,
   "metadata": {
    "collapsed": false
   },
   "outputs": [],
   "source": [
    "#Show the image before and after the histogram stretch\n",
    "from IPython.display import display\n",
    "# image before\n",
    "img1  = Image(url = image.getThumbUrl({'min': 0, 'max': 2048,'bands': 'b5,b3,b2'}))\n",
    "# image after\n",
    "img2  = Image(url = img256.getThumbUrl({'min': 0, 'max': 256,'bands': 'b5,b3,b2'}))\n",
    "\n",
    "display(img1, img2)\n",
    "# you may notice that changes are saved into the image img256"
   ]
  },
  {
   "cell_type": "markdown",
   "metadata": {
    "collapsed": true
   },
   "source": [
    "Yoy may try to code a function to apply a *Gaussian* enhancement to the image subset.\n",
    "The Gaussian stretch is centered at the value of 127 (digital level) with the data values in ± 3 standard deviations set to 0 and 255. "
   ]
  },
  {
   "cell_type": "code",
   "execution_count": null,
   "metadata": {
    "collapsed": true
   },
   "outputs": [],
   "source": []
  }
 ],
 "metadata": {
  "kernelspec": {
   "display_name": "Python 3",
   "language": "python",
   "name": "python3"
  },
  "language_info": {
   "codemirror_mode": {
    "name": "ipython",
    "version": 3
   },
   "file_extension": ".py",
   "mimetype": "text/x-python",
   "name": "python",
   "nbconvert_exporter": "python",
   "pygments_lexer": "ipython3",
   "version": "3.5.1"
  }
 },
 "nbformat": 4,
 "nbformat_minor": 2
}
