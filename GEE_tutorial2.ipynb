{
 "cells": [
  {
   "cell_type": "markdown",
   "metadata": {},
   "source": [
    "## Overview of GEE web interface"
   ]
  },
  {
   "cell_type": "markdown",
   "metadata": {},
   "source": [
    "Although we will use the python API of GEE, it is good to take a look to the GEE Javascript playground.\n",
    "We ca distinguish 4 main areas as the image below shows. \n",
    "1. Left panel. Here we have three tabs: <i>scripts</i>, <i>asset</i> and <i>docs</i>. \n",
    "2. Middle panel. A script editor.\n",
    "3. Right panel. It consist of three tabs: <i>Inspector</i>, <i>console</i> and <i>tasks</i>. \n",
    "4. Map area. We can add visualize data it in this section or edit features.<br> \n",
    "![alt text](/files/images/GEE_overview.png \"Create a folder in GEE\")"
   ]
  },
  {
   "cell_type": "markdown",
   "metadata": {},
   "source": [
    "### Data Visualization"
   ]
  },
  {
   "cell_type": "markdown",
   "metadata": {},
   "source": [
    "GEE has a large amount of Earth data free available for researchers. However, sometimes we need to process our own data."
   ]
  },
  {
   "cell_type": "markdown",
   "metadata": {},
   "source": [
    "To add our images in GEE. We will create a new folder <b>Tutorial<b>  \n",
    "![alt text](/files/images/create_folder_gee2.png \"Create a folder in GEE\")"
   ]
  },
  {
   "cell_type": "code",
   "execution_count": null,
   "metadata": {
    "collapsed": true
   },
   "outputs": [],
   "source": [
    ""
   ]
  },
  {
   "cell_type": "markdown",
   "metadata": {},
   "source": [
    "We will load the image <i>subset.tif </i>. This is a subset of a Worldview-2 image and it was acquired in 2014.\n",
    "Load the image in your GEE asset as we see in the image below. For now, keep the default options.\n",
    "![alt text](/files/images/insert_image.png \"Insert image in the tutorial folder\")\n"
   ]
  },
  {
   "cell_type": "markdown",
   "metadata": {},
   "source": [
    "Now that we can visualize the image loaded.\n",
    "To do this, we will execute the commands below"
   ]
  },
  {
   "cell_type": "code",
   "execution_count": 51,
   "metadata": {
    "collapsed": true
   },
   "outputs": [],
   "source": [
    "import ee \n",
    "ee.Initialize() \n",
    "from IPython.display import Image  # To display image thumbnails."
   ]
  },
  {
   "cell_type": "code",
   "execution_count": 64,
   "metadata": {
    "collapsed": false
   },
   "outputs": [
    {
     "data": {
      "text/html": [
       "<img src=\"https://earthengine.googleapis.com/api/thumb?thumbid=882660dc499f3aefeb7137b361f9c3c2&token=dea2ba6f08bf4ebaebc87b4499bc17c1\"/>"
      ],
      "text/plain": [
       "<IPython.core.display.Image object>"
      ]
     },
     "execution_count": 64,
     "metadata": {},
     "output_type": "execute_result"
    }
   ],
   "source": [
    "# load our image \n",
    "image = ee.Image(\"users/rosamaguilar/tutorial/subset\")\n",
    "# display the image, The maximun pixel value is 2048 because the image has 11-bit per pixel but we are \n",
    "# making an 8-bit display image, then the pixel values need to be stretch to fit in the range (0,255).   \n",
    "Image(url=image.getThumbUrl({'min':0, 'max':2048}))"
   ]
  },
  {
   "cell_type": "markdown",
   "metadata": {},
   "source": [
    "Above we have an image but there is no clue about which bands are displayed and their order. \n",
    "We can specify bands to display and additional parameters as follows: <br><br>\n",
    "<i>Bands:</i> \tList of three band names to be display in the RGB channels. <br> \n",
    "<i>palette:</i>\tColor palette in a list of hexadecimal code strings. Apply to single-band images.<br> \n",
    "<i>opacity: </i>\tThe transparency of the layer (0.0 is fully transparent and 1.0 is fully opaque)<br> \n",
    "<i>format: </i>\t String to  specify either \"jpg\" or \"png\". <br>  \n",
    "\n",
    "The following parameters can be fixed using a single number to be applied to the three bands or by using a list of three numbers, one for each band: <br> \n",
    "<i> min: </i>\tValue(s) to map to 0. <br> \n",
    "<i> max: </i>\tValue(s) to map to 255. <br> \n",
    "<i> gain: </i>\tValue(s) by which to multiply each pixel value.<br> \n",
    "<i> bias: </i>\tValue(s) to add to each pixel value.<br> \n",
    "<i> gamma: </i>\tGamma correction factor(s).<br> \n"
   ]
  },
  {
   "cell_type": "code",
   "execution_count": 53,
   "metadata": {
    "collapsed": false
   },
   "outputs": [
    {
     "data": {
      "text/html": [
       "<img src=\"https://earthengine.googleapis.com/api/thumb?thumbid=eddf5ee15c184c3a63e946abe3211f45&token=b8ed48c5cb4692f1707168d50e420414\"/>"
      ],
      "text/plain": [
       "<IPython.core.display.Image object>"
      ]
     },
     "execution_count": 53,
     "metadata": {},
     "output_type": "execute_result"
    }
   ],
   "source": [
    "# set band order RGB natural color composite\n",
    "# gamma corrections factors (one per band)\n",
    "Image(url=image.getThumbUrl({'min': 0, 'max': 2048,'bands': 'b5,b3,b2', 'gamma': '0.95, 1.1, 1'}))"
   ]
  },
  {
   "cell_type": "markdown",
   "metadata": {},
   "source": [
    "You may try other band combinations and gamma factors."
   ]
  },
  {
   "cell_type": "code",
   "execution_count": 58,
   "metadata": {
    "collapsed": false
   },
   "outputs": [
    {
     "name": "stdout",
     "output_type": "stream",
     "text": [
      "{'type': 'Image', 'properties': {'system:asset_size': 5839050, 'system:footprint': {'type': 'LinearRing', 'coordinates': [[-5.2025191570512765, 12.159825582803961], [-5.202516851635505, 12.159825459718073], [-5.189927460512273, 12.15992551735162], [-5.189919034443333, 12.159932901288647], [-5.189909729639849, 12.159939196772044], [-5.189909178271649, 12.159942159884043], [-5.189992426450091, 12.170105809735732], [-5.189999980265262, 12.17011404853716], [-5.190006422302447, 12.170123145052345], [-5.190008690214821, 12.17012354831131], [-5.190010995831953, 12.170123671499278], [-5.202600866228118, 12.170023527763393], [-5.202609292178024, 12.170016143418682], [-5.202618596995535, 12.170009847540083], [-5.20261914824336, 12.170006884346753], [-5.2025354210176005, 12.159843320651753], [-5.202527867137842, 12.159835082220859], [-5.202521425008991, 12.159825985989212], [-5.2025191570512765, 12.159825582803961]]}}, 'version': 1490181720284000, 'id': 'users/rosamaguilar/tutorial/subset', 'bands': [{'crs': 'EPSG:32630', 'dimensions': [686, 563], 'crs_transform': [2.0009777545928955, 0.0, 260323.03819620793, 0.0, -2.0009777545928955, 1346325.1740949643], 'id': 'b1', 'data_type': {'type': 'PixelType', 'min': 0, 'max': 65535, 'precision': 'int'}}, {'crs': 'EPSG:32630', 'dimensions': [686, 563], 'crs_transform': [2.0009777545928955, 0.0, 260323.03819620793, 0.0, -2.0009777545928955, 1346325.1740949643], 'id': 'b2', 'data_type': {'type': 'PixelType', 'min': 0, 'max': 65535, 'precision': 'int'}}, {'crs': 'EPSG:32630', 'dimensions': [686, 563], 'crs_transform': [2.0009777545928955, 0.0, 260323.03819620793, 0.0, -2.0009777545928955, 1346325.1740949643], 'id': 'b3', 'data_type': {'type': 'PixelType', 'min': 0, 'max': 65535, 'precision': 'int'}}, {'crs': 'EPSG:32630', 'dimensions': [686, 563], 'crs_transform': [2.0009777545928955, 0.0, 260323.03819620793, 0.0, -2.0009777545928955, 1346325.1740949643], 'id': 'b4', 'data_type': {'type': 'PixelType', 'min': 0, 'max': 65535, 'precision': 'int'}}, {'crs': 'EPSG:32630', 'dimensions': [686, 563], 'crs_transform': [2.0009777545928955, 0.0, 260323.03819620793, 0.0, -2.0009777545928955, 1346325.1740949643], 'id': 'b5', 'data_type': {'type': 'PixelType', 'min': 0, 'max': 65535, 'precision': 'int'}}, {'crs': 'EPSG:32630', 'dimensions': [686, 563], 'crs_transform': [2.0009777545928955, 0.0, 260323.03819620793, 0.0, -2.0009777545928955, 1346325.1740949643], 'id': 'b6', 'data_type': {'type': 'PixelType', 'min': 0, 'max': 65535, 'precision': 'int'}}, {'crs': 'EPSG:32630', 'dimensions': [686, 563], 'crs_transform': [2.0009777545928955, 0.0, 260323.03819620793, 0.0, -2.0009777545928955, 1346325.1740949643], 'id': 'b7', 'data_type': {'type': 'PixelType', 'min': 0, 'max': 65535, 'precision': 'int'}}, {'crs': 'EPSG:32630', 'dimensions': [686, 563], 'crs_transform': [2.0009777545928955, 0.0, 260323.03819620793, 0.0, -2.0009777545928955, 1346325.1740949643], 'id': 'b8', 'data_type': {'type': 'PixelType', 'min': 0, 'max': 65535, 'precision': 'int'}}]}\n"
     ]
    }
   ],
   "source": [
    "#We can also get image metadata information. \n",
    "print(image.getInfo())"
   ]
  },
  {
   "cell_type": "markdown",
   "metadata": {},
   "source": [
    "Assuming we have a kml file with our vector data, namely parcels. We need to create a fusion table (ft) with that file. Afterward, we can use the id of the ft to create a GEE feature collection."
   ]
  },
  {
   "cell_type": "code",
   "execution_count": 55,
   "metadata": {
    "collapsed": true
   },
   "outputs": [],
   "source": [
    "# create the feature collection from the fusion table\n",
    "fc = ee.FeatureCollection ('ft:1K41m-umQ1K8Ys-9bVTqoEYzwKD6xEzIVTPELdVkK')"
   ]
  },
  {
   "cell_type": "code",
   "execution_count": 56,
   "metadata": {
    "collapsed": false
   },
   "outputs": [
    {
     "name": "stdout",
     "output_type": "stream",
     "text": [
      "['name', 'description', 'id', 'class', 'system:index']\n"
     ]
    }
   ],
   "source": [
    "# listing the fields in the feature collection\n",
    "print(fc.first().propertyNames().getInfo())"
   ]
  },
  {
   "cell_type": "code",
   "execution_count": null,
   "metadata": {
    "collapsed": true
   },
   "outputs": [],
   "source": [
    "# getting information about the Feature collection\n",
    "print(fc.getInfo())"
   ]
  },
  {
   "cell_type": "code",
   "execution_count": null,
   "metadata": {
    "collapsed": true
   },
   "outputs": [],
   "source": [
    "# getting information about one feature (the first)\n",
    "print(fc.first().getInfo())"
   ]
  },
  {
   "cell_type": "code",
   "execution_count": null,
   "metadata": {
    "collapsed": true
   },
   "outputs": [],
   "source": [
    "# counting the number of features in the collection\n",
    "print(ee.Number(fc.aggregate_count('.all')).getInfo())"
   ]
  },
  {
   "cell_type": "markdown",
   "metadata": {},
   "source": [
    "### Visualization using Folium"
   ]
  },
  {
   "cell_type": "markdown",
   "metadata": {},
   "source": [
    "In a previous step we upload an image to a GEE asset and a vector layer to a google drive as a feature table. \n",
    "We will visualize them using folium. For more information about folium, visit: https://github.com/python-visualization/folium\n"
   ]
  },
  {
   "cell_type": "code",
   "execution_count": 13,
   "metadata": {
    "collapsed": false
   },
   "outputs": [],
   "source": [
    "# import GEE and foliumn\n",
    "import ee\n",
    "import folium\n",
    "ee.Initialize()"
   ]
  },
  {
   "cell_type": "code",
   "execution_count": 4,
   "metadata": {
    "collapsed": true
   },
   "outputs": [],
   "source": [
    "# define a couple of function to interact with GEE\n",
    "# from https://github.com/python-visualization/folium_contrib/blob/master/GoogleEarthEngine_layer.ipynb\n",
    "def folium_gee_layer(folium_map,image,vis_params=None,folium_kwargs={}):\n",
    "    \"\"\" Function to add Google Earch Engine tile layer as a Folium layer.\n",
    "    \n",
    "    Parameters\n",
    "    ----------\n",
    "    folium_map : Folium map to add tile to.\n",
    "    image : Google Earth Engine Image.\n",
    "    vis_params : Dict with visualization parameters.\n",
    "    folium_kwargs : Keyword args for Folium Map.\n",
    "    \"\"\"\n",
    "    # Get the MapID and Token after applying parameters\n",
    "    image_info = image.getMapId(vis_params)\n",
    "    mapid = image_info['mapid']\n",
    "    token = image_info['token']\n",
    "    print(folium_kwargs['overlay'])\n",
    "    folium_kwargs['attr'] = ('Map Data &copy; <a href=\"https://earthengine.google.com/\">Google Earth Engine</a> ')\n",
    "    folium_kwargs['tiles'] = \"https://earthengine.googleapis.com/map/%s/{z}/{x}/{y}?token=%s\"%(mapid,token)\n",
    "    \n",
    "    layer = folium.TileLayer(**folium_kwargs)\n",
    "    layer.add_to(folium_map)"
   ]
  },
  {
   "cell_type": "code",
   "execution_count": 5,
   "metadata": {
    "collapsed": false
   },
   "outputs": [],
   "source": [
    "# lets draw our fc\n",
    "fc = ee.FeatureCollection ('ft:1K41m-umQ1K8Ys-9bVTqoEYzwKD6xEzIVTPELdVkK')\n",
    "geojs = fc.getDownloadURL(\"json\")"
   ]
  },
  {
   "cell_type": "code",
   "execution_count": 6,
   "metadata": {
    "collapsed": false
   },
   "outputs": [
    {
     "name": "stdout",
     "output_type": "stream",
     "text": [
      "https://earthengine.googleapis.com/api/table?docid=a86fd24bec054241ef01e03d3f45c8e8&token=d57c479d08c2a72621b42e5b082414fe\n"
     ]
    }
   ],
   "source": [
    "print(geojs)"
   ]
  },
  {
   "cell_type": "code",
   "execution_count": 33,
   "metadata": {
    "collapsed": false
   },
   "outputs": [
    {
     "name": "stdout",
     "output_type": "stream",
     "text": [
      "{\"type\":\"FeatureCollection\",\"features\":[{\"geometry\":{\"coordinates\":[[[-5.199613999999999,12.165225000000001],[-5.1990310000000015,12.165136],[-5.198975,12.165533],[-5.199543,12.165571],[-5.199613999999999,12.165225000000001]]],\"geodesic\":true,\"type\":\"Polygon\"},\"id\":\"2\",\"properties\":{\"class\":5.0,\"description\":\"\",\"id\":1.0,\"name\":\"\"},\"type\":\"Feature\"},{\"geometry\":{\"coordinates\":[[[-5.201773,12.16407],[-5.200976999999998,12.164202999999999],[-5.201564,12.164885],[-5.201773,12.16407]]],\"geodesic\":true,\"type\":\"Polygon\"},\"id\":\"3\",\"properties\":{\"class\":2.0,\"description\":\"\",\"id\":2.0,\"name\":\"\"},\"type\":\"Feature\"},{\"geometry\":{\"coordinates\":[[[-5.1967729999999985,12.167687000000004],[-5.196262,12.167743999999997],[-5.196262,12.168028],[-5.196488999999999,12.168256],[-5.1967729999999985,12.168198999999996],[-5.1967729999999985,12.167687000000004]]],\"geodesic\":true,\"type\":\"Polygon\"},\"id\":\"4\",\"properties\":{\"class\":4.0,\"description\":\"\",\"id\":4.0,\"name\":\"\"},\"type\":\"Feature\"},{\"geometry\":{\"coordinates\":[[[-5.191319,12.16193],[-5.191149,12.161627],[-5.191149000000002,12.161608],[-5.190921,12.161874],[-5.191072999999999,12.162120000000002],[-5.191186999999999,12.162366000000002],[-5.191319,12.16193]]],\"geodesic\":true,\"type\":\"Polygon\"},\"id\":\"5\",\"properties\":{\"class\":1.0,\"description\":\"\",\"id\":5.0,\"name\":\"\"},\"type\":\"Feature\"},{\"geometry\":{\"coordinates\":[[[-5.197701,12.169183],[-5.197038000000002,12.169297000000006],[-5.197171,12.169600000000003],[-5.197777,12.169562],[-5.197701,12.169183]]],\"geodesic\":true,\"type\":\"Polygon\"},\"id\":\"6\",\"properties\":{\"class\":5.0,\"description\":\"\",\"id\":5.0,\"name\":\"\"},\"type\":\"Feature\"},{\"geometry\":{\"coordinates\":[[[-5.191678999999998,12.166437000000004],[-5.191414,12.166456],[-5.191452,12.166665],[-5.191755,12.166627],[-5.191678999999998,12.166437000000004]]],\"geodesic\":true,\"type\":\"Polygon\"},\"id\":\"7\",\"properties\":{\"class\":1.0,\"description\":\"\",\"id\":6.0,\"name\":\"\"},\"type\":\"Feature\"},{\"geometry\":{\"coordinates\":[[[-5.197019000000002,12.165907],[-5.196754,12.165888000000002],[-5.196696999999999,12.166059000000002],[-5.196640999999999,12.166059000000002],[-5.196564999999998,12.166228999999998],[-5.197038000000002,12.166153],[-5.197019000000002,12.165907]]],\"geodesic\":true,\"type\":\"Polygon\"},\"id\":\"8\",\"properties\":{\"class\":3.0,\"description\":\"\",\"id\":7.0,\"name\":\"\"},\"type\":\"Feature\"},{\"geometry\":{\"coordinates\":[[[-5.194178999999998,12.160018000000003],[-5.194273,12.160169000000003],[-5.194348999999999,12.160377],[-5.194614,12.160226],[-5.194178999999998,12.160018000000003]]],\"geodesic\":true,\"type\":\"Polygon\"},\"id\":\"9\",\"properties\":{\"class\":4.0,\"description\":\"\",\"id\":8.0,\"name\":\"\"},\"type\":\"Feature\"},{\"geometry\":{\"coordinates\":[[[-5.192569,12.161523000000004],[-5.192304000000002,12.161485],[-5.192304,12.161694000000006],[-5.1926070000000015,12.161750000000003],[-5.192569,12.161523000000004]]],\"geodesic\":true,\"type\":\"Polygon\"},\"id\":\"10\",\"properties\":{\"class\":2.0,\"description\":\"\",\"id\":9.0,\"name\":\"\"},\"type\":\"Feature\"},{\"geometry\":{\"coordinates\":[[[-5.198533999999999,12.162147999999993],[-5.198724000000001,12.161730999999996],[-5.198174,12.161656],[-5.198023,12.162053000000004],[-5.198533999999999,12.162147999999993]]],\"geodesic\":true,\"type\":\"Polygon\"},\"id\":\"11\",\"properties\":{\"class\":3.0,\"description\":\"\",\"id\":10.0,\"name\":\"\"},\"type\":\"Feature\"},{\"geometry\":{\"coordinates\":[[[-5.193653000000002,12.16407],[-5.193397,12.164189],[-5.1933880000000014,12.164255],[-5.193691,12.164193],[-5.193653000000002,12.16407]]],\"geodesic\":true,\"type\":\"Polygon\"},\"id\":\"12\",\"properties\":{\"class\":3.0,\"description\":\"\",\"id\":11.0,\"name\":\"\"},\"type\":\"Feature\"},{\"geometry\":{\"coordinates\":[[[-5.199652000000002,12.167493],[-5.199652000000002,12.167383999999997],[-5.199608999999998,12.167313],[-5.1995,12.167298999999998],[-5.199400999999998,12.167331999999998],[-5.199396000000001,12.167346999999994],[-5.199396000000001,12.167441],[-5.199391,12.167498],[-5.199348999999999,12.167526],[-5.199254000000002,12.167616],[-5.1995520000000015,12.167640000000004],[-5.199652000000002,12.167493]]],\"geodesic\":true,\"type\":\"Polygon\"},\"id\":\"13\",\"properties\":{\"class\":1.0,\"description\":\"\",\"id\":12.0,\"name\":\"\"},\"type\":\"Feature\"}]}\n"
     ]
    }
   ],
   "source": [
    "# lets retrieve the fc as a json to display in our map\n",
    "import urllib\n",
    "with urllib.request.urlopen(geojs) as url:\n",
    "    fcjs = url.read()\n",
    "fcjs = str(fcjs, 'utf-8')  \n",
    "#print(fcjs)"
   ]
  },
  {
   "cell_type": "code",
   "execution_count": 50,
   "metadata": {
    "collapsed": false
   },
   "outputs": [
    {
     "name": "stdout",
     "output_type": "stream",
     "text": [
      "True\n"
     ]
    },
    {
     "data": {
      "text/html": [
       "<div style=\"width:100%;\"><div style=\"position:relative;width:100%;height:0;padding-bottom:60%;\"><iframe src=\"data:text/html;charset=utf-8;base64,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\" style=\"position:absolute;width:100%;height:100%;left:0;top:0;border:none !important;\" allowfullscreen webkitallowfullscreen mozallowfullscreen></iframe></div></div>"
      ],
      "text/plain": [
       "<folium.folium.Map at 0x231d01596a0>"
      ]
     },
     "execution_count": 50,
     "metadata": {},
     "output_type": "execute_result"
    }
   ],
   "source": [
    "# add our image \"subset\"\n",
    "m1 = folium.Map(location=[12.1724,-5.1874], zoom_start= 14)\n",
    "image = ee.Image(\"users/rosamaguilar/tutorial/subset\")  \n",
    "vis_params = {'min': 0, 'max':2048, 'bands':'b5,b3,b2'}\n",
    "m1.choropleth(geo_str=fcjs,fill_opacity=0.7, fill_color='red') \n",
    "folium_gee_layer(m1,image,vis_params,folium_kwargs={'overlay':True,'name':'Subset'})\n",
    "m1.add_child(folium.LayerControl())\n",
    "m1"
   ]
  },
  {
   "cell_type": "code",
   "execution_count": null,
   "metadata": {
    "collapsed": true
   },
   "outputs": [],
   "source": [
    ""
   ]
  }
 ],
 "metadata": {
  "kernelspec": {
   "display_name": "Python 3",
   "language": "python",
   "name": "python3"
  },
  "language_info": {
   "codemirror_mode": {
    "name": "ipython",
    "version": 3.0
   },
   "file_extension": ".py",
   "mimetype": "text/x-python",
   "name": "python",
   "nbconvert_exporter": "python",
   "pygments_lexer": "ipython3",
   "version": "3.5.1"
  }
 },
 "nbformat": 4,
 "nbformat_minor": 0
}