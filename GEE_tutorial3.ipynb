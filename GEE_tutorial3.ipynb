{
 "cells": [
  {
   "cell_type": "markdown",
   "metadata": {},
   "source": [
    "## Image Processing"
   ]
  },
  {
   "cell_type": "markdown",
   "metadata": {},
   "source": [
    "Previously, we display the image metadata. We will go for specific details. <br>\n",
    "Let's first initialize GEE and load and image."
   ]
  },
  {
   "cell_type": "code",
   "execution_count": 12,
   "metadata": {
    "collapsed": false
   },
   "outputs": [],
   "source": [
    "import ee\n",
    "from IPython.display import Image\n",
    "ee.Initialize()\n",
    "# load our image \n",
    "mimage = ee.Image(\"users/rosamaguilar/tutorial/subset\")"
   ]
  },
  {
   "cell_type": "code",
   "execution_count": 17,
   "metadata": {
    "collapsed": false
   },
   "outputs": [
    {
     "name": "stdout",
     "output_type": "stream",
     "text": [
      "['b1', 'b2', 'b3', 'b4', 'b5', 'b6', 'b7', 'b8']\n"
     ]
    }
   ],
   "source": [
    "# get the band names of an image\n",
    "names = mimage.bandNames();\n",
    "print(names.getInfo())"
   ]
  },
  {
   "cell_type": "code",
   "execution_count": 14,
   "metadata": {
    "collapsed": false
   },
   "outputs": [
    {
     "name": "stdout",
     "output_type": "stream",
     "text": [
      "Image scale: 2.0009777545928955\n"
     ]
    }
   ],
   "source": [
    "# Retrieve the scale of the image from its projecton\n",
    "# please note that we should use getInfo to retrieve the value of a variable or object. \n",
    "imScale = mimage.projection().nominalScale()\n",
    "print('Image scale:', imScale.getInfo())\n",
    "# for more information about scale in GEE, see the document: https://developers.google.com/earth-engine/scale"
   ]
  },
  {
   "cell_type": "code",
   "execution_count": 19,
   "metadata": {
    "collapsed": false
   },
   "outputs": [
    {
     "data": {
      "text/html": [
       "<img src=\"https://earthengine.googleapis.com/api/thumb?thumbid=45c0d1b437b21bba53668a351370ec99&token=d82472cfdf30be884dc8d2f8760a8bb5\"/>"
      ],
      "text/plain": [
       "<IPython.core.display.Image object>"
      ]
     },
     "execution_count": 19,
     "metadata": {},
     "output_type": "execute_result"
    }
   ],
   "source": [
    "#As you may observe the image has 8 bands because is a World-view2 image.\n",
    "# We may want to select only the band in the visible range, this mean bands blue, green and red (bands: b2, b3,b5)  \n",
    "# we can select some bands of this image and create a new image\n",
    "visimage = mimage.select(['b5','b3','b2'])\n",
    "# and display  the new image\n",
    "Image(url=visimage.getThumbUrl({'min': 0, 'max': 2048,'bands': 'b5,b3,b2', 'gamma': '0.95, 1.1, 1'}))"
   ]
  },
  {
   "cell_type": "code",
   "execution_count": 20,
   "metadata": {
    "collapsed": false
   },
   "outputs": [
    {
     "data": {
      "text/html": [
       "<img src=\"https://earthengine.googleapis.com/api/thumb?thumbid=1951ef3ba8db0063777d9268074aefc3&token=7c09f6ab212c76a02ff1f29c68385f9a\"/>"
      ],
      "text/plain": [
       "<IPython.core.display.Image object>"
      ]
     },
     "execution_count": 20,
     "metadata": {},
     "output_type": "execute_result"
    }
   ],
   "source": [
    "#If we want to rename the new bands as b1,b2,b3. We can add the new names as follows:\n",
    "#\n",
    "visimage = mimage.select(\n",
    "   ['b5','b3','b2'],   # current names\n",
    "    ['Red', 'Green', 'Blue']  # new names\n",
    ")\n",
    "Image(url=visimage.getThumbUrl({'min': 0, 'max': 2048,'bands': 'Red,Green,Blue', 'gamma': '0.95, 1.1, 1'}))"
   ]
  },
  {
   "cell_type": "markdown",
   "metadata": {},
   "source": [
    "Let's apply a filter over the image.\n",
    "First, we need to define the filter to apply. In GEE the term kernel is used interchangeable with kernel. After define the filter, we use convolve to apply it. \n",
    "\n"
   ]
  },
  {
   "cell_type": "markdown",
   "metadata": {},
   "source": [
    "# aquiiiii\n",
    "The kernel defines the weigths and size of the moving window. If we want to apply a kernel of 3x3, we will choose a square kernel of size 1. <br>\n",
    "GEE includes several filters or kernels. In this example, we will select a square kernel that has the following parameters: <br>\n",
    "<i> radius (Float)</i> :  The radius of the kernel to generate.<br>\n",
    "<i>units</i> (String, default: \"pixels\"):\n",
    "The system of measurement for the kernel ('pixels' or 'meters'). If the kernel is specified in meters, it will resize when the zoom-level is changed.<br>\n",
    "<i>normalize</i> (Boolean, default: true):Normalize the kernel values to sum to 1.<br>\n",
    "<i>magnitude </i>(Float, default: 1):<br>\n",
    "<i>Scale each value by this amount.<br>"
   ]
  },
  {
   "cell_type": "code",
   "execution_count": null,
   "metadata": {
    "collapsed": true
   },
   "outputs": [],
   "source": [
    "lpk = ee.Kernel.square(radius = 3, units = 'pixels', normalize= True)  # filtro de 7*7\n",
    "    # Smooth the image by convolving with the lp kernel."
   ]
  },
  {
   "cell_type": "code",
   "execution_count": null,
   "metadata": {
    "collapsed": true
   },
   "outputs": [],
   "source": [
    "# now , we apply the filter using the function convolve \n",
    "smooth = imagep.convolve(lpk)"
   ]
  },
  {
   "cell_type": "code",
   "execution_count": null,
   "metadata": {
    "collapsed": true
   },
   "outputs": [],
   "source": [
    "creata a new image and use later to store a result"
   ]
  }
 ],
 "metadata": {
  "kernelspec": {
   "display_name": "Python 3",
   "language": "python",
   "name": "python3"
  },
  "language_info": {
   "codemirror_mode": {
    "name": "ipython",
    "version": 3.0
   },
   "file_extension": ".py",
   "mimetype": "text/x-python",
   "name": "python",
   "nbconvert_exporter": "python",
   "pygments_lexer": "ipython3",
   "version": "3.5.1"
  }
 },
 "nbformat": 4,
 "nbformat_minor": 0
}