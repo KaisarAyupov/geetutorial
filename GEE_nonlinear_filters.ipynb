{
 "cells": [
  {
   "cell_type": "markdown",
   "metadata": {},
   "source": [
    "______\n",
    "<img style=\"float: right;\" src=\"./images/headerlogo.png\">\n",
    "## Google Earth Engine Tutorial\n",
    "### Nonlinear filters\n",
    "_____\n",
    "\n",
    "In previous noteboooks, we applied convolutional filters.  Those filter compute a linear combination of pixels in a neighbourhood(specified by the window shape) according to the weights specified by the kernel. Now, we will use nonlinear filter. [Median](https://en.wikipedia.org/wiki/Median_filter) and [mode](https://www.cs.washington.edu/research/metip/tutor/tutor.Filtering.html)  are examples of non linear filters.  <br>\n",
    "Median filters compute the median (a non linear combination) in neighbourhood as well. An approach to apply nonlinear filters in GEE is by using the function *reduceNeighborhood*. \n"
   ]
  },
  {
   "cell_type": "code",
   "execution_count": 1,
   "metadata": {
    "collapsed": false
   },
   "outputs": [
    {
     "data": {
      "text/html": [
       "<img src=\"https://earthengine.googleapis.com/api/thumb?thumbid=62816716fc7d704077bdc8ada718f815&token=7b06832e83b344ef3978fa0db8880ca9\"/>"
      ],
      "text/plain": [
       "<IPython.core.display.Image object>"
      ]
     },
     "execution_count": 1,
     "metadata": {},
     "output_type": "execute_result"
    }
   ],
   "source": [
    "import ee\n",
    "from IPython.display import Image\n",
    "\n",
    "ee.Initialize()\n",
    "\n",
    "image = ee.Image('users/rosamaguilar/tutorial/subset')\n",
    "uniformKernel = ee.Kernel.square(1)  # this means a 3x3 window\n",
    "\n",
    "median = image.reduceNeighborhood(\n",
    "  reducer = ee.Reducer.median(), \n",
    "  kernel = uniformKernel\n",
    ")\n",
    " \n",
    "# band names of the result image will have the suffix \"_median\"     \n",
    "Image(url=median.getThumbUrl({'min': 0, 'max': 2048,'bands': 'b5_median,b3_median,b2_median'}))\n",
    " "
   ]
  },
  {
   "cell_type": "code",
   "execution_count": 2,
   "metadata": {
    "collapsed": false
   },
   "outputs": [
    {
     "data": {
      "text/html": [
       "<img src=\"https://earthengine.googleapis.com/api/thumb?thumbid=e79e1fdbf5c9afc0daa4cdacc6071f37&token=7685c4960490f61227036847eda8c1e3\"/>"
      ],
      "text/plain": [
       "<IPython.core.display.Image object>"
      ]
     },
     "execution_count": 2,
     "metadata": {},
     "output_type": "execute_result"
    }
   ],
   "source": [
    "uniformKernel = ee.Kernel.square(2)  # this means a 5x5 window\n",
    "\n",
    "median = image.reduceNeighborhood(\n",
    "  reducer = ee.Reducer.median(), \n",
    "  kernel = uniformKernel\n",
    ")\n",
    " \n",
    "# band names of the result image will have the suffix \"_median\"     \n",
    "Image(url=median.getThumbUrl({'min': 0, 'max': 2048,'bands': 'b5_median,b3_median,b2_median'}))\n",
    " "
   ]
  },
  {
   "cell_type": "markdown",
   "metadata": {},
   "source": [
    "In some cases, it is required to aggregate pixel values in a neighbourhood using the most common value (mode). This is special relevant for categorical maps that could be the result of a classification procedure.\n"
   ]
  },
  {
   "cell_type": "code",
   "execution_count": 3,
   "metadata": {
    "collapsed": false
   },
   "outputs": [
    {
     "data": {
      "text/html": [
       "<img src=\"https://earthengine.googleapis.com/api/thumb?thumbid=f2b1b6b96fc68121ce165577d3fb100b&token=51097ee443153d952e14017e833cb6a0\"/>"
      ],
      "text/plain": [
       "<IPython.core.display.Image object>"
      ]
     },
     "execution_count": 3,
     "metadata": {},
     "output_type": "execute_result"
    }
   ],
   "source": [
    "# first, display the classified image in a map\n",
    "image = ee.Image('users/rosamaguilar/tutorial/classified')\n",
    "# define a palette as a string separate by ','\n",
    "clas_col = ','.join(['000000','bdc3c7','1e8449','d68910','2ecc71','f9e79f'])   \n",
    "Image(url=image.getThumbUrl({'min': 0, 'max': 5, 'palette':clas_col}))\n"
   ]
  },
  {
   "cell_type": "code",
   "execution_count": 4,
   "metadata": {
    "collapsed": false
   },
   "outputs": [
    {
     "data": {
      "text/html": [
       "<img src=\"https://earthengine.googleapis.com/api/thumb?thumbid=5290836db8a605648fb5c8a93817f3ec&token=1c9670dcd5ee98123c09c9a3a844f2b5\"/>"
      ],
      "text/plain": [
       "<IPython.core.display.Image object>"
      ]
     },
     "execution_count": 4,
     "metadata": {},
     "output_type": "execute_result"
    }
   ],
   "source": [
    "# Let's calculate the mode of a classified image \n",
    "\n",
    "uniformKernel = ee.Kernel.square(1)  # this means a 3x3 window\n",
    "mode = image.reduceNeighborhood(\n",
    "  reducer = ee.Reducer.mode(), \n",
    "  kernel = ee.Kernel.square(2)\n",
    ")\n",
    "\n",
    "Image(url=mode.getThumbUrl({'min': 0, 'max': 5,'palette':clas_col}))"
   ]
  },
  {
   "cell_type": "markdown",
   "metadata": {},
   "source": [
    "Filters can help enhancing visually the image and reducing noise. However, when the interest rely on objects (connected group of pixels)  present in the image rather than individual pixels, we may use [morphological operations](https://en.wikipedia.org/wiki/Mathematical_morphology).  These operations are useful to clean objects that can have gaps or are not well defined because of noise. \n",
    "\n",
    "Dilation and erosion are commonly applied to remote sensing images. The following lines apply dilation and erosion to a multi-spectral image. Later those operations are applied to a classified (categorical) image as well. In these examples, the *structuring element* is a square of size 3*3 pixels (square kernel of radio 1 pixel). *Opening* and *closing* can be executed by combining erosion and dilation. <br>\n"
   ]
  },
  {
   "cell_type": "code",
   "execution_count": 5,
   "metadata": {
    "collapsed": false
   },
   "outputs": [
    {
     "data": {
      "text/html": [
       "<img src=\"https://earthengine.googleapis.com/api/thumb?thumbid=f7051f0cb46e1441e6d60de48d52cc0a&token=1feacc999aa23f3799d12cd2f9296826\"/>"
      ],
      "text/plain": [
       "<IPython.core.display.Image object>"
      ]
     },
     "execution_count": 5,
     "metadata": {},
     "output_type": "execute_result"
    }
   ],
   "source": [
    "# dilation \n",
    "image = ee.Image('users/rosamaguilar/tutorial/subset')\n",
    "# Dilate by taking the max in each 3x3 neighborhood.\n",
    "imagemax = image.reduceNeighborhood(\n",
    "  reducer = ee.Reducer.max(), \n",
    "  kernel = ee.Kernel.square(1)\n",
    ")\n",
    "Image(url=imagemax.getThumbUrl({'min': 0, 'max': 2048,'bands': 'b5_max,b3_max,b2_max'}))"
   ]
  },
  {
   "cell_type": "code",
   "execution_count": 6,
   "metadata": {
    "collapsed": false
   },
   "outputs": [
    {
     "data": {
      "text/html": [
       "<img src=\"https://earthengine.googleapis.com/api/thumb?thumbid=551787b0b7a6aaa5e48e7a1a7a685214&token=3d52d869a600b29a6e729705ea359987\"/>"
      ],
      "text/plain": [
       "<IPython.core.display.Image object>"
      ]
     },
     "execution_count": 6,
     "metadata": {},
     "output_type": "execute_result"
    }
   ],
   "source": [
    "# erosion\n",
    "image = ee.Image('users/rosamaguilar/tutorial/subset')\n",
    "# Dilate by takaing the max in each 3x3 neighborhood.\n",
    "imagemin = image.reduceNeighborhood(\n",
    "  reducer = ee.Reducer.min(), \n",
    "  kernel = ee.Kernel.square(1)\n",
    ")\n",
    "Image(url=imagemin.getThumbUrl({'min': 0, 'max': 2048,'bands': 'b5_min,b3_min,b2_min'}))"
   ]
  },
  {
   "cell_type": "code",
   "execution_count": 7,
   "metadata": {
    "collapsed": false
   },
   "outputs": [
    {
     "data": {
      "text/html": [
       "<img src=\"https://earthengine.googleapis.com/api/thumb?thumbid=2e21b6924ab385bd51ee64f096296c0c&token=04d4ed9c6ed0f8d98459feb72874fd74\"/>"
      ],
      "text/plain": [
       "<IPython.core.display.Image object>"
      ]
     },
     "execution_count": 7,
     "metadata": {},
     "output_type": "execute_result"
    }
   ],
   "source": [
    "# dilation for a categorical image\n",
    "#Image(url = imagemax.getThumbUrl({'min': 0, 'max': 5,'palette':clas_col}))\n",
    "# dilation \n",
    "image = ee.Image('users/rosamaguilar/tutorial/classified')\n",
    "# Dilate by takaing the max in each 3x3 neighborhood.\n",
    "imagemax = image.reduceNeighborhood(\n",
    "  reducer = ee.Reducer.max(), \n",
    "  kernel = ee.Kernel.square(1)\n",
    ")\n",
    "Image(url=imagemax.getThumbUrl({'min': 0, 'max': 5,'palette':clas_col}))"
   ]
  },
  {
   "cell_type": "code",
   "execution_count": 8,
   "metadata": {
    "collapsed": false
   },
   "outputs": [
    {
     "data": {
      "text/html": [
       "<img src=\"https://earthengine.googleapis.com/api/thumb?thumbid=1ff4febb828185360e12d73c34416710&token=890883fb388660fbc4383b83a625b99f\"/>"
      ],
      "text/plain": [
       "<IPython.core.display.Image object>"
      ]
     },
     "execution_count": 8,
     "metadata": {},
     "output_type": "execute_result"
    }
   ],
   "source": [
    "# erosion for a categorical image\n",
    "#Image(url = imagemax.getThumbUrl({'min': 0, 'max': 5,'palette':clas_col}))\n",
    "image = ee.Image('users/rosamaguilar/tutorial/classified')\n",
    "# Dilate by takaing the max in each 3x3 neighborhood.\n",
    "imagemax = image.reduceNeighborhood(\n",
    "  reducer = ee.Reducer.min(), \n",
    "  kernel = ee.Kernel.square(1)\n",
    ")\n",
    "Image(url=imagemax.getThumbUrl({'min': 0, 'max': 5,'palette':clas_col}))"
   ]
  },
  {
   "cell_type": "markdown",
   "metadata": {},
   "source": [
    "<i>Opening</i> can be computed applying a <i>dilation</i> over an <i>erosion</i><br>"
   ]
  },
  {
   "cell_type": "code",
   "execution_count": 9,
   "metadata": {
    "collapsed": false
   },
   "outputs": [
    {
     "data": {
      "text/html": [
       "<img src=\"https://earthengine.googleapis.com/api/thumb?thumbid=9efc7ec7c27731560eab3c61aa39ea73&token=ad687c3ed5b09ae904c0f0bb228179bc\"/>"
      ],
      "text/plain": [
       "<IPython.core.display.Image object>"
      ]
     },
     "execution_count": 9,
     "metadata": {},
     "output_type": "execute_result"
    }
   ],
   "source": [
    "# erosion for a categorical image\n",
    "image = ee.Image('users/rosamaguilar/tutorial/classified')\n",
    "imagemin = image.reduceNeighborhood(\n",
    "  reducer = ee.Reducer.min(), \n",
    "  kernel = ee.Kernel.square(1))\n",
    "# dilation \n",
    "imagemax = imagemax.reduceNeighborhood(\n",
    "  reducer = ee.Reducer.max(), \n",
    "  kernel = ee.Kernel.square(1))\n",
    "\n",
    "Image(url=imagemax.getThumbUrl({'min': 0, 'max': 5,'palette':clas_col}))"
   ]
  },
  {
   "cell_type": "code",
   "execution_count": 10,
   "metadata": {
    "collapsed": false
   },
   "outputs": [
    {
     "data": {
      "text/html": [
       "<img src=\"https://earthengine.googleapis.com/api/thumb?thumbid=6d42100b95948c6f5b4f742a6589e3f9&token=f44d68e869ae3b0032e468dfe454e249\"/>"
      ],
      "text/plain": [
       "<IPython.core.display.Image object>"
      ]
     },
     "execution_count": 10,
     "metadata": {},
     "output_type": "execute_result"
    }
   ],
   "source": [
    "# In a similar way, to apply closing, apply a dilation followed by an erosion\n",
    "image = ee.Image('users/rosamaguilar/tutorial/classified')\n",
    "# dilation for a categorical image\n",
    "imagemax = imagemax.reduceNeighborhood(\n",
    "  reducer = ee.Reducer.max(), \n",
    "  kernel = ee.Kernel.square(1))\n",
    "# erosion \n",
    "imagemin = imagemax.reduceNeighborhood(\n",
    "  reducer = ee.Reducer.min(), \n",
    "  kernel = ee.Kernel.square(1))\n",
    "\n",
    "Image(url=imagemin.getThumbUrl({'min': 0, 'max': 5,'palette':clas_col}))"
   ]
  },
  {
   "cell_type": "markdown",
   "metadata": {
    "collapsed": true
   },
   "source": [
    "You may want to try with a different structuring element, for example a disk by using a  kernel circle."
   ]
  },
  {
   "cell_type": "code",
   "execution_count": null,
   "metadata": {
    "collapsed": true
   },
   "outputs": [],
   "source": []
  }
 ],
 "metadata": {
  "kernelspec": {
   "display_name": "Python 3",
   "language": "python",
   "name": "python3"
  },
  "language_info": {
   "codemirror_mode": {
    "name": "ipython",
    "version": 3
   },
   "file_extension": ".py",
   "mimetype": "text/x-python",
   "name": "python",
   "nbconvert_exporter": "python",
   "pygments_lexer": "ipython3",
   "version": "3.5.1"
  }
 },
 "nbformat": 4,
 "nbformat_minor": 2
}
