{
 "cells": [
  {
   "cell_type": "markdown",
   "metadata": {
    "slideshow": {
     "slide_type": "slide"
    }
   },
   "source": [
    "______\n",
    "<img style=\"float: right;\" src=\"./images/headerlogo.png\">\n",
    "## Google Earth Engine Tutorial\n",
    "### Basic visualisation\n",
    "_____"
   ]
  },
  {
   "cell_type": "markdown",
   "metadata": {},
   "source": [
    "To visualize an image, the following options, related to the image, can be specified:\n",
    "    \n",
    "+ *bands*: \tList of three band names to be display in the RGB channels. This is relevant for multiband images.<br> \n",
    "+ *palette*:\tColor palette in a list of hexadecimal code strings. Apply to single-band images.<br> \n",
    "+ *opacity*: \tThe transparency of the layer (0.0 is fully transparent and 1.0 is fully opaque).<br> \n",
    "\n",
    "Besides, the following visualisation parameters can be specified: <br> \n",
    "+ *min*:\tValue(s) to map to 0. <br> \n",
    "+ *max*:  \tValue(s) to map to 255. <br>\n",
    "+ *gain*:  \tValue(s) by which to multiply each pixel value.<br> \n",
    "+ *bias*:  \tValue(s) to add to each pixel value.<br> \n",
    "+ *gamma*:  \tGamma correction factor(s).<br> \n",
    "\n",
    "The above parameters are applied per image band. When a multiband image is being displayed, using a single number means that it will be applied to the three bands. Otherwise, a list of three numbers, one for each band can be set.\n",
    "\n",
    "In GEE playground,  an image can be displayed using the function *Map.addLayer* with parameters listed above. In this tutorial we will use the function *getThumbUrl* that generates a thumbnail url of the image preview. This preview will be open using *Image* from the package Ipython.display. \n",
    "\n",
    "Parameters for the thumbnail can be specified to generate the image. For example, it can be specified bands to display and additional parameters as follows: <br>\n",
    "+ *dimensions:* a pair of number specifying the maximum *Width*x*Height* dimensions of the thumbnail. If only one value is given, it is used as the maximum and the other dimension is computed proportionally. <br>\n",
    "+ *region:* region of the image to produce the thumbnail given as GeoJSON or coordinates.<br> \n",
    "+ *format:* format of the output given as a string ('png' or 'jpg'). <br> \n",
    "\n",
    "In the following code we will visualize an image using *getThumbUrl*, later on we will apply the *folium* library. "
   ]
  },
  {
   "cell_type": "code",
   "execution_count": 1,
   "metadata": {
    "collapsed": false
   },
   "outputs": [],
   "source": [
    "# import ee python package\n",
    "import ee \n",
    "ee.Initialize() \n",
    "# import Ipython.display for visualisation\n",
    "from IPython.display import Image  "
   ]
  },
  {
   "cell_type": "code",
   "execution_count": 2,
   "metadata": {
    "collapsed": false
   },
   "outputs": [
    {
     "name": "stdout",
     "output_type": "stream",
     "text": [
      "https://earthengine.googleapis.com/api/thumb?thumbid=f8d71d599bc69699cf15fea443c10690&token=eac5fc716765cae9a7d144aea1753c62\n"
     ]
    },
    {
     "data": {
      "text/html": [
       "<img src=\"https://earthengine.googleapis.com/api/thumb?thumbid=f8d71d599bc69699cf15fea443c10690&token=eac5fc716765cae9a7d144aea1753c62\"/>"
      ],
      "text/plain": [
       "<IPython.core.display.Image object>"
      ]
     },
     "execution_count": 2,
     "metadata": {},
     "output_type": "execute_result"
    }
   ],
   "source": [
    "# load the image \n",
    "image = ee.Image(\"users/rosamaguilar/tutorial/subset\")\n",
    "# the maximun pixel value is 2048 because the image has 11-bit per pixel but we are \n",
    "# making an 8-bit display image, then the pixel values need to be stretch to fit in the range (0,255).   \n",
    "url  = image.getThumbUrl({'min':0, 'max':2048})\n",
    "# you could copy and paste this url in a browser to see the image \n",
    "print(url)\n",
    "# display image thumbnails.\n",
    "Image(url=url)"
   ]
  },
  {
   "cell_type": "code",
   "execution_count": 3,
   "metadata": {
    "collapsed": false
   },
   "outputs": [
    {
     "name": "stdout",
     "output_type": "stream",
     "text": [
      "['b1', 'b2', 'b3', 'b4', 'b5', 'b6', 'b7', 'b8']\n"
     ]
    }
   ],
   "source": [
    "# We can specify the bands to make a RGB composite.\n",
    "# First, get the band names of the image\n",
    "names = image.bandNames();\n",
    "print(names.getInfo())"
   ]
  },
  {
   "cell_type": "code",
   "execution_count": 4,
   "metadata": {
    "collapsed": false,
    "scrolled": true
   },
   "outputs": [
    {
     "data": {
      "text/html": [
       "<img src=\"https://earthengine.googleapis.com/api/thumb?thumbid=9f81810cd89d87a9e52a637de02599ee&token=47124439fe0889c6f539347ec473223e\"/>"
      ],
      "text/plain": [
       "<IPython.core.display.Image object>"
      ]
     },
     "execution_count": 4,
     "metadata": {},
     "output_type": "execute_result"
    }
   ],
   "source": [
    "# As you may observe the image has 8 bands because is a World-view2 image.\n",
    "# We may want to select only the band in the visible range, this mean bands blue, green and red (bands: b2, b3,b5)  \n",
    "# To display a RGB natural color composite, the band order must be set to [b5,b3,b2] \n",
    "# gamma corrections factors (one per band)\n",
    "Image(url=image.getThumbUrl({'min': 0, 'max': 2048,'bands': 'b5,b3,b2', 'gamma': '0.95, 1.1, 1'}))"
   ]
  },
  {
   "cell_type": "code",
   "execution_count": 5,
   "metadata": {
    "collapsed": false
   },
   "outputs": [
    {
     "data": {
      "text/html": [
       "<img src=\"https://earthengine.googleapis.com/api/thumb?thumbid=cf4909d2ccba26df2a5f335219207e1b&token=5b23c6373fd7eaafda13bf506a34d27a\"/>"
      ],
      "text/plain": [
       "<IPython.core.display.Image object>"
      ]
     },
     "execution_count": 5,
     "metadata": {},
     "output_type": "execute_result"
    }
   ],
   "source": [
    "# Apply \"false color\" composite\n",
    "Image(url=image.getThumbUrl({'min': 0, 'max': 2048,'bands': 'b7,b5,b3', 'gamma': '1, 1, 1'}))"
   ]
  },
  {
   "cell_type": "markdown",
   "metadata": {},
   "source": [
    "You may try other band combinations and gamma factors."
   ]
  },
  {
   "cell_type": "code",
   "execution_count": 6,
   "metadata": {
    "collapsed": false
   },
   "outputs": [
    {
     "name": "stdout",
     "output_type": "stream",
     "text": [
      "['Red', 'Green', 'Blue']\n"
     ]
    }
   ],
   "source": [
    "# We may want to create an image with a selected of bands. Also, we can rename band names \n",
    "# as can be seen as follows:\n",
    "#\n",
    "visimage = image.select(   \n",
    "   ['b5','b3','b2'],   # current band names\n",
    "    ['Red', 'Green', 'Blue']  # new band names\n",
    ")\n",
    "# print the new names \n",
    "print(visimage.bandNames().getInfo()) "
   ]
  },
  {
   "cell_type": "markdown",
   "metadata": {},
   "source": [
    "#### Visualization using Folium"
   ]
  },
  {
   "cell_type": "markdown",
   "metadata": {},
   "source": [
    "The function *getThumbUrl* is useful to display a preview of an image. But it is not possible to have any kind of interaction (zoom in, zoom out, etc). Besides, there is not an equivalent function to display vector layers (feature collections). To perform this tasks, we will used the [folium library](https://github.com/python-visualization/folium).\n",
    "\n",
    "A function based on folium to interact with GEE are available in https://github.com/python-visualization/folium_contrib/blob/master/GoogleEarthEngine_layer.ipynb\n",
    "\n",
    "For more information about folium, visit: https://github.com/python-visualization/folium\n"
   ]
  },
  {
   "cell_type": "code",
   "execution_count": 7,
   "metadata": {
    "collapsed": true
   },
   "outputs": [],
   "source": [
    "# import GEE and foliumn\n",
    "import ee\n",
    "import folium\n",
    "ee.Initialize()"
   ]
  },
  {
   "cell_type": "code",
   "execution_count": 8,
   "metadata": {
    "collapsed": true
   },
   "outputs": [],
   "source": [
    "# define a function to interact with GEE\n",
    "# from https://github.com/python-visualization/folium_contrib/blob/master/GoogleEarthEngine_layer.ipynb\n",
    "def folium_gee_layer(folium_map,image,vis_params=None,folium_kwargs={}):\n",
    "    \"\"\" Function to add Google Earch Engine tile layer as a Folium layer.\n",
    "    \n",
    "    Parameters\n",
    "    ----------\n",
    "    folium_map : Folium map to add tile to.\n",
    "    image : Google Earth Engine Image.\n",
    "    vis_params : Dict with visualization parameters.\n",
    "    folium_kwargs : Keyword args for Folium Map.\n",
    "    \"\"\"\n",
    "    # Get the MapID and Token after applying parameters\n",
    "    image_info = image.getMapId(vis_params)\n",
    "    mapid = image_info['mapid']\n",
    "    token = image_info['token']\n",
    "    print(folium_kwargs['overlay'])\n",
    "    folium_kwargs['attr'] = ('Map Data &copy; <a href=\"https://earthengine.google.com/\">Google Earth Engine</a> ')\n",
    "    folium_kwargs['tiles'] = \"https://earthengine.googleapis.com/map/%s/{z}/{x}/{y}?token=%s\"%(mapid,token)\n",
    "    \n",
    "    layer = folium.TileLayer(**folium_kwargs)\n",
    "    layer.add_to(folium_map)"
   ]
  },
  {
   "cell_type": "markdown",
   "metadata": {},
   "source": [
    "\n",
    "In a previous step we upload an image to a GEE asset and a vector layer to a google drive as a feature table. \n",
    "We will visualize this layer using folium. First, the feature collection is retrieved in a GeoJson format. Later, it will be display in the folium map. \n"
   ]
  },
  {
   "cell_type": "code",
   "execution_count": 9,
   "metadata": {
    "collapsed": false
   },
   "outputs": [],
   "source": [
    "# load the fusion table into a feature collection\n",
    "fc = ee.FeatureCollection ('ft:1K41m-umQ1K8Ys-9bVTqoEYzwKD6xEzIVTPELdVkK')\n",
    "geojs = fc.getDownloadURL(\"json\")\n",
    "\n",
    "# retrieve the fc as a json to display in the map\n",
    "import urllib\n",
    "with urllib.request.urlopen(geojs) as url:\n",
    "    fcjs = url.read()\n",
    "fcjs = str(fcjs, 'utf-8')  \n"
   ]
  },
  {
   "cell_type": "code",
   "execution_count": 10,
   "metadata": {
    "collapsed": false
   },
   "outputs": [
    {
     "name": "stdout",
     "output_type": "stream",
     "text": [
      "True\n"
     ]
    },
    {
     "data": {
      "text/html": [
       "<div style=\"width:100%;\"><div style=\"position:relative;width:100%;height:0;padding-bottom:60%;\"><iframe src=\"data:text/html;charset=utf-8;base64,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\" style=\"position:absolute;width:100%;height:100%;left:0;top:0;border:none !important;\" allowfullscreen webkitallowfullscreen mozallowfullscreen></iframe></div></div>"
      ],
      "text/plain": [
       "<folium.folium.Map at 0x26137483128>"
      ]
     },
     "execution_count": 10,
     "metadata": {},
     "output_type": "execute_result"
    }
   ],
   "source": [
    "# create a folium map\n",
    "m1 = folium.Map([12.1724,-5.1874], zoom_start=14)\n",
    "# draw the vector layer \n",
    "folium.GeoJson(\n",
    "    fcjs,\n",
    "    name='Parcels',\n",
    "    style_function=lambda feature: {\n",
    "        'fillColor': '#ff0000',\n",
    "        'color': 'black',\n",
    "        'weight': 1,\n",
    "        'fillOpacity': 0.7,\n",
    "    }\n",
    ").add_to(m1)\n",
    "\n",
    "# load the image\n",
    "image = ee.Image(\"users/rosamaguilar/tutorial/subset\")  \n",
    "\n",
    "# specify visualization parameters\n",
    "vis_params = {'min': 0, 'max':2048, 'bands':'b5,b3,b2'}\n",
    "\n",
    "# add the image \"subset\" using the function previoulsy defined\n",
    "folium_gee_layer(m1,image,vis_params,folium_kwargs={'overlay':True,'name':'Subset'})\n",
    "\n",
    "# add a control layer to the map\n",
    "m1.add_child(folium.LayerControl())\n",
    "\n",
    "# shows the map\n",
    "m1"
   ]
  }
 ],
 "metadata": {
  "kernelspec": {
   "display_name": "Python 3",
   "language": "python",
   "name": "python3"
  },
  "language_info": {
   "codemirror_mode": {
    "name": "ipython",
    "version": 3
   },
   "file_extension": ".py",
   "mimetype": "text/x-python",
   "name": "python",
   "nbconvert_exporter": "python",
   "pygments_lexer": "ipython3",
   "version": "3.5.1"
  }
 },
 "nbformat": 4,
 "nbformat_minor": 2
}
