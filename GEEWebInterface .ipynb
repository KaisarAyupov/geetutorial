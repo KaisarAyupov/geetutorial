{
 "cells": [
  {
   "cell_type": "markdown",
   "metadata": {},
   "source": [
    "## Overview of GEE web interface"
   ]
  },
  {
   "cell_type": "markdown",
   "metadata": {},
   "source": [
    "Although we will use the python API of GEE, it is good to take a look to the GEE Javascript playground.\n",
    "We ca distinguish 4 main areas as the image below shows. \n",
    "1. Left panel. Here we have three tabs: <i>scripts</i>, <i>asset</i> and <i>docs</i>. \n",
    "2. Middle panel. A script editor.\n",
    "3. Right panel. It consist of three tabs: <i>Inspector</i>, <i>console</i> and <i>tasks</i>. \n",
    "4. Map area. We can add visualize data it in this section or edit features.<br> \n",
    "![alt text](/files/images/GEE_overview.png \"Create a folder in GEE\")"
   ]
  },
  {
   "cell_type": "markdown",
   "metadata": {},
   "source": [
    "### Data Visualization"
   ]
  },
  {
   "cell_type": "markdown",
   "metadata": {},
   "source": [
    "GEE has a large amount of Earth data free available for researchers. However, sometimes we need to process our own data."
   ]
  },
  {
   "cell_type": "markdown",
   "metadata": {},
   "source": [
    "To add our data in GEE. We will create a new folder <b>Tutorial<b>  \n",
    "![alt text](/files/images/create_folder_gee2.png \"Create a folder in GEE\")"
   ]
  },
  {
   "cell_type": "markdown",
   "metadata": {},
   "source": [
    "We will load the image <i>subset.tif </i>. This is a subset of a Worldview-2 image and it was acquired in 2014.\n",
    "Load the image in your GEE asset as we see in the image below. For now, keep the default options.\n",
    "![alt text](/files/images/insert_image.png \"Insert image in the tutorial folder\")\n"
   ]
  },
  {
   "cell_type": "markdown",
   "metadata": {},
   "source": [
    "Now that we can visualize the image loaded.\n",
    "To do this, we will execute the commands below"
   ]
  },
  {
   "cell_type": "code",
   "execution_count": 1,
   "metadata": {
    "collapsed": true
   },
   "outputs": [],
   "source": [
    "import ee \n",
    "ee.Initialize() \n",
    "from IPython.display import Image  # To display image thumbnails."
   ]
  },
  {
   "cell_type": "code",
   "execution_count": 2,
   "metadata": {
    "collapsed": false
   },
   "outputs": [
    {
     "data": {
      "text/html": [
       "<img src=\"https://earthengine.googleapis.com/api/thumb?thumbid=882660dc499f3aefeb7137b361f9c3c2&token=cc575633b1901bcf4e84e40331f36513\"/>"
      ],
      "text/plain": [
       "<IPython.core.display.Image object>"
      ]
     },
     "execution_count": 2,
     "metadata": {},
     "output_type": "execute_result"
    }
   ],
   "source": [
    "# load our image \n",
    "image = ee.Image(\"users/rosamaguilar/tutorial/subset\")\n",
    "# display the image, The maximun pixel value is 2048 because it has 11-bit per pixel \n",
    "# the visualization in GEE is 8-bits. Then, min and max values are used to stretch  \n",
    "Image(url=image.getThumbUrl({'min':0, 'max':2048})) "
   ]
  },
  {
   "cell_type": "markdown",
   "metadata": {},
   "source": [
    "Above we have an image but there is no clue about which bands are displayed and their order. \n",
    "We can specify those parameters."
   ]
  },
  {
   "cell_type": "code",
   "execution_count": 3,
   "metadata": {
    "collapsed": false
   },
   "outputs": [
    {
     "data": {
      "text/html": [
       "<img src=\"https://earthengine.googleapis.com/api/thumb?thumbid=eddf5ee15c184c3a63e946abe3211f45&token=ed47f921630c9242fbd36e3195139145\"/>"
      ],
      "text/plain": [
       "<IPython.core.display.Image object>"
      ]
     },
     "execution_count": 3,
     "metadata": {},
     "output_type": "execute_result"
    }
   ],
   "source": [
    "# set band order RGB natural color composite\n",
    "# gamma corrections factors (one per band)\n",
    "Image(url=image.getThumbUrl({'min': 0, 'max': 2048,'bands': 'b5,b3,b2', 'gamma': '0.95, 1.1, 1'}))"
   ]
  },
  {
   "cell_type": "markdown",
   "metadata": {},
   "source": [
    "You may try other band combinations and gamma factors."
   ]
  },
  {
   "cell_type": "markdown",
   "metadata": {},
   "source": [
    "#### Visualize vector data"
   ]
  },
  {
   "cell_type": "markdown",
   "metadata": {},
   "source": [
    "Assuming we have a kml file with our vector data, namely <i>parcels</i>\n",
    "We need to create a <i>fusion table </i> (ft) with that file. \n",
    "Afterward, we can use the id of the ft to create a GEE <i>feature collection </i>. "
   ]
  },
  {
   "cell_type": "code",
   "execution_count": 5,
   "metadata": {
    "collapsed": true
   },
   "outputs": [],
   "source": [
    "# create the feature collection from the fusion table\n",
    "fc = ee.FeatureCollection ('ft:1K41m-umQ1K8Ys-9bVTqoEYzwKD6xEzIVTPELdVkK')"
   ]
  },
  {
   "cell_type": "code",
   "execution_count": 6,
   "metadata": {
    "collapsed": false
   },
   "outputs": [
    {
     "name": "stdout",
     "output_type": "stream",
     "text": [
      "['name', 'description', 'id', 'class', 'system:index']\n"
     ]
    }
   ],
   "source": [
    "# listing the fields in the feature collection\n",
    "print(fc.first().propertyNames().getInfo())"
   ]
  },
  {
   "cell_type": "code",
   "execution_count": 7,
   "metadata": {
    "collapsed": false
   },
   "outputs": [
    {
     "name": "stdout",
     "output_type": "stream",
     "text": [
      "{'geo_column': 'geometry', 'type': 'FeatureCollection', 'columns': {'class': 'Number', 'description': 'String', 'name': 'String', 'id': 'Number'}, 'features': [{'id': '2', 'type': 'Feature', 'geometry': {'geodesic': True, 'type': 'Polygon', 'coordinates': [[[-5.199613999999999, 12.165225000000001], [-5.1990310000000015, 12.165136], [-5.198975, 12.165533], [-5.199543, 12.165571], [-5.199613999999999, 12.165225000000001]]]}, 'properties': {'class': 5.0, 'description': '', 'name': '', 'id': 1.0}}, {'id': '3', 'type': 'Feature', 'geometry': {'geodesic': True, 'type': 'Polygon', 'coordinates': [[[-5.201773, 12.16407], [-5.200976999999998, 12.164202999999999], [-5.201564, 12.164885], [-5.201773, 12.16407]]]}, 'properties': {'class': 2.0, 'description': '', 'name': '', 'id': 2.0}}, {'id': '4', 'type': 'Feature', 'geometry': {'geodesic': True, 'type': 'Polygon', 'coordinates': [[[-5.1967729999999985, 12.167687000000004], [-5.196262, 12.167743999999997], [-5.196262, 12.168028], [-5.196488999999999, 12.168256], [-5.1967729999999985, 12.168198999999996], [-5.1967729999999985, 12.167687000000004]]]}, 'properties': {'class': 4.0, 'description': '', 'name': '', 'id': 4.0}}, {'id': '5', 'type': 'Feature', 'geometry': {'geodesic': True, 'type': 'Polygon', 'coordinates': [[[-5.191319, 12.16193], [-5.191149, 12.161627], [-5.191149000000002, 12.161608], [-5.190921, 12.161874], [-5.191072999999999, 12.162120000000002], [-5.191186999999999, 12.162366000000002], [-5.191319, 12.16193]]]}, 'properties': {'class': 1.0, 'description': '', 'name': '', 'id': 5.0}}, {'id': '6', 'type': 'Feature', 'geometry': {'geodesic': True, 'type': 'Polygon', 'coordinates': [[[-5.197701, 12.169183], [-5.197038000000002, 12.169297000000006], [-5.197171, 12.169600000000003], [-5.197777, 12.169562], [-5.197701, 12.169183]]]}, 'properties': {'class': 5.0, 'description': '', 'name': '', 'id': 5.0}}, {'id': '7', 'type': 'Feature', 'geometry': {'geodesic': True, 'type': 'Polygon', 'coordinates': [[[-5.191678999999998, 12.166437000000004], [-5.191414, 12.166456], [-5.191452, 12.166665], [-5.191755, 12.166627], [-5.191678999999998, 12.166437000000004]]]}, 'properties': {'class': 1.0, 'description': '', 'name': '', 'id': 6.0}}, {'id': '8', 'type': 'Feature', 'geometry': {'geodesic': True, 'type': 'Polygon', 'coordinates': [[[-5.197019000000002, 12.165907], [-5.196754, 12.165888000000002], [-5.196696999999999, 12.166059000000002], [-5.196640999999999, 12.166059000000002], [-5.196564999999998, 12.166228999999998], [-5.197038000000002, 12.166153], [-5.197019000000002, 12.165907]]]}, 'properties': {'class': 3.0, 'description': '', 'name': '', 'id': 7.0}}, {'id': '9', 'type': 'Feature', 'geometry': {'geodesic': True, 'type': 'Polygon', 'coordinates': [[[-5.194178999999998, 12.160018000000003], [-5.194273, 12.160169000000003], [-5.194348999999999, 12.160377], [-5.194614, 12.160226], [-5.194178999999998, 12.160018000000003]]]}, 'properties': {'class': 4.0, 'description': '', 'name': '', 'id': 8.0}}, {'id': '10', 'type': 'Feature', 'geometry': {'geodesic': True, 'type': 'Polygon', 'coordinates': [[[-5.192569, 12.161523000000004], [-5.192304000000002, 12.161485], [-5.192304, 12.161694000000006], [-5.1926070000000015, 12.161750000000003], [-5.192569, 12.161523000000004]]]}, 'properties': {'class': 2.0, 'description': '', 'name': '', 'id': 9.0}}, {'id': '11', 'type': 'Feature', 'geometry': {'geodesic': True, 'type': 'Polygon', 'coordinates': [[[-5.198533999999999, 12.162147999999993], [-5.198724000000001, 12.161730999999996], [-5.198174, 12.161656], [-5.198023, 12.162053000000004], [-5.198533999999999, 12.162147999999993]]]}, 'properties': {'class': 3.0, 'description': '', 'name': '', 'id': 10.0}}, {'id': '12', 'type': 'Feature', 'geometry': {'geodesic': True, 'type': 'Polygon', 'coordinates': [[[-5.193653000000002, 12.16407], [-5.193397, 12.164189], [-5.1933880000000014, 12.164255], [-5.193691, 12.164193], [-5.193653000000002, 12.16407]]]}, 'properties': {'class': 3.0, 'description': '', 'name': '', 'id': 11.0}}, {'id': '13', 'type': 'Feature', 'geometry': {'geodesic': True, 'type': 'Polygon', 'coordinates': [[[-5.199652000000002, 12.167493], [-5.199652000000002, 12.167383999999997], [-5.199608999999998, 12.167313], [-5.1995, 12.167298999999998], [-5.199400999999998, 12.167331999999998], [-5.199396000000001, 12.167346999999994], [-5.199396000000001, 12.167441], [-5.199391, 12.167498], [-5.199348999999999, 12.167526], [-5.199254000000002, 12.167616], [-5.1995520000000015, 12.167640000000004], [-5.199652000000002, 12.167493]]]}, 'properties': {'class': 1.0, 'description': '', 'name': '', 'id': 12.0}}], 'id': 'ft:1K41m-umQ1K8Ys-9bVTqoEYzwKD6xEzIVTPELdVkK', 'properties': {'DocID': '1K41m-umQ1K8Ys-9bVTqoEYzwKD6xEzIVTPELdVkK', 'name': 'parcel'}}\n"
     ]
    }
   ],
   "source": [
    "# getting information about the Feature collection\n",
    "print(fc.getInfo())"
   ]
  },
  {
   "cell_type": "code",
   "execution_count": 8,
   "metadata": {
    "collapsed": false
   },
   "outputs": [
    {
     "name": "stdout",
     "output_type": "stream",
     "text": [
      "{'id': '2', 'type': 'Feature', 'geometry': {'geodesic': True, 'type': 'Polygon', 'coordinates': [[[-5.199613999999999, 12.165225000000001], [-5.1990310000000015, 12.165136], [-5.198975, 12.165533], [-5.199543, 12.165571], [-5.199613999999999, 12.165225000000001]]]}, 'properties': {'class': 5.0, 'description': '', 'name': '', 'id': 1.0}}\n"
     ]
    }
   ],
   "source": [
    "# getting information about one feature (the first)\n",
    "print(fc.first().getInfo())"
   ]
  },
  {
   "cell_type": "code",
   "execution_count": 9,
   "metadata": {
    "collapsed": false
   },
   "outputs": [
    {
     "name": "stdout",
     "output_type": "stream",
     "text": [
      "12\n"
     ]
    }
   ],
   "source": [
    "# counting the number of features in the collection\n",
    "print(ee.Number(fc.aggregate_count('.all')).getInfo())"
   ]
  },
  {
   "cell_type": "code",
   "execution_count": null,
   "metadata": {
    "collapsed": true
   },
   "outputs": [],
   "source": []
  }
 ],
 "metadata": {
  "kernelspec": {
   "display_name": "Python 3",
   "language": "python",
   "name": "python3"
  },
  "language_info": {
   "codemirror_mode": {
    "name": "ipython",
    "version": 3
   },
   "file_extension": ".py",
   "mimetype": "text/x-python",
   "name": "python",
   "nbconvert_exporter": "python",
   "pygments_lexer": "ipython3",
   "version": "3.5.1"
  }
 },
 "nbformat": 4,
 "nbformat_minor": 2
}
