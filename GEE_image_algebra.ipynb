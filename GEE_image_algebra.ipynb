{
 "cells": [
  {
   "cell_type": "markdown",
   "metadata": {},
   "source": [
    "______\n",
    "<img style=\"float: right;\" src=\"./images/headerlogo.png\">\n",
    "## Google Earth Engine Tutorial\n",
    "### Image Algebra\n",
    "_____"
   ]
  },
  {
   "cell_type": "markdown",
   "metadata": {},
   "source": [
    "In this notebook image algebra will be illustrated by calculating losses on NDVIs given two images acquired in different dates over the same study area. First, NDVIs will be extracted. Second, these indices will be filtered to keep only the positive values (vegetation presence). Third, the difference between positive indices is calculated and again is filtered to keep only the losses. Finally, a mask will be created to expose areas where the NDVI had losses. "
   ]
  },
  {
   "cell_type": "code",
   "execution_count": 8,
   "metadata": {
    "collapsed": false
   },
   "outputs": [
    {
     "data": {
      "text/html": [
       "<img src=\"https://earthengine.googleapis.com/api/thumb?thumbid=c804faf301db0a9cdf16ea6348c2bc78&token=c989aca35530029d32a0dfb54608a059\"/>"
      ],
      "text/plain": [
       "<IPython.core.display.Image object>"
      ]
     },
     "metadata": {},
     "output_type": "display_data"
    },
    {
     "data": {
      "text/html": [
       "<img src=\"https://earthengine.googleapis.com/api/thumb?thumbid=9015a1f4ed471b00db84b2fae13b5cc9&token=951515aca1cf3b164a73f96d2c3321d0\"/>"
      ],
      "text/plain": [
       "<IPython.core.display.Image object>"
      ]
     },
     "metadata": {},
     "output_type": "display_data"
    },
    {
     "data": {
      "image/png": "[encoded data removed]",
      "text/plain": [
       "<matplotlib.figure.Figure at 0x16b06b29908>"
      ]
     },
     "metadata": {},
     "output_type": "display_data"
    }
   ],
   "source": [
    "# Now we will like to dismiss the gaining vegetation and only take into account the losses\n",
    "# Losses mean than vegetation index in jul was higher than vegetation index in nov\n",
    "import ee\n",
    "ee.Initialize()\n",
    "from IPython.display import Image\n",
    "from IPython.display import display\n",
    "\n",
    "imgjuls = ee.Image('users/rosamaguilar/tutorial/imgjul')\n",
    "imgnovs = ee.Image('users/rosamaguilar/tutorial/imgnov')\n",
    "\n",
    "ndvijul = imgjuls.normalizedDifference(['b7', 'b5']).rename(['NDVI'])\n",
    "ndvinov = imgnovs.normalizedDifference(['b7', 'b5']).rename(['NDVI'])\n",
    "\n",
    "ndvijul_positive = ndvijul.where(ndvijul.lte(0),0)   # to keep positive values\n",
    "ndvinov_positive = ndvinov.where(ndvinov.lte(0),0)   # to keep positive values\n",
    "# define a palette for visualization, greenest color imply higher values\n",
    "palette =','.join(['ffffbf','a6d96a','1a9641'])\n",
    "\n",
    "img1 = Image(url =ndvijul_positive.getThumbUrl({'min': 0, 'max': 1, 'palette':palette }))\n",
    "img2 = Image(url =ndvinov_positive.getThumbUrl({'min': 0, 'max': 1, 'palette':palette }))\n",
    "display(img1,img2)\n",
    "\n",
    "\n",
    "# create the color bar\n",
    "import matplotlib.pyplot as plt\n",
    "from matplotlib.colors import LinearSegmentedColormap\n",
    "from matplotlib import cm, colorbar\n",
    "from matplotlib import colors as mcolors\n",
    "\n",
    "\n",
    "# format the pallete \n",
    "palette = palette.split(',')\n",
    "color_list = list(map(lambda x: '#'+x.strip(), palette))\n",
    "# create a linear segmented colormap with the specified name from a given sequence of colors \n",
    "cmap_obj = LinearSegmentedColormap.from_list('palette', color_list)\n",
    "# apply a linear normalization to the palette using min and max\n",
    "cnorm = mcolors.Normalize(vmin=0, vmax=1) \n",
    "# draw a bar\n",
    "fig = plt.figure(figsize=(5, 0.5))\n",
    "ax = plt.subplot(111)\n",
    "cbar = colorbar.ColorbarBase(ax, norm=cnorm, orientation='horizontal', cmap=cmap_obj)\n",
    "plt.show();"
   ]
  },
  {
   "cell_type": "code",
   "execution_count": 5,
   "metadata": {
    "collapsed": false
   },
   "outputs": [
    {
     "data": {
      "text/html": [
       "<img src=\"https://earthengine.googleapis.com/api/thumb?thumbid=5a5de6b80830c68742bc5d74fbe624f1&token=6f40b5f2470d88eed194adc184a715de\"/>"
      ],
      "text/plain": [
       "<IPython.core.display.Image object>"
      ]
     },
     "execution_count": 5,
     "metadata": {},
     "output_type": "execute_result"
    }
   ],
   "source": [
    "# Calculate the difference\n",
    "vi_diff = ndvijul_positive.subtract(ndvinov_positive)  \n",
    "# create a mask \n",
    "mask = ee.Image(1).toByte().clip(vi_diff.geometry())\n",
    "mask = mask.where(vi_diff.gte(0),0)  \n",
    "\n",
    "# apply the mask to the last image (nov) \n",
    "imgnovmasked = imgnovs.mask(mask) \n",
    "# transparent pixels are areas where vegetation  had gain or remain equal\n",
    "Image(url=imgnovmasked.getThumbUrl({'min': 0, 'max': 2048,'bands': 'b5,b3,b2'}))"
   ]
  },
  {
   "cell_type": "code",
   "execution_count": null,
   "metadata": {
    "collapsed": true
   },
   "outputs": [],
   "source": []
  }
 ],
 "metadata": {
  "kernelspec": {
   "display_name": "Python 3",
   "language": "python",
   "name": "python3"
  },
  "language_info": {
   "codemirror_mode": {
    "name": "ipython",
    "version": 3
   },
   "file_extension": ".py",
   "mimetype": "text/x-python",
   "name": "python",
   "nbconvert_exporter": "python",
   "pygments_lexer": "ipython3",
   "version": "3.5.1"
  }
 },
 "nbformat": 4,
 "nbformat_minor": 2
}
