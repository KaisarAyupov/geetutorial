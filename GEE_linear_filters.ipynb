{
 "cells": [
  {
   "cell_type": "markdown",
   "metadata": {},
   "source": [
    "______\n",
    "<img style=\"float: right;\" src=\"./images/headerlogo.png\">\n",
    "## Google Earth Engine Tutorial\n",
    "### Linear filters\n",
    "_____\n",
    "\n",
    "\n",
    "\n"
   ]
  },
  {
   "cell_type": "markdown",
   "metadata": {},
   "source": [
    "It is not uncommon to apply filters to enhance images for visualization or previous step for other image processing. Popular methods are convolution filters. These methods calculate a new image applying a moving window over the original pixels contained in the defined window. The following image adapted from [Richards, J. (2013)](http://www.springer.com/gp/book/9783642300615), illustrates the operation of a moving window.<br>\n",
    "![alt text](./images/filter_window.png \"Filter window over an image\")\n",
    "\n",
    "In GEE the term *kernel* is used interchangeable with *kernel*. Then, to apply a filter, it is necessary to define the weigths and size of the moving window.  After defining the filter, a *convolve* function is used to apply it. \n",
    "GEE includes several filters or kernels. In this example,\n",
    "we will select a square kernel that has the following parameters: <br>\n",
    "+ *radius (Float)* :  The radius of the kernel to generate. For a 3x3 kernel, we should use 1, for 5x5 kernel we should use 2 and so on. <br>\n",
    "+ *units (String) *:The system of measurement for the kernel \"meters\" or \"pixels\". Default value: \"pixels\".<br>\n",
    "+ *normalize (Boolean)*: Indicates if the kernel values should be normalize to sum 1. Default value: \"True\".<br>\n",
    "+ *magnitude (Float) *: Scale each value by this amount. Default: 1.<br>\n",
    "The kernel definition of a mean filter looks like the image below: <br> \n",
    "![alt text](./images/filter_mean.png \"Kernel definition\")\n",
    "This filter will smooth the image as can be seen after applying the following code."
   ]
  },
  {
   "cell_type": "code",
   "execution_count": 1,
   "metadata": {
    "collapsed": false
   },
   "outputs": [
    {
     "data": {
      "text/html": [
       "<img src=\"https://earthengine.googleapis.com/api/thumb?thumbid=44a38a5cf32d64d7c86bb51d6b60defa&token=41d7f193fb021b98f5dab2960d1a2826\"/>"
      ],
      "text/plain": [
       "<IPython.core.display.Image object>"
      ]
     },
     "execution_count": 1,
     "metadata": {},
     "output_type": "execute_result"
    }
   ],
   "source": [
    "import ee\n",
    "from IPython.display import Image\n",
    "ee.Initialize()\n",
    "# load our image \n",
    "visimage = ee.Image(\"users/rosamaguilar/tutorial/subset\")\n",
    "# Rename the bands for convenience \n",
    "visimage = visimage.select(\n",
    "   ['b5','b3','b2'],   # current names\n",
    "    ['Red', 'Green', 'Blue']  # new names\n",
    ")\n",
    "# visualize the original image\n",
    "Image(url=visimage.getThumbUrl({'min': 0, 'max': 2048,'bands': 'Red,Green,Blue'}))"
   ]
  },
  {
   "cell_type": "code",
   "execution_count": 2,
   "metadata": {
    "collapsed": false
   },
   "outputs": [
    {
     "data": {
      "text/html": [
       "<img src=\"https://earthengine.googleapis.com/api/thumb?thumbid=2b3db1db1bfec3628f7297f030462bc1&token=20a425238b98484a5aa69b4dc784c42a\"/>"
      ],
      "text/plain": [
       "<IPython.core.display.Image object>"
      ]
     },
     "execution_count": 2,
     "metadata": {},
     "output_type": "execute_result"
    }
   ],
   "source": [
    "# defining the filter\n",
    "lpk = ee.Kernel.square(radius = 1, units = 'pixels', normalize= True)  # filter mean of 3*3 \n",
    "# apply the filter using the function convolve\n",
    "smooth3x3 =    visimage.convolve(lpk)\n",
    "# visualize the result\n",
    "Image(url=smooth3x3.getThumbUrl({'min': 0, 'max': 2048,'bands': 'Red,Green,Blue'}))"
   ]
  },
  {
   "cell_type": "markdown",
   "metadata": {
    "collapsed": false,
    "slideshow": {
     "slide_type": "slide"
    }
   },
   "source": [
    "```python\n",
    "# Increasing the size of the moving window. \n",
    "# defining the filter\n",
    "lpk = ee.Kernel.square(radius = 3, units = 'pixels', normalize= True)  # filtro de 7*7 \n",
    "# apply the filter using the function convolve\n",
    "smooth7x7 =    visimage.convolve(lpk)\n",
    "# visualize the result\n",
    "Image(url=smooth7x7.getThumbUrl({'min': 0, 'max': 2048,'bands': 'Red,Green,Blue'}))\n",
    "```"
   ]
  },
  {
   "cell_type": "markdown",
   "metadata": {},
   "source": [
    "Several predefined kernel are available in GEE. Circle, rectangle, Gaussian, among others. <br>\n",
    "We can also define the kernel using the <i>fixed</i> kernel option. <br>\n",
    "Parameters for a fixed kernel are: <br>\n",
    "+ *width (Integer)*: The width of the kernel in pixels.\n",
    "+ *height (Integer)*: The height of the kernel in pixels.\n",
    "+ *weights (List)*: The pixel values of the kernel.\n",
    "+ *x (Integer, default: -1)*:\n",
    "The location of the focus, as an offset from the left.\n",
    "+ *y (Integer, default: -1)*:The location of the focus, as an offset from the top.\n",
    "+ *normalize (Boolean, default: false)*:Normalize the kernel values to sum to 1."
   ]
  },
  {
   "cell_type": "markdown",
   "metadata": {
    "collapsed": false,
    "slideshow": {
     "slide_type": "slide"
    }
   },
   "source": [
    "```python\n",
    "# Lets apply a edge detection filter of 1x3.\n",
    "# define the kernel\n",
    "list =  [[-1,0 , 1]]\n",
    "kernel = ee.Kernel.fixed(3, 1, list, -1, 0, False)\n",
    "print(kernel.getInfo())\n",
    "```"
   ]
  },
  {
   "cell_type": "code",
   "execution_count": 5,
   "metadata": {
    "collapsed": false
   },
   "outputs": [
    {
     "data": {
      "text/html": [
       "<img src=\"https://earthengine.googleapis.com/api/thumb?thumbid=5e952759201cd263ffae071e4a5c04d0&token=c3f1c3ec0d50abddfa843d59dd32bf71\"/>"
      ],
      "text/plain": [
       "<IPython.core.display.Image object>"
      ]
     },
     "execution_count": 5,
     "metadata": {},
     "output_type": "execute_result"
    }
   ],
   "source": [
    "# apply the kernel\n",
    "edge1x3 = visimage.convolve(kernel)\n",
    "\n",
    "# visualize the result\n",
    "Image(url=edge1x3.getThumbUrl({'min': 0, 'max': 2048,'bands': 'Red,Green,Blue'}))"
   ]
  },
  {
   "cell_type": "code",
   "execution_count": 6,
   "metadata": {
    "collapsed": false
   },
   "outputs": [
    {
     "name": "stdout",
     "output_type": "stream",
     "text": [
      "{'x': 0, 'height': 3, 'weights': '\\n  [-1.0]\\n  [0.0]\\n  [1.0]', 'center': [0, 0], 'type': 'Kernel.fixed', 'width': 1, 'y': 0}\n"
     ]
    },
    {
     "data": {
      "text/html": [
       "<img src=\"https://earthengine.googleapis.com/api/thumb?thumbid=08bf6cede016b3c929119b02b64f8319&token=441a22b116027f9fcdbc34f58766f41d\"/>"
      ],
      "text/plain": [
       "<IPython.core.display.Image object>"
      ]
     },
     "execution_count": 6,
     "metadata": {},
     "output_type": "execute_result"
    }
   ],
   "source": [
    "# Lets apply a edge detection filter of 3x1.\n",
    "# define the kernel\n",
    "list =  [[-1],[0] , [1]]\n",
    "kernel = ee.Kernel.fixed(1, 3, list, -1, 0, False)\n",
    "print(kernel.getInfo())\n",
    "# apply the kernel\n",
    "edge1x3 = visimage.convolve(kernel)\n",
    "\n",
    "# visualize the result\n",
    "Image(url=edge1x3.getThumbUrl({'min': 0, 'max': 2048,'bands': 'Red,Green,Blue'}))"
   ]
  },
  {
   "cell_type": "markdown",
   "metadata": {},
   "source": [
    "It maybe of interest to apply a [laplacian filter](https://en.wikipedia.org/wiki/Discrete_Laplace_operator).  <br>\n",
    " A possible kernel for a laplacian filter is: <br>\n",
    "![alt text](./images/laplacian.png \"Laplacian Kernel\")"
   ]
  },
  {
   "cell_type": "code",
   "execution_count": 7,
   "metadata": {
    "collapsed": false
   },
   "outputs": [
    {
     "name": "stdout",
     "output_type": "stream",
     "text": [
      "{'center': [1, 1],\n",
      " 'height': 3,\n",
      " 'type': 'Kernel.fixed',\n",
      " 'weights': '\\n  [0.0, 1.0, 0.0]\\n  [1.0, -4.0, 1.0]\\n  [0.0, 1.0, 0.0]',\n",
      " 'width': 3,\n",
      " 'x': 1,\n",
      " 'y': 1}\n"
     ]
    },
    {
     "data": {
      "text/html": [
       "<img src=\"https://earthengine.googleapis.com/api/thumb?thumbid=584abb06aff00cb1114c4522f660ebaf&token=5bea68eb1352769c607665c4baf04770\"/>"
      ],
      "text/plain": [
       "<IPython.core.display.Image object>"
      ]
     },
     "execution_count": 7,
     "metadata": {},
     "output_type": "execute_result"
    }
   ],
   "source": [
    "# define the kernel for laplacian filter\n",
    "import pprint\n",
    "list =  [0,1,0]\n",
    "center  = [1,-4,1]\n",
    "klist = [list,center,list]\n",
    "kernel = ee.Kernel.fixed(3, 3, klist, -1, -1, False)\n",
    "\n",
    "pprint.pprint(kernel.getInfo())\n",
    "# apply the kernel\n",
    "laplacian = visimage.convolve(kernel)\n",
    "\n",
    "# visualize the result\n",
    "\n",
    "Image(url=laplacian.getThumbUrl({'min': 0, 'max': 2048,'bands': 'Red,Green,Blue'}))"
   ]
  },
  {
   "cell_type": "code",
   "execution_count": 8,
   "metadata": {
    "collapsed": false
   },
   "outputs": [
    {
     "name": "stdout",
     "output_type": "stream",
     "text": [
      "{'center': [2, 2],\n",
      " 'radius': 2.0,\n",
      " 'type': 'Kernel.gaussian',\n",
      " 'weights': '\\n'\n",
      "            '  [0.0029690167439504977, 0.013306209891013656, '\n",
      "            '0.021938231279714653, 0.013306209891013656, '\n",
      "            '0.0029690167439504977]\\n'\n",
      "            '  [0.013306209891013656, 0.05963429543618016, 0.0983203313488458, '\n",
      "            '0.05963429543618016, 0.013306209891013656]\\n'\n",
      "            '  [0.021938231279714653, 0.0983203313488458, 0.1621028216371267, '\n",
      "            '0.0983203313488458, 0.021938231279714653]\\n'\n",
      "            '  [0.013306209891013656, 0.05963429543618016, 0.0983203313488458, '\n",
      "            '0.05963429543618016, 0.013306209891013656]\\n'\n",
      "            '  [0.0029690167439504977, 0.013306209891013656, '\n",
      "            '0.021938231279714653, 0.013306209891013656, '\n",
      "            '0.0029690167439504977]'}\n"
     ]
    },
    {
     "data": {
      "text/html": [
       "<img src=\"https://earthengine.googleapis.com/api/thumb?thumbid=a45f9943563ba3094a867c3e06b7cdf9&token=cd719aada45b4e237984c2679e1c7370\"/>"
      ],
      "text/plain": [
       "<IPython.core.display.Image object>"
      ]
     },
     "execution_count": 8,
     "metadata": {},
     "output_type": "execute_result"
    }
   ],
   "source": [
    "# Lets try another example, using a gaussian filter\n",
    "# define the kernel, the code below will produce a discrete aproximation of a gaussian filter with sigma= 1 and size=5x5 <br> \n",
    "gauskernel = ee.Kernel.gaussian(2,1)\n",
    "pprint.pprint(gauskernel.getInfo())\n",
    "# apply the filter\n",
    "gauss=  visimage.convolve(gauskernel)\n",
    "# visualize results \n",
    "Image(url=gauss.getThumbUrl({'min': 0, 'max': 2048,'bands': 'Red,Green,Blue'}))"
   ]
  },
  {
   "cell_type": "markdown",
   "metadata": {},
   "source": [
    "We have defined a particular laplacian kernel. But, it is also possible to use some laplacian kernels that  GEE has already defined.  The follwing code illustrates a "
   ]
  },
  {
   "cell_type": "code",
   "execution_count": 9,
   "metadata": {
    "collapsed": false
   },
   "outputs": [
    {
     "name": "stdout",
     "output_type": "stream",
     "text": [
      "{'center': [1, 1],\n",
      " 'type': 'Kernel.laplacian8',\n",
      " 'weights': '\\n  [1.0, 1.0, 1.0]\\n  [1.0, -8.0, 1.0]\\n  [1.0, 1.0, 1.0]'}\n"
     ]
    },
    {
     "data": {
      "text/html": [
       "<img src=\"https://earthengine.googleapis.com/api/thumb?thumbid=7cee86c8cb6d3cb84555c52595f31b43&token=507b62a910b7b73aa7a9fe27a844e472\"/>"
      ],
      "text/plain": [
       "<IPython.core.display.Image object>"
      ]
     },
     "execution_count": 9,
     "metadata": {},
     "output_type": "execute_result"
    }
   ],
   "source": [
    "# define the kernel <br> \n",
    "kernel = ee.Kernel.laplacian8()\n",
    "pprint.pprint(kernel.getInfo())\n",
    "# apply the filter\n",
    "laplacian8 =  visimage.convolve(kernel)\n",
    "# visualize results \n",
    "Image(url = laplacian8.getThumbUrl({'min': 0, 'max': 2048,'bands': 'Red,Green,Blue'}))"
   ]
  },
  {
   "cell_type": "code",
   "execution_count": null,
   "metadata": {
    "collapsed": true
   },
   "outputs": [],
   "source": []
  }
 ],
 "metadata": {
  "celltoolbar": "Slideshow",
  "kernelspec": {
   "display_name": "Python 3",
   "language": "python",
   "name": "python3"
  },
  "language_info": {
   "codemirror_mode": {
    "name": "ipython",
    "version": 3
   },
   "file_extension": ".py",
   "mimetype": "text/x-python",
   "name": "python",
   "nbconvert_exporter": "python",
   "pygments_lexer": "ipython3",
   "version": "3.5.1"
  }
 },
 "nbformat": 4,
 "nbformat_minor": 2
}
