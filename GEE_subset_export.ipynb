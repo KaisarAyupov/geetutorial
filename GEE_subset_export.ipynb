{
 "cells": [
  {
   "cell_type": "markdown",
   "metadata": {},
   "source": [
    "______\n",
    "<img style=\"float: right;\" src=\"./images/headerlogo.png\">\n",
    "## Google Earth Engine Tutorial\n",
    "### Subset and export \n",
    "_____"
   ]
  },
  {
   "cell_type": "markdown",
   "metadata": {
    "collapsed": true
   },
   "source": [
    "In this section, we will perform a change detection analysis. Firts, two raster subsets will be generated and exported as new images to a GEE asset. Second, NDVI will be extracted from the subsets and a change detection analysis will be performed by image algebra. "
   ]
  },
  {
   "cell_type": "markdown",
   "metadata": {},
   "source": [
    "### Subset\n",
    "A clip polygon in the format of a fusion table will be used to clip a raster. <br>\n"
   ]
  },
  {
   "cell_type": "code",
   "execution_count": 1,
   "metadata": {
    "collapsed": false
   },
   "outputs": [
    {
     "data": {
      "text/html": [
       "<img src=\"https://earthengine.googleapis.com/api/thumb?thumbid=c4db5231676a557194922923034bcc15&token=e7a228dbf190651c72ed0d91ed5a1001\"/>"
      ],
      "text/plain": [
       "<IPython.core.display.Image object>"
      ]
     },
     "execution_count": 1,
     "metadata": {},
     "output_type": "execute_result"
    }
   ],
   "source": [
    "import ee\n",
    "ee.Initialize()\n",
    "clip = ee.FeatureCollection('ft:1ESjFoDfKue9_kIZng_vWn5zPiTkawuSNdrsITTaZ')\n",
    "# this images must be changed later\n",
    "imgnov = ee.Image(\"users/STARS/DG_MALI_MULTI/054112895020_01_ML_Sukumba_2014Y11M01D_WorldView-2_ORStandard2A_transformed_topocorr\"); \n",
    "imgjul = ee.Image (\"users/STARS/DG_MALI_MULTI/054112895070_01_ML_Sukumba_2014Y07M29D_WorldView-2_ORStandard2A_transformed_topocorr\")\n",
    "from IPython.display import Image\n",
    "# Visualize the entire image\n",
    "Image(url=imgnov.getThumbUrl({'min': 0, 'max': 2048,'bands': 'b5,b3,b2'}))"
   ]
  },
  {
   "cell_type": "code",
   "execution_count": 2,
   "metadata": {
    "collapsed": false
   },
   "outputs": [
    {
     "data": {
      "text/html": [
       "<img src=\"https://earthengine.googleapis.com/api/thumb?thumbid=5333a6a9c229917fb26dbaa4ac6c54e1&token=38dee68db97c92796b49c5001b24e640\"/>"
      ],
      "text/plain": [
       "<IPython.core.display.Image object>"
      ]
     },
     "execution_count": 2,
     "metadata": {},
     "output_type": "execute_result"
    }
   ],
   "source": [
    "# Clip and visualize the image\n",
    "imgnovs=imgnov.clip(clip)\n",
    "from IPython.display import Image\n",
    "Image(url=imgnovs.getThumbUrl({'min': 0, 'max': 2048,'bands': 'b5,b3,b2'}))\n"
   ]
  },
  {
   "cell_type": "code",
   "execution_count": 3,
   "metadata": {
    "collapsed": false
   },
   "outputs": [
    {
     "name": "stdout",
     "output_type": "stream",
     "text": [
      "Export task started!\n"
     ]
    }
   ],
   "source": [
    "# The subset keep the metadata information of the original image\n",
    "# We will adjust this during the export\n",
    "\n",
    "region = clip.geometry().bounds().getInfo()['coordinates'][0]\n",
    "\n",
    "task = ee.batch.Export.image.toAsset(\n",
    "        image = imgnovs,\n",
    "        description = \"Image noviembre\",\n",
    "        assetId = 'users/rosamaguilar/tutorial/' + \"imgnovs\",\n",
    "        maxPixels=100000000,\n",
    "        region = region,\n",
    "        scale = 2)\n",
    "task.start()\n",
    "print(\"Export task started!\")"
   ]
  },
  {
   "cell_type": "code",
   "execution_count": 4,
   "metadata": {
    "collapsed": false
   },
   "outputs": [
    {
     "name": "stdout",
     "output_type": "stream",
     "text": [
      "Export task 2 started!\n"
     ]
    }
   ],
   "source": [
    "# Clip and export the other image \n",
    "imgjuls = imgjul.clip(clip)\n",
    "task = ee.batch.Export.image.toAsset(\n",
    "        image = imgjuls,\n",
    "        description = \"Image july\",\n",
    "        assetId = 'users/rosamaguilar/tutorial/' + \"imgjuls\",\n",
    "        maxPixels=100000000,\n",
    "        region = region,\n",
    "        scale = 2)\n",
    "task.start()\n",
    "print(\"Export task 2 started!\")"
   ]
  },
  {
   "cell_type": "markdown",
   "metadata": {},
   "source": [
    "It may take a while to complete the export. You can check the task status on the GEE Javascript playground. When the export task finish, you can visualize using the following code."
   ]
  },
  {
   "cell_type": "code",
   "execution_count": 5,
   "metadata": {
    "collapsed": false
   },
   "outputs": [
    {
     "data": {
      "text/html": [
       "<img src=\"https://earthengine.googleapis.com/api/thumb?thumbid=dbbb2d60c9fb56ff821015be826c6003&token=44f87eeb09b961f1dc8c44981c35eebf\"/>"
      ],
      "text/plain": [
       "<IPython.core.display.Image object>"
      ]
     },
     "execution_count": 5,
     "metadata": {},
     "output_type": "execute_result"
    }
   ],
   "source": [
    "# Visualize the subsets, Extent (footprint) of the image is adjusted.\n",
    "imgjuls = ee.Image('users/rosamaguilar/tutorial/imgjuls')\n",
    "Image(url=imgjuls.getThumbUrl({'min': 0, 'max': 2048,'bands': 'b5,b3,b2'}))"
   ]
  },
  {
   "cell_type": "code",
   "execution_count": 6,
   "metadata": {
    "collapsed": false
   },
   "outputs": [
    {
     "data": {
      "text/html": [
       "<img src=\"https://earthengine.googleapis.com/api/thumb?thumbid=00f2738de898aad547d076479f4c4878&token=07d911f8bc056060c730942aa5899ed3\"/>"
      ],
      "text/plain": [
       "<IPython.core.display.Image object>"
      ]
     },
     "execution_count": 6,
     "metadata": {},
     "output_type": "execute_result"
    }
   ],
   "source": [
    "imgnovs = ee.Image('users/rosamaguilar/tutorial/imgnovs')\n",
    "Image(url=imgnovs.getThumbUrl({'min': 0, 'max': 2048,'bands': 'b5,b3,b2'}))"
   ]
  },
  {
   "cell_type": "code",
   "execution_count": 7,
   "metadata": {
    "collapsed": false
   },
   "outputs": [
    {
     "name": "stdout",
     "output_type": "stream",
     "text": [
      "Export to drive started!\n"
     ]
    }
   ],
   "source": [
    "# This example export an image to a google drive \n",
    "  \n",
    "task = ee.batch.Export.image.toDrive(\n",
    "        image = imgjuls,\n",
    "        description = \"Image july\",\n",
    "        folder = \"pruebatest\",\n",
    "        maxPixels = 100000000,\n",
    "        region = region,\n",
    "        scale = 2)\n",
    "task.start()\n",
    "print(\"Export to drive started!\")\n",
    "    "
   ]
  },
  {
   "cell_type": "markdown",
   "metadata": {},
   "source": [
    "In the Javascript playground you can see the progress of the export and the output link when is done."
   ]
  },
  {
   "cell_type": "code",
   "execution_count": null,
   "metadata": {
    "collapsed": true
   },
   "outputs": [],
   "source": []
  }
 ],
 "metadata": {
  "kernelspec": {
   "display_name": "Python 3",
   "language": "python",
   "name": "python3"
  },
  "language_info": {
   "codemirror_mode": {
    "name": "ipython",
    "version": 3
   },
   "file_extension": ".py",
   "mimetype": "text/x-python",
   "name": "python",
   "nbconvert_exporter": "python",
   "pygments_lexer": "ipython3",
   "version": "3.5.1"
  }
 },
 "nbformat": 4,
 "nbformat_minor": 2
}
